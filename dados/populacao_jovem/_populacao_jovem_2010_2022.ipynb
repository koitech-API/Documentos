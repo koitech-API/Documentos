{
 "cells": [
  {
   "cell_type": "markdown",
   "metadata": {
    "id": "Ip8kzmzeSPth"
   },
   "source": [
    "# **IMPORTAÇÃO DAS BIBLIOTECAS UTILIZADAS E CONEXÃO COM O DRIVE**\n",
    "PARA EXECUTAR CORRETAMENTE ESTE COLAB:\n",
    " - Baixe os arquivos das planilhas e do notebook via github (disponível em: github.com/koitech-API);\n",
    " - Em um Google Drive de sua escolha, faça o upload das planilhas e do notebook e execute o código abaixo (pode ser necessário alterar o caminho do repositório no código);\n",
    " - Após conceder a permissão de acesso, o código reconhecerá as fontes de dados.\n",
    "\n",
    " Obs.: \"Executar tudo\" fará com que todos os arquivos JSON contendo os gráficos sejam acionados para download."
   ]
  },
  {
   "cell_type": "code",
   "execution_count": 4,
   "metadata": {
    "colab": {
     "base_uri": "https://localhost:8080/"
    },
    "executionInfo": {
     "elapsed": 31882,
     "status": "ok",
     "timestamp": 1761426714807,
     "user": {
      "displayName": "Guilherme",
      "userId": "17933761807338123732"
     },
     "user_tz": 180
    },
    "id": "98V4uWhXSSzF",
    "outputId": "9dab82c6-7ca1-4762-a556-598c915b1c2a"
   },
   "outputs": [
    {
     "name": "stdout",
     "output_type": "stream",
     "text": [
      "Mounted at /content/drive\n",
      "ocupadas_etário_2010.xlsx\t     populacao_residente_idade_2010.xlsx\n",
      "ocupadas_etário_2022.xlsx\t     populacao_residente_idade_2022.xlsx\n",
      "ocupadas_salarial_2010.xlsx\t     populacao_residente_total_2010.csv\n",
      "ocupadas_salarial_2022.xlsx\t     populacao_residente_total_2022.xlsx\n",
      "_populacao_jovem_2010_2022.ipynb     populacao_residente_total_SP_2010.xlsx\n",
      "populacao_nivel_instrucao_2010.xlsx  populacao_superior_completo_2010.xlsx\n",
      "populacao_nivel_instrucao_2022.xlsx  populacao_superior_completo_2022.xlsx\n"
     ]
    }
   ],
   "source": [
    "#BIBLIOTECAS UTILIZADAS\n",
    "#pandas e numpy (para tratamento dos dados contidos nas planilhas do censo)\n",
    "import pandas as pd\n",
    "import numpy as np\n",
    "\n",
    "#plotly (para construção dos gráficos)\n",
    "import plotly.express as px\n",
    "from plotly.utils import PlotlyJSONEncoder\n",
    "from plotly.subplots import make_subplots\n",
    "import plotly.graph_objects as go\n",
    "\n",
    "#google.colab (para acesso e download de arquivos)\n",
    "from google.colab import drive\n",
    "from google.colab import files\n",
    "\n",
    "#json (para converter os gráficos baixados em arquivos .json)\n",
    "import json\n",
    "\n",
    "#ACESSANDO O GOOGLE DRIVE PARA TER ACESSO ÀS PLANILHAS\n",
    "#conectando ao drive\n",
    "drive.mount('/content/drive')\n",
    "\n",
    "#listando os arquivos que serão utilizados\n",
    "!ls \"/content/drive/MyDrive/populacao_jovem\"\n"
   ]
  },
  {
   "cell_type": "markdown",
   "metadata": {
    "id": "FwGZLBtz80Ab"
   },
   "source": [
    "# **POPULAÇÃO JOVEM EMPREGADA (SJC x SP) 2010 - 2022**"
   ]
  },
  {
   "cell_type": "markdown",
   "metadata": {
    "id": "c8TDFSvx_MpV"
   },
   "source": [
    "ANO DE 2010 (responsável: Guilherme):"
   ]
  },
  {
   "cell_type": "code",
   "execution_count": null,
   "metadata": {
    "colab": {
     "base_uri": "https://localhost:8080/"
    },
    "executionInfo": {
     "elapsed": 1134,
     "status": "ok",
     "timestamp": 1761421384508,
     "user": {
      "displayName": "Guilherme",
      "userId": "17933761807338123732"
     },
     "user_tz": 180
    },
    "id": "xhfubI_D8Eto",
    "outputId": "d7a6d405-123a-44dd-e9ce-c4e3283614ab"
   },
   "outputs": [
    {
     "name": "stdout",
     "output_type": "stream",
     "text": [
      "SP capital amostra jovem ocupada x SP capital amostra ocupada: 31.58%\n",
      "SP capital amostra jovem ocupada x SP capital amostra total: 17.91%\n",
      "\n",
      "SJC amostra jovem ocupada x SJC amostra ocupada: 33.37%\n",
      "SJC amostra jovem ocupada x SJC amostra total: 19.10%\n",
      "\n"
     ]
    }
   ],
   "source": [
    "#atribuindo à variável, o conteúdo da tabela\n",
    "df_ocupadas_2010 = pd.read_excel('/content/drive/MyDrive/populacao_jovem/ocupadas_etário_2010.xlsx', skiprows=4)\n",
    "\n",
    "#removendo colunas e linhas desnecessárias / sem utilidade\n",
    "df_ocupadas_2010= df_ocupadas_2010.drop(df_ocupadas_2010.columns[[1]], axis=1)\n",
    "df_ocupadas_2010 = df_ocupadas_2010.drop(index=[0, 1])\n",
    "\n",
    "#atribuindo as legendas corretas para o cabeçalho da tabela\n",
    "df_ocupadas_2010 = df_ocupadas_2010.rename(columns={'Unnamed: 0': 'Municipio'})\n",
    "df_ocupadas_2010 = df_ocupadas_2010.rename(columns={'Unnamed: 2': 'Idade'})\n",
    "\n",
    "#atribuindo valores às linhas sem a identificação de munícipio\n",
    "df_ocupadas_2010['Municipio'] = df_ocupadas_2010['Municipio'].ffill()\n",
    "\n",
    "#filtrando para serem exibidos os dados apenas das duas cidades SP e SJC\n",
    "df_sp_ocupadas_2010 = df_ocupadas_2010[df_ocupadas_2010['Municipio'].isin(['São Paulo (SP)'])]\n",
    "df_sjc_ocupadas_2010 = df_ocupadas_2010[df_ocupadas_2010['Municipio'].isin(['São José dos Campos (SP)'])]\n",
    "\n",
    "#criando uma função recursiva para análise das razões entre as cidades\n",
    "def calcular_razoes_2010(df, nome_cidade):\n",
    "    #cálculando as populações total e jovem empregada\n",
    "    populacao_ocupada_total = df.iloc[0, 2]\n",
    "    populacao_jovem_empregada_total = df.iloc[1:5, 2].sum()\n",
    "\n",
    "    #razões\n",
    "    razao_jovens_empregados = (populacao_jovem_empregada_total / populacao_ocupada_total) * 100\n",
    "    razao_jovens_amostra = (populacao_jovem_empregada_total / df.iloc[0, 2:4].sum()) * 100\n",
    "\n",
    "    #exibição formatada\n",
    "    print(f'{nome_cidade} amostra jovem ocupada x {nome_cidade} amostra ocupada: {razao_jovens_empregados:.2f}%')\n",
    "    print(f'{nome_cidade} amostra jovem ocupada x {nome_cidade} amostra total: {razao_jovens_amostra:.2f}%')\n",
    "    print()  # linha em branco\n",
    "\n",
    "    #retornando os valores para uso posterior no gráfico\n",
    "    return {\n",
    "        \"Cidade\": nome_cidade,\n",
    "        \"Jovens / Ocupados (%)\": razao_jovens_empregados,\n",
    "        \"Jovens / Total (%)\": razao_jovens_amostra\n",
    "    }\n",
    "\n",
    "#executando as funções\n",
    "dados_ocupadas_sp_2010 = calcular_razoes_2010(df_sp_ocupadas_2010, 'SP capital')\n",
    "dados_ocupadas_sjc_2010 = calcular_razoes_2010(df_sjc_ocupadas_2010, 'SJC')\n",
    "\n",
    "#exibindo os resultados do dataframe\n",
    "df_resultados_ocupadas_2010 = pd.DataFrame([dados_ocupadas_sp_2010, dados_ocupadas_sjc_2010])"
   ]
  },
  {
   "cell_type": "markdown",
   "metadata": {
    "id": "sYRqyY9w_Yot"
   },
   "source": [
    "ANO DE 2022 (responsável: Lucas; adapdatação e padronização: Guilherme):"
   ]
  },
  {
   "cell_type": "code",
   "execution_count": null,
   "metadata": {
    "colab": {
     "base_uri": "https://localhost:8080/"
    },
    "executionInfo": {
     "elapsed": 429,
     "status": "ok",
     "timestamp": 1761421386213,
     "user": {
      "displayName": "Guilherme",
      "userId": "17933761807338123732"
     },
     "user_tz": 180
    },
    "id": "t4fxS1Q-ARZj",
    "outputId": "a55a98a3-1dce-47ed-8259-4ead8211f1f8"
   },
   "outputs": [
    {
     "name": "stdout",
     "output_type": "stream",
     "text": [
      "SP capital amostra jovem ocupada x SP capital amostra ocupada: 24.30%\n",
      "SP capital amostra jovem ocupada x SP capital amostra total: 13.38%\n",
      "\n",
      "SJC amostra jovem ocupada x SJC amostra ocupada: 24.47%\n",
      "SJC amostra jovem ocupada x SJC amostra total: 13.27%\n",
      "\n"
     ]
    }
   ],
   "source": [
    "#seção 01\n",
    "pd.set_option('display.float_format', \"{:.2f}\".format)\n",
    "df_ocupadas_2022 = pd.read_excel('/content/drive/MyDrive/populacao_jovem/ocupadas_etário_2022.xlsx')\n",
    "\n",
    "df_ocupadas_2022.drop(df_ocupadas_2022.columns[[1]], axis=1, inplace=True)\n",
    "df_ocupadas_2022.drop(index=[0,1,2,3,4,13], axis=1, inplace=True)\n",
    "\n",
    "#seção 02\n",
    "df_ocupadas_2022.columns = [\"Município\", \"Idade\", \"Ocupadas\", \"Não ocupadas\"]\n",
    "df_ocupadas_2022[\"Município\"] = df_ocupadas_2022[\"Município\"] .ffill()\n",
    "\n",
    "#seção 03\n",
    "df_sp_ocupadas_2022 = df_ocupadas_2022[df_ocupadas_2022[\"Município\"].isin([\"São Paulo (SP)\"])]\n",
    "df_sjc_ocupadas_2022 = df_ocupadas_2022[df_ocupadas_2022[\"Município\"].isin(['São José dos Campos (SP)'])]\n",
    "\n",
    "#seção 04\n",
    "def calcular_razoes_2022(df, nome_cidade):\n",
    "    populacao_ocupada_total = df.iloc[0, 2]\n",
    "    populacao_jovem_empregada_total = df.iloc[1:, 2].sum()\n",
    "\n",
    "    razao_jovens_empregados = (populacao_jovem_empregada_total / populacao_ocupada_total) * 100\n",
    "    razao_jovens_amostra = (populacao_jovem_empregada_total / df.iloc[0, 2:].sum()) * 100\n",
    "\n",
    "    print(f'{nome_cidade} amostra jovem ocupada x {nome_cidade} amostra ocupada: {razao_jovens_empregados:.2f}%')\n",
    "    print(f'{nome_cidade} amostra jovem ocupada x {nome_cidade} amostra total: {razao_jovens_amostra:.2f}%')\n",
    "    print()\n",
    "\n",
    "    return {\n",
    "        \"Cidade\": nome_cidade,\n",
    "        \"Jovens / Ocupados (%)\": razao_jovens_empregados,\n",
    "        \"Jovens / Total (%)\": razao_jovens_amostra\n",
    "    }\n",
    "\n",
    "dados_ocupadas_sp_2022 = calcular_razoes_2022(df_sp_ocupadas_2022, 'SP capital')\n",
    "dados_ocupadas_sjc_2022 = calcular_razoes_2022(df_sjc_ocupadas_2022, 'SJC')\n",
    "\n",
    "df_resultados_ocupadas_2022 = pd.DataFrame([dados_ocupadas_sp_2022, dados_ocupadas_sjc_2022])"
   ]
  },
  {
   "cell_type": "markdown",
   "metadata": {
    "id": "H5Fko2dzDejO"
   },
   "source": [
    "GRÁFICO - \"POPULAÇÃO JOVEM EMPREGADA x POPULAÇÃO TOTAL EMPREGADA 2010 x 2022\"\n",
    "\n",
    "(responsáveis: Guilherme, Lucas; adaptação e padronização: Guilherme)"
   ]
  },
  {
   "cell_type": "code",
   "execution_count": null,
   "metadata": {
    "colab": {
     "base_uri": "https://localhost:8080/",
     "height": 542
    },
    "executionInfo": {
     "elapsed": 3042,
     "status": "ok",
     "timestamp": 1761421391120,
     "user": {
      "displayName": "Guilherme",
      "userId": "17933761807338123732"
     },
     "user_tz": 180
    },
    "id": "qBVP97ndDg3w",
    "outputId": "69490ee1-0048-4fcf-d1dc-e88a0c217024"
   },
   "outputs": [
    {
     "data": {
      "text/html": [
       "<html>\n",
       "<head><meta charset=\"utf-8\" /></head>\n",
       "<body>\n",
       "    <div>            <script src=\"https://cdnjs.cloudflare.com/ajax/libs/mathjax/2.7.5/MathJax.js?config=TeX-AMS-MML_SVG\"></script><script type=\"text/javascript\">if (window.MathJax && window.MathJax.Hub && window.MathJax.Hub.Config) {window.MathJax.Hub.Config({SVG: {font: \"STIX-Web\"}});}</script>                <script type=\"text/javascript\">window.PlotlyConfig = {MathJaxConfig: 'local'};</script>\n",
       "        <script charset=\"utf-8\" src=\"https://cdn.plot.ly/plotly-2.35.2.min.js\"></script>                <div id=\"d1b0fd6c-eed2-40fb-9873-1029048b2905\" class=\"plotly-graph-div\" style=\"height:525px; width:100%;\"></div>            <script type=\"text/javascript\">                                    window.PLOTLYENV=window.PLOTLYENV || {};                                    if (document.getElementById(\"d1b0fd6c-eed2-40fb-9873-1029048b2905\")) {                    Plotly.newPlot(                        \"d1b0fd6c-eed2-40fb-9873-1029048b2905\",                        [{\"alignmentgroup\":\"True\",\"hovertemplate\":\"Indicador=Jovens \\u002f Ocupados (%)\\u003cbr\\u003eAno=2010\\u003cbr\\u003eCidade=%{x}\\u003cbr\\u003ePercentual=%{text}\\u003cextra\\u003e\\u003c\\u002fextra\\u003e\",\"legendgroup\":\"Jovens \\u002f Ocupados (%)\",\"marker\":{\"color\":\"#636efa\",\"pattern\":{\"shape\":\"\"}},\"name\":\"Jovens \\u002f Ocupados (%)\",\"offsetgroup\":\"Jovens \\u002f Ocupados (%)\",\"orientation\":\"v\",\"showlegend\":true,\"text\":[31.578437154434937,33.369097678422854],\"textposition\":\"outside\",\"x\":[\"SP capital\",\"SJC\"],\"xaxis\":\"x\",\"y\":[31.578437154434937,33.369097678422854],\"yaxis\":\"y\",\"type\":\"bar\",\"texttemplate\":\"%{text:.2f}%\"},{\"alignmentgroup\":\"True\",\"hovertemplate\":\"Indicador=Jovens \\u002f Ocupados (%)\\u003cbr\\u003eAno=2022\\u003cbr\\u003eCidade=%{x}\\u003cbr\\u003ePercentual=%{text}\\u003cextra\\u003e\\u003c\\u002fextra\\u003e\",\"legendgroup\":\"Jovens \\u002f Ocupados (%)\",\"marker\":{\"color\":\"#636efa\",\"pattern\":{\"shape\":\"\"}},\"name\":\"Jovens \\u002f Ocupados (%)\",\"offsetgroup\":\"Jovens \\u002f Ocupados (%)\",\"orientation\":\"v\",\"showlegend\":false,\"text\":[24.304059091751267,24.468559312334726],\"textposition\":\"outside\",\"x\":[\"SP capital\",\"SJC\"],\"xaxis\":\"x2\",\"y\":[24.304059091751267,24.468559312334726],\"yaxis\":\"y2\",\"type\":\"bar\",\"texttemplate\":\"%{text:.2f}%\"},{\"alignmentgroup\":\"True\",\"hovertemplate\":\"Indicador=Jovens \\u002f Total (%)\\u003cbr\\u003eAno=2010\\u003cbr\\u003eCidade=%{x}\\u003cbr\\u003ePercentual=%{text}\\u003cextra\\u003e\\u003c\\u002fextra\\u003e\",\"legendgroup\":\"Jovens \\u002f Total (%)\",\"marker\":{\"color\":\"#EF553B\",\"pattern\":{\"shape\":\"\"}},\"name\":\"Jovens \\u002f Total (%)\",\"offsetgroup\":\"Jovens \\u002f Total (%)\",\"orientation\":\"v\",\"showlegend\":true,\"text\":[17.912506587374235,19.096721769567903],\"textposition\":\"outside\",\"x\":[\"SP capital\",\"SJC\"],\"xaxis\":\"x\",\"y\":[17.912506587374235,19.096721769567903],\"yaxis\":\"y\",\"type\":\"bar\",\"texttemplate\":\"%{text:.2f}%\"},{\"alignmentgroup\":\"True\",\"hovertemplate\":\"Indicador=Jovens \\u002f Total (%)\\u003cbr\\u003eAno=2022\\u003cbr\\u003eCidade=%{x}\\u003cbr\\u003ePercentual=%{text}\\u003cextra\\u003e\\u003c\\u002fextra\\u003e\",\"legendgroup\":\"Jovens \\u002f Total (%)\",\"marker\":{\"color\":\"#EF553B\",\"pattern\":{\"shape\":\"\"}},\"name\":\"Jovens \\u002f Total (%)\",\"offsetgroup\":\"Jovens \\u002f Total (%)\",\"orientation\":\"v\",\"showlegend\":false,\"text\":[13.381825336317355,13.274261093201357],\"textposition\":\"outside\",\"x\":[\"SP capital\",\"SJC\"],\"xaxis\":\"x2\",\"y\":[13.381825336317355,13.274261093201357],\"yaxis\":\"y2\",\"type\":\"bar\",\"texttemplate\":\"%{text:.2f}%\"}],                        {\"template\":{\"data\":{\"histogram2dcontour\":[{\"type\":\"histogram2dcontour\",\"colorbar\":{\"outlinewidth\":0,\"ticks\":\"\"},\"colorscale\":[[0.0,\"#0d0887\"],[0.1111111111111111,\"#46039f\"],[0.2222222222222222,\"#7201a8\"],[0.3333333333333333,\"#9c179e\"],[0.4444444444444444,\"#bd3786\"],[0.5555555555555556,\"#d8576b\"],[0.6666666666666666,\"#ed7953\"],[0.7777777777777778,\"#fb9f3a\"],[0.8888888888888888,\"#fdca26\"],[1.0,\"#f0f921\"]]}],\"choropleth\":[{\"type\":\"choropleth\",\"colorbar\":{\"outlinewidth\":0,\"ticks\":\"\"}}],\"histogram2d\":[{\"type\":\"histogram2d\",\"colorbar\":{\"outlinewidth\":0,\"ticks\":\"\"},\"colorscale\":[[0.0,\"#0d0887\"],[0.1111111111111111,\"#46039f\"],[0.2222222222222222,\"#7201a8\"],[0.3333333333333333,\"#9c179e\"],[0.4444444444444444,\"#bd3786\"],[0.5555555555555556,\"#d8576b\"],[0.6666666666666666,\"#ed7953\"],[0.7777777777777778,\"#fb9f3a\"],[0.8888888888888888,\"#fdca26\"],[1.0,\"#f0f921\"]]}],\"heatmap\":[{\"type\":\"heatmap\",\"colorbar\":{\"outlinewidth\":0,\"ticks\":\"\"},\"colorscale\":[[0.0,\"#0d0887\"],[0.1111111111111111,\"#46039f\"],[0.2222222222222222,\"#7201a8\"],[0.3333333333333333,\"#9c179e\"],[0.4444444444444444,\"#bd3786\"],[0.5555555555555556,\"#d8576b\"],[0.6666666666666666,\"#ed7953\"],[0.7777777777777778,\"#fb9f3a\"],[0.8888888888888888,\"#fdca26\"],[1.0,\"#f0f921\"]]}],\"heatmapgl\":[{\"type\":\"heatmapgl\",\"colorbar\":{\"outlinewidth\":0,\"ticks\":\"\"},\"colorscale\":[[0.0,\"#0d0887\"],[0.1111111111111111,\"#46039f\"],[0.2222222222222222,\"#7201a8\"],[0.3333333333333333,\"#9c179e\"],[0.4444444444444444,\"#bd3786\"],[0.5555555555555556,\"#d8576b\"],[0.6666666666666666,\"#ed7953\"],[0.7777777777777778,\"#fb9f3a\"],[0.8888888888888888,\"#fdca26\"],[1.0,\"#f0f921\"]]}],\"contourcarpet\":[{\"type\":\"contourcarpet\",\"colorbar\":{\"outlinewidth\":0,\"ticks\":\"\"}}],\"contour\":[{\"type\":\"contour\",\"colorbar\":{\"outlinewidth\":0,\"ticks\":\"\"},\"colorscale\":[[0.0,\"#0d0887\"],[0.1111111111111111,\"#46039f\"],[0.2222222222222222,\"#7201a8\"],[0.3333333333333333,\"#9c179e\"],[0.4444444444444444,\"#bd3786\"],[0.5555555555555556,\"#d8576b\"],[0.6666666666666666,\"#ed7953\"],[0.7777777777777778,\"#fb9f3a\"],[0.8888888888888888,\"#fdca26\"],[1.0,\"#f0f921\"]]}],\"surface\":[{\"type\":\"surface\",\"colorbar\":{\"outlinewidth\":0,\"ticks\":\"\"},\"colorscale\":[[0.0,\"#0d0887\"],[0.1111111111111111,\"#46039f\"],[0.2222222222222222,\"#7201a8\"],[0.3333333333333333,\"#9c179e\"],[0.4444444444444444,\"#bd3786\"],[0.5555555555555556,\"#d8576b\"],[0.6666666666666666,\"#ed7953\"],[0.7777777777777778,\"#fb9f3a\"],[0.8888888888888888,\"#fdca26\"],[1.0,\"#f0f921\"]]}],\"mesh3d\":[{\"type\":\"mesh3d\",\"colorbar\":{\"outlinewidth\":0,\"ticks\":\"\"}}],\"scatter\":[{\"fillpattern\":{\"fillmode\":\"overlay\",\"size\":10,\"solidity\":0.2},\"type\":\"scatter\"}],\"parcoords\":[{\"type\":\"parcoords\",\"line\":{\"colorbar\":{\"outlinewidth\":0,\"ticks\":\"\"}}}],\"scatterpolargl\":[{\"type\":\"scatterpolargl\",\"marker\":{\"colorbar\":{\"outlinewidth\":0,\"ticks\":\"\"}}}],\"bar\":[{\"error_x\":{\"color\":\"#2a3f5f\"},\"error_y\":{\"color\":\"#2a3f5f\"},\"marker\":{\"line\":{\"color\":\"#E5ECF6\",\"width\":0.5},\"pattern\":{\"fillmode\":\"overlay\",\"size\":10,\"solidity\":0.2}},\"type\":\"bar\"}],\"scattergeo\":[{\"type\":\"scattergeo\",\"marker\":{\"colorbar\":{\"outlinewidth\":0,\"ticks\":\"\"}}}],\"scatterpolar\":[{\"type\":\"scatterpolar\",\"marker\":{\"colorbar\":{\"outlinewidth\":0,\"ticks\":\"\"}}}],\"histogram\":[{\"marker\":{\"pattern\":{\"fillmode\":\"overlay\",\"size\":10,\"solidity\":0.2}},\"type\":\"histogram\"}],\"scattergl\":[{\"type\":\"scattergl\",\"marker\":{\"colorbar\":{\"outlinewidth\":0,\"ticks\":\"\"}}}],\"scatter3d\":[{\"type\":\"scatter3d\",\"line\":{\"colorbar\":{\"outlinewidth\":0,\"ticks\":\"\"}},\"marker\":{\"colorbar\":{\"outlinewidth\":0,\"ticks\":\"\"}}}],\"scattermapbox\":[{\"type\":\"scattermapbox\",\"marker\":{\"colorbar\":{\"outlinewidth\":0,\"ticks\":\"\"}}}],\"scatterternary\":[{\"type\":\"scatterternary\",\"marker\":{\"colorbar\":{\"outlinewidth\":0,\"ticks\":\"\"}}}],\"scattercarpet\":[{\"type\":\"scattercarpet\",\"marker\":{\"colorbar\":{\"outlinewidth\":0,\"ticks\":\"\"}}}],\"carpet\":[{\"aaxis\":{\"endlinecolor\":\"#2a3f5f\",\"gridcolor\":\"white\",\"linecolor\":\"white\",\"minorgridcolor\":\"white\",\"startlinecolor\":\"#2a3f5f\"},\"baxis\":{\"endlinecolor\":\"#2a3f5f\",\"gridcolor\":\"white\",\"linecolor\":\"white\",\"minorgridcolor\":\"white\",\"startlinecolor\":\"#2a3f5f\"},\"type\":\"carpet\"}],\"table\":[{\"cells\":{\"fill\":{\"color\":\"#EBF0F8\"},\"line\":{\"color\":\"white\"}},\"header\":{\"fill\":{\"color\":\"#C8D4E3\"},\"line\":{\"color\":\"white\"}},\"type\":\"table\"}],\"barpolar\":[{\"marker\":{\"line\":{\"color\":\"#E5ECF6\",\"width\":0.5},\"pattern\":{\"fillmode\":\"overlay\",\"size\":10,\"solidity\":0.2}},\"type\":\"barpolar\"}],\"pie\":[{\"automargin\":true,\"type\":\"pie\"}]},\"layout\":{\"autotypenumbers\":\"strict\",\"colorway\":[\"#636efa\",\"#EF553B\",\"#00cc96\",\"#ab63fa\",\"#FFA15A\",\"#19d3f3\",\"#FF6692\",\"#B6E880\",\"#FF97FF\",\"#FECB52\"],\"font\":{\"color\":\"#2a3f5f\"},\"hovermode\":\"closest\",\"hoverlabel\":{\"align\":\"left\"},\"paper_bgcolor\":\"white\",\"plot_bgcolor\":\"#E5ECF6\",\"polar\":{\"bgcolor\":\"#E5ECF6\",\"angularaxis\":{\"gridcolor\":\"white\",\"linecolor\":\"white\",\"ticks\":\"\"},\"radialaxis\":{\"gridcolor\":\"white\",\"linecolor\":\"white\",\"ticks\":\"\"}},\"ternary\":{\"bgcolor\":\"#E5ECF6\",\"aaxis\":{\"gridcolor\":\"white\",\"linecolor\":\"white\",\"ticks\":\"\"},\"baxis\":{\"gridcolor\":\"white\",\"linecolor\":\"white\",\"ticks\":\"\"},\"caxis\":{\"gridcolor\":\"white\",\"linecolor\":\"white\",\"ticks\":\"\"}},\"coloraxis\":{\"colorbar\":{\"outlinewidth\":0,\"ticks\":\"\"}},\"colorscale\":{\"sequential\":[[0.0,\"#0d0887\"],[0.1111111111111111,\"#46039f\"],[0.2222222222222222,\"#7201a8\"],[0.3333333333333333,\"#9c179e\"],[0.4444444444444444,\"#bd3786\"],[0.5555555555555556,\"#d8576b\"],[0.6666666666666666,\"#ed7953\"],[0.7777777777777778,\"#fb9f3a\"],[0.8888888888888888,\"#fdca26\"],[1.0,\"#f0f921\"]],\"sequentialminus\":[[0.0,\"#0d0887\"],[0.1111111111111111,\"#46039f\"],[0.2222222222222222,\"#7201a8\"],[0.3333333333333333,\"#9c179e\"],[0.4444444444444444,\"#bd3786\"],[0.5555555555555556,\"#d8576b\"],[0.6666666666666666,\"#ed7953\"],[0.7777777777777778,\"#fb9f3a\"],[0.8888888888888888,\"#fdca26\"],[1.0,\"#f0f921\"]],\"diverging\":[[0,\"#8e0152\"],[0.1,\"#c51b7d\"],[0.2,\"#de77ae\"],[0.3,\"#f1b6da\"],[0.4,\"#fde0ef\"],[0.5,\"#f7f7f7\"],[0.6,\"#e6f5d0\"],[0.7,\"#b8e186\"],[0.8,\"#7fbc41\"],[0.9,\"#4d9221\"],[1,\"#276419\"]]},\"xaxis\":{\"gridcolor\":\"white\",\"linecolor\":\"white\",\"ticks\":\"\",\"title\":{\"standoff\":15},\"zerolinecolor\":\"white\",\"automargin\":true,\"zerolinewidth\":2},\"yaxis\":{\"gridcolor\":\"white\",\"linecolor\":\"white\",\"ticks\":\"\",\"title\":{\"standoff\":15},\"zerolinecolor\":\"white\",\"automargin\":true,\"zerolinewidth\":2},\"scene\":{\"xaxis\":{\"backgroundcolor\":\"#E5ECF6\",\"gridcolor\":\"white\",\"linecolor\":\"white\",\"showbackground\":true,\"ticks\":\"\",\"zerolinecolor\":\"white\",\"gridwidth\":2},\"yaxis\":{\"backgroundcolor\":\"#E5ECF6\",\"gridcolor\":\"white\",\"linecolor\":\"white\",\"showbackground\":true,\"ticks\":\"\",\"zerolinecolor\":\"white\",\"gridwidth\":2},\"zaxis\":{\"backgroundcolor\":\"#E5ECF6\",\"gridcolor\":\"white\",\"linecolor\":\"white\",\"showbackground\":true,\"ticks\":\"\",\"zerolinecolor\":\"white\",\"gridwidth\":2}},\"shapedefaults\":{\"line\":{\"color\":\"#2a3f5f\"}},\"annotationdefaults\":{\"arrowcolor\":\"#2a3f5f\",\"arrowhead\":0,\"arrowwidth\":1},\"geo\":{\"bgcolor\":\"white\",\"landcolor\":\"#E5ECF6\",\"subunitcolor\":\"white\",\"showland\":true,\"showlakes\":true,\"lakecolor\":\"white\"},\"title\":{\"x\":0.05},\"mapbox\":{\"style\":\"light\"}}},\"xaxis\":{\"anchor\":\"y\",\"domain\":[0.0,0.49],\"title\":{\"text\":\"Cidade\"}},\"yaxis\":{\"anchor\":\"x\",\"domain\":[0.0,1.0],\"title\":{\"text\":\"Percentual (%)\"}},\"xaxis2\":{\"anchor\":\"y2\",\"domain\":[0.51,1.0],\"matches\":\"x\",\"title\":{\"text\":\"Cidade\"}},\"yaxis2\":{\"anchor\":\"x2\",\"domain\":[0.0,1.0],\"matches\":\"y\",\"showticklabels\":false},\"annotations\":[{\"font\":{},\"showarrow\":false,\"text\":\"Ano=2010\",\"x\":0.245,\"xanchor\":\"center\",\"xref\":\"paper\",\"y\":1.0,\"yanchor\":\"bottom\",\"yref\":\"paper\"},{\"font\":{},\"showarrow\":false,\"text\":\"Ano=2022\",\"x\":0.755,\"xanchor\":\"center\",\"xref\":\"paper\",\"y\":1.0,\"yanchor\":\"bottom\",\"yref\":\"paper\"}],\"legend\":{\"title\":{\"text\":\"Indicador\"},\"tracegroupgap\":0},\"title\":{\"text\":\"Razões de Jovens Ocupados nas Amostras (SP Capital x SJC, 2010 e 2022)\"},\"barmode\":\"group\",\"uniformtext\":{\"minsize\":5,\"mode\":\"hide\"},\"bargap\":0.4},                        {\"responsive\": true}                    ).then(function(){\n",
       "                            \n",
       "var gd = document.getElementById('d1b0fd6c-eed2-40fb-9873-1029048b2905');\n",
       "var x = new MutationObserver(function (mutations, observer) {{\n",
       "        var display = window.getComputedStyle(gd).display;\n",
       "        if (!display || display === 'none') {{\n",
       "            console.log([gd, 'removed!']);\n",
       "            Plotly.purge(gd);\n",
       "            observer.disconnect();\n",
       "        }}\n",
       "}});\n",
       "\n",
       "// Listen for the removal of the full notebook cells\n",
       "var notebookContainer = gd.closest('#notebook-container');\n",
       "if (notebookContainer) {{\n",
       "    x.observe(notebookContainer, {childList: true});\n",
       "}}\n",
       "\n",
       "// Listen for the clearing of the current output cell\n",
       "var outputEl = gd.closest('.output');\n",
       "if (outputEl) {{\n",
       "    x.observe(outputEl, {childList: true});\n",
       "}}\n",
       "\n",
       "                        })                };                            </script>        </div>\n",
       "</body>\n",
       "</html>"
      ]
     },
     "metadata": {},
     "output_type": "display_data"
    }
   ],
   "source": [
    "#adicionando a coluna de ano\n",
    "df_2010 = df_resultados_ocupadas_2010.copy()\n",
    "df_2010[\"Ano\"] = \"2010\"\n",
    "\n",
    "df_2022 = df_resultados_ocupadas_2022.copy()\n",
    "df_2022[\"Ano\"] = \"2022\"\n",
    "\n",
    "#combinando os dois dataframes\n",
    "df_combinado = pd.concat([df_2010, df_2022])\n",
    "\n",
    "#transformando o gráfico em formato longo\n",
    "df_melt = df_combinado.melt(\n",
    "    id_vars=[\"Cidade\", \"Ano\"],\n",
    "    var_name=\"Indicador\",\n",
    "    value_name=\"Percentual\"\n",
    ")\n",
    "\n",
    "#criando o gráfico\n",
    "fig = px.bar(\n",
    "    df_melt,\n",
    "    x=\"Cidade\",\n",
    "    y=\"Percentual\",\n",
    "    color=\"Indicador\",\n",
    "    barmode=\"group\",\n",
    "    facet_col=\"Ano\",\n",
    "    text=\"Percentual\",\n",
    "    title=\"Razões de Jovens Ocupados nas Amostras (SP Capital x SJC, 2010 e 2022)\"\n",
    ")\n",
    "\n",
    "fig.update_traces(texttemplate='%{text:.2f}%', textposition='outside')\n",
    "fig.update_layout(\n",
    "    yaxis_title=\"Percentual (%)\",\n",
    "    xaxis_title=\"Cidade\",\n",
    "    uniformtext_minsize=5,\n",
    "    uniformtext_mode='hide',\n",
    "    bargap=0.4,\n",
    ")\n",
    "\n",
    "fig.show()\n"
   ]
  },
  {
   "cell_type": "markdown",
   "metadata": {
    "id": "lA5huCf7KWTv"
   },
   "source": [
    "EXPORTAÇÃO DO GRÁFICO PARA ARQUIVO JSON (A EXECUÇÃO DESTA LINHA É OPCINAL)"
   ]
  },
  {
   "cell_type": "code",
   "execution_count": null,
   "metadata": {
    "colab": {
     "base_uri": "https://localhost:8080/",
     "height": 17
    },
    "executionInfo": {
     "elapsed": 5,
     "status": "ok",
     "timestamp": 1761401088580,
     "user": {
      "displayName": "Guilherme",
      "userId": "17933761807338123732"
     },
     "user_tz": 180
    },
    "id": "SWB5cnajKgt9",
    "outputId": "d03a73b1-0567-4e84-a4c3-2b7ea0c11fd9"
   },
   "outputs": [
    {
     "data": {
      "application/javascript": "\n    async function download(id, filename, size) {\n      if (!google.colab.kernel.accessAllowed) {\n        return;\n      }\n      const div = document.createElement('div');\n      const label = document.createElement('label');\n      label.textContent = `Downloading \"${filename}\": `;\n      div.appendChild(label);\n      const progress = document.createElement('progress');\n      progress.max = size;\n      div.appendChild(progress);\n      document.body.appendChild(div);\n\n      const buffers = [];\n      let downloaded = 0;\n\n      const channel = await google.colab.kernel.comms.open(id);\n      // Send a message to notify the kernel that we're ready.\n      channel.send({})\n\n      for await (const message of channel.messages) {\n        // Send a message to notify the kernel that we're ready.\n        channel.send({})\n        if (message.buffers) {\n          for (const buffer of message.buffers) {\n            buffers.push(buffer);\n            downloaded += buffer.byteLength;\n            progress.value = downloaded;\n          }\n        }\n      }\n      const blob = new Blob(buffers, {type: 'application/binary'});\n      const a = document.createElement('a');\n      a.href = window.URL.createObjectURL(blob);\n      a.download = filename;\n      div.appendChild(a);\n      a.click();\n      div.remove();\n    }\n  ",
      "text/plain": [
       "<IPython.core.display.Javascript object>"
      ]
     },
     "metadata": {},
     "output_type": "display_data"
    },
    {
     "data": {
      "application/javascript": "download(\"download_4ca7fc6b-3e70-4056-bcda-39d424e6c397\", \"grafico_razao_jovens_ocupados_sjc_sp_2010_2022.json\", 10802)",
      "text/plain": [
       "<IPython.core.display.Javascript object>"
      ]
     },
     "metadata": {},
     "output_type": "display_data"
    }
   ],
   "source": [
    "#salva o arquivo JSON\n",
    "grafico_razao_jovens_ocupados_sjc_sp_2010_2022 = json.dumps(fig, cls=PlotlyJSONEncoder)\n",
    "\n",
    "with open(\"grafico_razao_jovens_ocupados_sjc_sp_2010_2022.json\", \"w\") as f:\n",
    "    f.write(grafico_razao_jovens_ocupados_sjc_sp_2010_2022)\n",
    "\n",
    "#faz o download\n",
    "files.download(\"grafico_razao_jovens_ocupados_sjc_sp_2010_2022.json\")"
   ]
  },
  {
   "cell_type": "markdown",
   "metadata": {
    "id": "itY6XIxgKMch"
   },
   "source": [
    "# **DISTRIBIÇÃO SALARIAL EM SALÁRIOS MÍNIMOS (SJC x SP) 2010 - 2022**"
   ]
  },
  {
   "cell_type": "markdown",
   "metadata": {
    "id": "0fS9ybEPMFZX"
   },
   "source": [
    "ANO DE 2010 (responsável: Guilherme):"
   ]
  },
  {
   "cell_type": "code",
   "execution_count": null,
   "metadata": {
    "id": "YOafETMvKOh6"
   },
   "outputs": [],
   "source": [
    "#atribuindo à variável, o conteúdo da tabela\n",
    "df_salarial_2010 = pd.read_excel('/content/drive/MyDrive/populacao_jovem/ocupadas_salarial_2010.xlsx', skiprows=4)\n",
    "\n",
    "#atribuindo as legendas corretas para o cabeçalho da tabela\n",
    "df_salarial_2010 = df_salarial_2010.rename(columns={'Unnamed: 0': 'Municipio'})\n",
    "df_salarial_2010 = df_salarial_2010.rename(columns={'Unnamed: 1': 'Faixa Salarial'})\n",
    "\n",
    "#removendo linha desnecessária\n",
    "df_salarial_2010.drop(index=18, inplace=True)\n",
    "\n",
    "#atribuindo valores às linhas sem a identificação de munícipio\n",
    "df_salarial_2010['Municipio'] = df_salarial_2010['Municipio'].ffill()\n",
    "\n",
    "#removendo a linha total\n",
    "df_salarial_2010 = df_salarial_2010[df_salarial_2010['Faixa Salarial'] != 'Total'].reset_index(drop=True)"
   ]
  },
  {
   "cell_type": "markdown",
   "metadata": {
    "id": "5HW1z2WlR2tY"
   },
   "source": [
    "ANO DE 2022 (rsponsável: Lucas; adaptação e padronização: Guilherme)"
   ]
  },
  {
   "cell_type": "code",
   "execution_count": null,
   "metadata": {
    "id": "ndtPbPn6SbIR"
   },
   "outputs": [],
   "source": [
    "#atribuindo à variável, o conteúdo da tabela\n",
    "df_salarial_2022 = pd.read_excel('/content/drive/MyDrive/populacao_jovem/ocupadas_salarial_2022.xlsx', skiprows=4)\n",
    "\n",
    "#atribuindo as legendas corretas para o cabeçalho da tabela\n",
    "df_salarial_2022 = df_salarial_2022.rename(columns={'Unnamed: 0': 'Municipio'})\n",
    "df_salarial_2022 = df_salarial_2022.rename(columns={'Unnamed: 1': 'Faixa Salarial'})\n",
    "df_salarial_2022 = df_salarial_2022.rename(columns={'Total': 'Economicamente ativa'})\n",
    "\n",
    "#removendo linha desnecessária\n",
    "df_salarial_2022.drop(index=24, inplace=True)\n",
    "\n",
    "#atribuindo valores às linhas sem a identificação de munícipio\n",
    "df_salarial_2022['Municipio'] = df_salarial_2022['Municipio'].ffill()\n",
    "\n",
    "#removendo a linha total\n",
    "df_salarial_2022 = df_salarial_2022[df_salarial_2022['Faixa Salarial'] != 'Total'].reset_index(drop=True)\n",
    "\n",
    "#função para auxiliar a somar e agrupar faixas salariais\n",
    "def combinar_faixas(df, faixas_origem, faixa_destino, municipios):\n",
    "    #Soma os valores da coluna 'Economicamente ativa' para as faixas salariais especificadas e adiciona uma nova linha com o total por município.\n",
    "\n",
    "    #criando o filtro para as faixas que serão combinadas\n",
    "    filtro = df['Faixa Salarial'].isin(faixas_origem)\n",
    "\n",
    "    novas_linhas = []\n",
    "\n",
    "    for mun in municipios:\n",
    "        soma = df.loc[(df['Municipio'] == mun) & filtro, 'Economicamente ativa'].sum()\n",
    "        novas_linhas.append({\n",
    "            'Municipio': mun,\n",
    "            'Faixa Salarial': faixa_destino,\n",
    "            'Economicamente ativa': soma\n",
    "        })\n",
    "\n",
    "    #removendo as faixas antigas e adicionando as novas\n",
    "    df = df[~filtro].copy()\n",
    "    df = pd.concat([df, pd.DataFrame(novas_linhas)], ignore_index=True)\n",
    "\n",
    "    return df\n",
    "\n",
    "#organizando as faixas com a função\n",
    "municipios_alvo = ['São Paulo (SP)', 'São José dos Campos (SP)']\n",
    "\n",
    "# Até 1/2 de salário mínimo\n",
    "df_salarial_2022 = combinar_faixas(df_salarial_2022, ['Até 1/4 de salário mínimo', 'Mais de 1/4 a 1/2 salário mínimo'], 'Até 1/2 de salário mínimo', municipios_alvo)\n",
    "\n",
    "# Mais de 2 a 5 salários mínimos\n",
    "df_salarial_2022 = combinar_faixas(df_salarial_2022, ['Mais de 2 a 3 salários mínimos', 'Mais de 3 a 5 salários mínimos'], 'Mais de 2 a 5 salários mínimos', municipios_alvo)\n",
    "\n",
    "# Mais de 10 a 20 salários mínimos\n",
    "df_salarial_2022 = combinar_faixas(df_salarial_2022, ['Mais de 10 a 15 salários mínimos', 'Mais de 15 a 20 salários mínimos'], 'Mais de 10 a 20 salários mínimos', municipios_alvo)\n",
    "\n",
    "#para organização do dataframe:\n",
    "faixa_ordem = [\n",
    "    'Até 1/4 de salário mínimo',\n",
    "    'Até 1/2 de salário mínimo',\n",
    "    'Mais de 1/2 a 1 salário mínimo',\n",
    "    'Mais de 1 a 2 salários mínimos',\n",
    "    'Mais de 2 a 5 salários mínimos',\n",
    "    'Mais de 2 a 3 salários mínimos',\n",
    "    'Mais de 3 a 5 salários mínimos',\n",
    "    'Mais de 5 a 10 salários mínimos',\n",
    "    'Mais de 10 a 20 salários mínimos',\n",
    "    'Mais de 10 a 15 salários mínimos',\n",
    "    'Mais de 15 a 20 salários mínimos',\n",
    "    'Mais de 20 salários mínimos',\n",
    "    'Sem rendimento'\n",
    "]\n",
    "\n",
    "#definindo a ordem das categorias salariais e ordenando o DataFrame\n",
    "df_salarial_2022['Faixa Salarial'] = pd.Categorical(df_salarial_2022['Faixa Salarial'], categories=faixa_ordem, ordered=True)\n",
    "\n",
    "df_salarial_2022.sort_values(by=['Municipio', 'Faixa Salarial'], inplace=True)\n",
    "df_salarial_2022.reset_index(drop=True, inplace=True)"
   ]
  },
  {
   "cell_type": "markdown",
   "metadata": {
    "id": "nl6tkd1XYntD"
   },
   "source": [
    "GRÁFICO - \"População Economicamente Ativa por Faixa Salarial — Comparativo entre SJC e SP (2010 e 2022)\"\n",
    "\n",
    "(responsáveis: Guilherme, Lucas; adaptação e padronização: Guilherme)"
   ]
  },
  {
   "cell_type": "code",
   "execution_count": null,
   "metadata": {
    "colab": {
     "base_uri": "https://localhost:8080/",
     "height": 542
    },
    "executionInfo": {
     "elapsed": 324,
     "status": "ok",
     "timestamp": 1761401100628,
     "user": {
      "displayName": "Guilherme",
      "userId": "17933761807338123732"
     },
     "user_tz": 180
    },
    "id": "kUmN2jfhUcxw",
    "outputId": "394a3005-e73e-4cf0-ff65-cac5f66fdebc"
   },
   "outputs": [
    {
     "data": {
      "text/html": [
       "<html>\n",
       "<head><meta charset=\"utf-8\" /></head>\n",
       "<body>\n",
       "    <div>            <script src=\"https://cdnjs.cloudflare.com/ajax/libs/mathjax/2.7.5/MathJax.js?config=TeX-AMS-MML_SVG\"></script><script type=\"text/javascript\">if (window.MathJax && window.MathJax.Hub && window.MathJax.Hub.Config) {window.MathJax.Hub.Config({SVG: {font: \"STIX-Web\"}});}</script>                <script type=\"text/javascript\">window.PlotlyConfig = {MathJaxConfig: 'local'};</script>\n",
       "        <script charset=\"utf-8\" src=\"https://cdn.plot.ly/plotly-2.35.2.min.js\"></script>                <div id=\"a23778a6-fd4e-4d52-a319-59a538183398\" class=\"plotly-graph-div\" style=\"height:525px; width:100%;\"></div>            <script type=\"text/javascript\">                                    window.PLOTLYENV=window.PLOTLYENV || {};                                    if (document.getElementById(\"a23778a6-fd4e-4d52-a319-59a538183398\")) {                    Plotly.newPlot(                        \"a23778a6-fd4e-4d52-a319-59a538183398\",                        [{\"alignmentgroup\":\"True\",\"hovertemplate\":\"Cidade_Ano=São José dos Campos (SP) - 2010\\u003cbr\\u003eFaixa Salarial=%{x}\\u003cbr\\u003eEconomicamente ativa=%{text}\\u003cextra\\u003e\\u003c\\u002fextra\\u003e\",\"legendgroup\":\"São José dos Campos (SP) - 2010\",\"marker\":{\"color\":\"#636efa\",\"pattern\":{\"shape\":\"\"}},\"name\":\"São José dos Campos (SP) - 2010\",\"offsetgroup\":\"São José dos Campos (SP) - 2010\",\"orientation\":\"v\",\"showlegend\":true,\"text\":[7960.0,42093.0,114890.0,88385.0,35568.0,15135.0,7550.0,24702.0],\"textposition\":\"outside\",\"x\":[\"Até 1\\u002f2 de salário mínimo\",\"Mais de 1\\u002f2 a 1 salário mínimo\",\"Mais de 1 a 2 salários mínimos\",\"Mais de 2 a 5 salários mínimos\",\"Mais de 5 a 10 salários mínimos\",\"Mais de 10 a 20 salários mínimos\",\"Mais de 20 salários mínimos\",\"Sem rendimento\"],\"xaxis\":\"x\",\"y\":[7960.0,42093.0,114890.0,88385.0,35568.0,15135.0,7550.0,24702.0],\"yaxis\":\"y\",\"type\":\"bar\",\"texttemplate\":\"%{text:.0f}\"},{\"alignmentgroup\":\"True\",\"hovertemplate\":\"Cidade_Ano=São Paulo (SP) - 2010\\u003cbr\\u003eFaixa Salarial=%{x}\\u003cbr\\u003eEconomicamente ativa=%{text}\\u003cextra\\u003e\\u003c\\u002fextra\\u003e\",\"legendgroup\":\"São Paulo (SP) - 2010\",\"marker\":{\"color\":\"#EF553B\",\"pattern\":{\"shape\":\"\"}},\"name\":\"São Paulo (SP) - 2010\",\"offsetgroup\":\"São Paulo (SP) - 2010\",\"orientation\":\"v\",\"showlegend\":true,\"text\":[107687.0,643767.0,2060648.0,1541569.0,682401.0,317595.0,193908.0,451165.0],\"textposition\":\"outside\",\"x\":[\"Até 1\\u002f2 de salário mínimo\",\"Mais de 1\\u002f2 a 1 salário mínimo\",\"Mais de 1 a 2 salários mínimos\",\"Mais de 2 a 5 salários mínimos\",\"Mais de 5 a 10 salários mínimos\",\"Mais de 10 a 20 salários mínimos\",\"Mais de 20 salários mínimos\",\"Sem rendimento\"],\"xaxis\":\"x\",\"y\":[107687.0,643767.0,2060648.0,1541569.0,682401.0,317595.0,193908.0,451165.0],\"yaxis\":\"y\",\"type\":\"bar\",\"texttemplate\":\"%{text:.0f}\"},{\"alignmentgroup\":\"True\",\"hovertemplate\":\"Cidade_Ano=São José dos Campos (SP) - 2022\\u003cbr\\u003eFaixa Salarial=%{x}\\u003cbr\\u003eEconomicamente ativa=%{text}\\u003cextra\\u003e\\u003c\\u002fextra\\u003e\",\"legendgroup\":\"São José dos Campos (SP) - 2022\",\"marker\":{\"color\":\"#00cc96\",\"pattern\":{\"shape\":\"\"}},\"name\":\"São José dos Campos (SP) - 2022\",\"offsetgroup\":\"São José dos Campos (SP) - 2022\",\"orientation\":\"v\",\"showlegend\":true,\"text\":[16862.0,49716.0,120450.0,98799.0,27707.0,11486.0,4044.0,2959.0],\"textposition\":\"outside\",\"x\":[\"Até 1\\u002f2 de salário mínimo\",\"Mais de 1\\u002f2 a 1 salário mínimo\",\"Mais de 1 a 2 salários mínimos\",\"Mais de 2 a 5 salários mínimos\",\"Mais de 5 a 10 salários mínimos\",\"Mais de 10 a 20 salários mínimos\",\"Mais de 20 salários mínimos\",\"Sem rendimento\"],\"xaxis\":\"x\",\"y\":[16862.0,49716.0,120450.0,98799.0,27707.0,11486.0,4044.0,2959.0],\"yaxis\":\"y\",\"type\":\"bar\",\"texttemplate\":\"%{text:.0f}\"},{\"alignmentgroup\":\"True\",\"hovertemplate\":\"Cidade_Ano=São Paulo (SP) - 2022\\u003cbr\\u003eFaixa Salarial=%{x}\\u003cbr\\u003eEconomicamente ativa=%{text}\\u003cextra\\u003e\\u003c\\u002fextra\\u003e\",\"legendgroup\":\"São Paulo (SP) - 2022\",\"marker\":{\"color\":\"#ab63fa\",\"pattern\":{\"shape\":\"\"}},\"name\":\"São Paulo (SP) - 2022\",\"offsetgroup\":\"São Paulo (SP) - 2022\",\"orientation\":\"v\",\"showlegend\":true,\"text\":[243923.0,840280.0,1858975.0,1709107.0,530703.0,261824.0,115559.0,36621.0],\"textposition\":\"outside\",\"x\":[\"Até 1\\u002f2 de salário mínimo\",\"Mais de 1\\u002f2 a 1 salário mínimo\",\"Mais de 1 a 2 salários mínimos\",\"Mais de 2 a 5 salários mínimos\",\"Mais de 5 a 10 salários mínimos\",\"Mais de 10 a 20 salários mínimos\",\"Mais de 20 salários mínimos\",\"Sem rendimento\"],\"xaxis\":\"x\",\"y\":[243923.0,840280.0,1858975.0,1709107.0,530703.0,261824.0,115559.0,36621.0],\"yaxis\":\"y\",\"type\":\"bar\",\"texttemplate\":\"%{text:.0f}\"}],                        {\"template\":{\"data\":{\"histogram2dcontour\":[{\"type\":\"histogram2dcontour\",\"colorbar\":{\"outlinewidth\":0,\"ticks\":\"\"},\"colorscale\":[[0.0,\"#0d0887\"],[0.1111111111111111,\"#46039f\"],[0.2222222222222222,\"#7201a8\"],[0.3333333333333333,\"#9c179e\"],[0.4444444444444444,\"#bd3786\"],[0.5555555555555556,\"#d8576b\"],[0.6666666666666666,\"#ed7953\"],[0.7777777777777778,\"#fb9f3a\"],[0.8888888888888888,\"#fdca26\"],[1.0,\"#f0f921\"]]}],\"choropleth\":[{\"type\":\"choropleth\",\"colorbar\":{\"outlinewidth\":0,\"ticks\":\"\"}}],\"histogram2d\":[{\"type\":\"histogram2d\",\"colorbar\":{\"outlinewidth\":0,\"ticks\":\"\"},\"colorscale\":[[0.0,\"#0d0887\"],[0.1111111111111111,\"#46039f\"],[0.2222222222222222,\"#7201a8\"],[0.3333333333333333,\"#9c179e\"],[0.4444444444444444,\"#bd3786\"],[0.5555555555555556,\"#d8576b\"],[0.6666666666666666,\"#ed7953\"],[0.7777777777777778,\"#fb9f3a\"],[0.8888888888888888,\"#fdca26\"],[1.0,\"#f0f921\"]]}],\"heatmap\":[{\"type\":\"heatmap\",\"colorbar\":{\"outlinewidth\":0,\"ticks\":\"\"},\"colorscale\":[[0.0,\"#0d0887\"],[0.1111111111111111,\"#46039f\"],[0.2222222222222222,\"#7201a8\"],[0.3333333333333333,\"#9c179e\"],[0.4444444444444444,\"#bd3786\"],[0.5555555555555556,\"#d8576b\"],[0.6666666666666666,\"#ed7953\"],[0.7777777777777778,\"#fb9f3a\"],[0.8888888888888888,\"#fdca26\"],[1.0,\"#f0f921\"]]}],\"heatmapgl\":[{\"type\":\"heatmapgl\",\"colorbar\":{\"outlinewidth\":0,\"ticks\":\"\"},\"colorscale\":[[0.0,\"#0d0887\"],[0.1111111111111111,\"#46039f\"],[0.2222222222222222,\"#7201a8\"],[0.3333333333333333,\"#9c179e\"],[0.4444444444444444,\"#bd3786\"],[0.5555555555555556,\"#d8576b\"],[0.6666666666666666,\"#ed7953\"],[0.7777777777777778,\"#fb9f3a\"],[0.8888888888888888,\"#fdca26\"],[1.0,\"#f0f921\"]]}],\"contourcarpet\":[{\"type\":\"contourcarpet\",\"colorbar\":{\"outlinewidth\":0,\"ticks\":\"\"}}],\"contour\":[{\"type\":\"contour\",\"colorbar\":{\"outlinewidth\":0,\"ticks\":\"\"},\"colorscale\":[[0.0,\"#0d0887\"],[0.1111111111111111,\"#46039f\"],[0.2222222222222222,\"#7201a8\"],[0.3333333333333333,\"#9c179e\"],[0.4444444444444444,\"#bd3786\"],[0.5555555555555556,\"#d8576b\"],[0.6666666666666666,\"#ed7953\"],[0.7777777777777778,\"#fb9f3a\"],[0.8888888888888888,\"#fdca26\"],[1.0,\"#f0f921\"]]}],\"surface\":[{\"type\":\"surface\",\"colorbar\":{\"outlinewidth\":0,\"ticks\":\"\"},\"colorscale\":[[0.0,\"#0d0887\"],[0.1111111111111111,\"#46039f\"],[0.2222222222222222,\"#7201a8\"],[0.3333333333333333,\"#9c179e\"],[0.4444444444444444,\"#bd3786\"],[0.5555555555555556,\"#d8576b\"],[0.6666666666666666,\"#ed7953\"],[0.7777777777777778,\"#fb9f3a\"],[0.8888888888888888,\"#fdca26\"],[1.0,\"#f0f921\"]]}],\"mesh3d\":[{\"type\":\"mesh3d\",\"colorbar\":{\"outlinewidth\":0,\"ticks\":\"\"}}],\"scatter\":[{\"fillpattern\":{\"fillmode\":\"overlay\",\"size\":10,\"solidity\":0.2},\"type\":\"scatter\"}],\"parcoords\":[{\"type\":\"parcoords\",\"line\":{\"colorbar\":{\"outlinewidth\":0,\"ticks\":\"\"}}}],\"scatterpolargl\":[{\"type\":\"scatterpolargl\",\"marker\":{\"colorbar\":{\"outlinewidth\":0,\"ticks\":\"\"}}}],\"bar\":[{\"error_x\":{\"color\":\"#2a3f5f\"},\"error_y\":{\"color\":\"#2a3f5f\"},\"marker\":{\"line\":{\"color\":\"#E5ECF6\",\"width\":0.5},\"pattern\":{\"fillmode\":\"overlay\",\"size\":10,\"solidity\":0.2}},\"type\":\"bar\"}],\"scattergeo\":[{\"type\":\"scattergeo\",\"marker\":{\"colorbar\":{\"outlinewidth\":0,\"ticks\":\"\"}}}],\"scatterpolar\":[{\"type\":\"scatterpolar\",\"marker\":{\"colorbar\":{\"outlinewidth\":0,\"ticks\":\"\"}}}],\"histogram\":[{\"marker\":{\"pattern\":{\"fillmode\":\"overlay\",\"size\":10,\"solidity\":0.2}},\"type\":\"histogram\"}],\"scattergl\":[{\"type\":\"scattergl\",\"marker\":{\"colorbar\":{\"outlinewidth\":0,\"ticks\":\"\"}}}],\"scatter3d\":[{\"type\":\"scatter3d\",\"line\":{\"colorbar\":{\"outlinewidth\":0,\"ticks\":\"\"}},\"marker\":{\"colorbar\":{\"outlinewidth\":0,\"ticks\":\"\"}}}],\"scattermapbox\":[{\"type\":\"scattermapbox\",\"marker\":{\"colorbar\":{\"outlinewidth\":0,\"ticks\":\"\"}}}],\"scatterternary\":[{\"type\":\"scatterternary\",\"marker\":{\"colorbar\":{\"outlinewidth\":0,\"ticks\":\"\"}}}],\"scattercarpet\":[{\"type\":\"scattercarpet\",\"marker\":{\"colorbar\":{\"outlinewidth\":0,\"ticks\":\"\"}}}],\"carpet\":[{\"aaxis\":{\"endlinecolor\":\"#2a3f5f\",\"gridcolor\":\"white\",\"linecolor\":\"white\",\"minorgridcolor\":\"white\",\"startlinecolor\":\"#2a3f5f\"},\"baxis\":{\"endlinecolor\":\"#2a3f5f\",\"gridcolor\":\"white\",\"linecolor\":\"white\",\"minorgridcolor\":\"white\",\"startlinecolor\":\"#2a3f5f\"},\"type\":\"carpet\"}],\"table\":[{\"cells\":{\"fill\":{\"color\":\"#EBF0F8\"},\"line\":{\"color\":\"white\"}},\"header\":{\"fill\":{\"color\":\"#C8D4E3\"},\"line\":{\"color\":\"white\"}},\"type\":\"table\"}],\"barpolar\":[{\"marker\":{\"line\":{\"color\":\"#E5ECF6\",\"width\":0.5},\"pattern\":{\"fillmode\":\"overlay\",\"size\":10,\"solidity\":0.2}},\"type\":\"barpolar\"}],\"pie\":[{\"automargin\":true,\"type\":\"pie\"}]},\"layout\":{\"autotypenumbers\":\"strict\",\"colorway\":[\"#636efa\",\"#EF553B\",\"#00cc96\",\"#ab63fa\",\"#FFA15A\",\"#19d3f3\",\"#FF6692\",\"#B6E880\",\"#FF97FF\",\"#FECB52\"],\"font\":{\"color\":\"#2a3f5f\"},\"hovermode\":\"closest\",\"hoverlabel\":{\"align\":\"left\"},\"paper_bgcolor\":\"white\",\"plot_bgcolor\":\"#E5ECF6\",\"polar\":{\"bgcolor\":\"#E5ECF6\",\"angularaxis\":{\"gridcolor\":\"white\",\"linecolor\":\"white\",\"ticks\":\"\"},\"radialaxis\":{\"gridcolor\":\"white\",\"linecolor\":\"white\",\"ticks\":\"\"}},\"ternary\":{\"bgcolor\":\"#E5ECF6\",\"aaxis\":{\"gridcolor\":\"white\",\"linecolor\":\"white\",\"ticks\":\"\"},\"baxis\":{\"gridcolor\":\"white\",\"linecolor\":\"white\",\"ticks\":\"\"},\"caxis\":{\"gridcolor\":\"white\",\"linecolor\":\"white\",\"ticks\":\"\"}},\"coloraxis\":{\"colorbar\":{\"outlinewidth\":0,\"ticks\":\"\"}},\"colorscale\":{\"sequential\":[[0.0,\"#0d0887\"],[0.1111111111111111,\"#46039f\"],[0.2222222222222222,\"#7201a8\"],[0.3333333333333333,\"#9c179e\"],[0.4444444444444444,\"#bd3786\"],[0.5555555555555556,\"#d8576b\"],[0.6666666666666666,\"#ed7953\"],[0.7777777777777778,\"#fb9f3a\"],[0.8888888888888888,\"#fdca26\"],[1.0,\"#f0f921\"]],\"sequentialminus\":[[0.0,\"#0d0887\"],[0.1111111111111111,\"#46039f\"],[0.2222222222222222,\"#7201a8\"],[0.3333333333333333,\"#9c179e\"],[0.4444444444444444,\"#bd3786\"],[0.5555555555555556,\"#d8576b\"],[0.6666666666666666,\"#ed7953\"],[0.7777777777777778,\"#fb9f3a\"],[0.8888888888888888,\"#fdca26\"],[1.0,\"#f0f921\"]],\"diverging\":[[0,\"#8e0152\"],[0.1,\"#c51b7d\"],[0.2,\"#de77ae\"],[0.3,\"#f1b6da\"],[0.4,\"#fde0ef\"],[0.5,\"#f7f7f7\"],[0.6,\"#e6f5d0\"],[0.7,\"#b8e186\"],[0.8,\"#7fbc41\"],[0.9,\"#4d9221\"],[1,\"#276419\"]]},\"xaxis\":{\"gridcolor\":\"white\",\"linecolor\":\"white\",\"ticks\":\"\",\"title\":{\"standoff\":15},\"zerolinecolor\":\"white\",\"automargin\":true,\"zerolinewidth\":2},\"yaxis\":{\"gridcolor\":\"white\",\"linecolor\":\"white\",\"ticks\":\"\",\"title\":{\"standoff\":15},\"zerolinecolor\":\"white\",\"automargin\":true,\"zerolinewidth\":2},\"scene\":{\"xaxis\":{\"backgroundcolor\":\"#E5ECF6\",\"gridcolor\":\"white\",\"linecolor\":\"white\",\"showbackground\":true,\"ticks\":\"\",\"zerolinecolor\":\"white\",\"gridwidth\":2},\"yaxis\":{\"backgroundcolor\":\"#E5ECF6\",\"gridcolor\":\"white\",\"linecolor\":\"white\",\"showbackground\":true,\"ticks\":\"\",\"zerolinecolor\":\"white\",\"gridwidth\":2},\"zaxis\":{\"backgroundcolor\":\"#E5ECF6\",\"gridcolor\":\"white\",\"linecolor\":\"white\",\"showbackground\":true,\"ticks\":\"\",\"zerolinecolor\":\"white\",\"gridwidth\":2}},\"shapedefaults\":{\"line\":{\"color\":\"#2a3f5f\"}},\"annotationdefaults\":{\"arrowcolor\":\"#2a3f5f\",\"arrowhead\":0,\"arrowwidth\":1},\"geo\":{\"bgcolor\":\"white\",\"landcolor\":\"#E5ECF6\",\"subunitcolor\":\"white\",\"showland\":true,\"showlakes\":true,\"lakecolor\":\"white\"},\"title\":{\"x\":0.05},\"mapbox\":{\"style\":\"light\"}}},\"xaxis\":{\"anchor\":\"y\",\"domain\":[0.0,1.0],\"title\":{\"text\":\"Faixa Salarial\"},\"tickangle\":-30},\"yaxis\":{\"anchor\":\"x\",\"domain\":[0.0,1.0],\"title\":{\"text\":\"Pessoas Economicamente Ativas\"}},\"legend\":{\"title\":{\"text\":\"Município e Ano\"},\"tracegroupgap\":0},\"title\":{\"text\":\"População Economicamente Ativa por Faixa Salarial — Comparativo entre SJC e SP (2010 e 2022)\"},\"barmode\":\"group\",\"bargap\":0.15},                        {\"responsive\": true}                    ).then(function(){\n",
       "                            \n",
       "var gd = document.getElementById('a23778a6-fd4e-4d52-a319-59a538183398');\n",
       "var x = new MutationObserver(function (mutations, observer) {{\n",
       "        var display = window.getComputedStyle(gd).display;\n",
       "        if (!display || display === 'none') {{\n",
       "            console.log([gd, 'removed!']);\n",
       "            Plotly.purge(gd);\n",
       "            observer.disconnect();\n",
       "        }}\n",
       "}});\n",
       "\n",
       "// Listen for the removal of the full notebook cells\n",
       "var notebookContainer = gd.closest('#notebook-container');\n",
       "if (notebookContainer) {{\n",
       "    x.observe(notebookContainer, {childList: true});\n",
       "}}\n",
       "\n",
       "// Listen for the clearing of the current output cell\n",
       "var outputEl = gd.closest('.output');\n",
       "if (outputEl) {{\n",
       "    x.observe(outputEl, {childList: true});\n",
       "}}\n",
       "\n",
       "                        })                };                            </script>        </div>\n",
       "</body>\n",
       "</html>"
      ]
     },
     "metadata": {},
     "output_type": "display_data"
    }
   ],
   "source": [
    "#adicionando coluna \"ano\" nos dataframes\n",
    "df_salarial_2010[\"Ano\"] = 2010\n",
    "df_salarial_2022[\"Ano\"] = 2022\n",
    "\n",
    "#combinando os dois dataframes\n",
    "df_completo = pd.concat([df_salarial_2010, df_salarial_2022], ignore_index=True)\n",
    "\n",
    "#arrumando os valores que foram omitidos\n",
    "df_completo.loc[0, 'Faixa Salarial'] = 'Até 1/2 de salário mínimo'\n",
    "df_completo.loc[8, 'Faixa Salarial'] = 'Até 1/2 de salário mínimo'\n",
    "\n",
    "#garantindo a ordem correta das faixas salariais\n",
    "ordem_faixas = [\n",
    "    \"Até 1/2 de salário mínimo\",\n",
    "    \"Mais de 1/2 a 1 salário mínimo\",\n",
    "    \"Mais de 1 a 2 salários mínimos\",\n",
    "    \"Mais de 2 a 5 salários mínimos\",\n",
    "    \"Mais de 5 a 10 salários mínimos\",\n",
    "    \"Mais de 10 a 20 salários mínimos\",\n",
    "    \"Mais de 20 salários mínimos\",\n",
    "    \"Sem rendimento\"\n",
    "]\n",
    "\n",
    "df_completo[\"Faixa Salarial\"] = pd.Categorical(df_completo[\"Faixa Salarial\"], categories=ordem_faixas, ordered=True)\n",
    "\n",
    "#criando uma coluna combinada de cidade + ano para o gráfico\n",
    "df_completo[\"Cidade_Ano\"] = df_completo[\"Municipio\"] + \" - \" + df_completo[\"Ano\"].astype(str)\n",
    "\n",
    "#gráfico\n",
    "fig = px.bar(\n",
    "    df_completo,\n",
    "    x=\"Faixa Salarial\",\n",
    "    y=\"Economicamente ativa\",\n",
    "    color=\"Cidade_Ano\",\n",
    "    barmode=\"group\",\n",
    "    text=\"Economicamente ativa\",\n",
    "    title=\"População Economicamente Ativa por Faixa Salarial — Comparativo entre SJC e SP (2010 e 2022)\"\n",
    ")\n",
    "\n",
    "fig.update_traces(texttemplate=\"%{text:.0f}\", textposition=\"outside\")\n",
    "fig.update_layout(\n",
    "    xaxis_title=\"Faixa Salarial\",\n",
    "    yaxis_title=\"Pessoas Economicamente Ativas\",\n",
    "    legend_title=\"Município e Ano\",\n",
    "    bargap=0.15,\n",
    "    xaxis_tickangle=-30\n",
    ")\n",
    "\n",
    "fig.show()"
   ]
  },
  {
   "cell_type": "markdown",
   "metadata": {
    "id": "Ruxxk9eQeuP6"
   },
   "source": [
    "EXPORTAÇÃO DO GRÁFICO PARA ARQUIVO JSON (A EXECUÇÃO DESTA LINHA É OPCINAL)"
   ]
  },
  {
   "cell_type": "code",
   "execution_count": null,
   "metadata": {
    "colab": {
     "base_uri": "https://localhost:8080/",
     "height": 17
    },
    "executionInfo": {
     "elapsed": 47,
     "status": "ok",
     "timestamp": 1761401103257,
     "user": {
      "displayName": "Guilherme",
      "userId": "17933761807338123732"
     },
     "user_tz": 180
    },
    "id": "cvlgloalegG2",
    "outputId": "e99cd395-9426-449c-e5d8-3e05807a3925"
   },
   "outputs": [
    {
     "data": {
      "application/javascript": "\n    async function download(id, filename, size) {\n      if (!google.colab.kernel.accessAllowed) {\n        return;\n      }\n      const div = document.createElement('div');\n      const label = document.createElement('label');\n      label.textContent = `Downloading \"${filename}\": `;\n      div.appendChild(label);\n      const progress = document.createElement('progress');\n      progress.max = size;\n      div.appendChild(progress);\n      document.body.appendChild(div);\n\n      const buffers = [];\n      let downloaded = 0;\n\n      const channel = await google.colab.kernel.comms.open(id);\n      // Send a message to notify the kernel that we're ready.\n      channel.send({})\n\n      for await (const message of channel.messages) {\n        // Send a message to notify the kernel that we're ready.\n        channel.send({})\n        if (message.buffers) {\n          for (const buffer of message.buffers) {\n            buffers.push(buffer);\n            downloaded += buffer.byteLength;\n            progress.value = downloaded;\n          }\n        }\n      }\n      const blob = new Blob(buffers, {type: 'application/binary'});\n      const a = document.createElement('a');\n      a.href = window.URL.createObjectURL(blob);\n      a.download = filename;\n      div.appendChild(a);\n      a.click();\n      div.remove();\n    }\n  ",
      "text/plain": [
       "<IPython.core.display.Javascript object>"
      ]
     },
     "metadata": {},
     "output_type": "display_data"
    },
    {
     "data": {
      "application/javascript": "download(\"download_f6223846-cd66-4bae-a40b-d756f73ee68d\", \"grafico_distribuicao_salarial_sjc_sp_2010_2022.json\", 12083)",
      "text/plain": [
       "<IPython.core.display.Javascript object>"
      ]
     },
     "metadata": {},
     "output_type": "display_data"
    }
   ],
   "source": [
    "#salva o arquivo JSON\n",
    "grafico_distribuicao_salarial_sjc_sp_2010_2022 = json.dumps(fig, cls=PlotlyJSONEncoder)\n",
    "\n",
    "with open(\"grafico_distribuicao_salarial_sjc_sp_2010_2022.json\", \"w\") as f:\n",
    "    f.write(grafico_distribuicao_salarial_sjc_sp_2010_2022)\n",
    "\n",
    "#faz o download\n",
    "files.download(\"grafico_distribuicao_salarial_sjc_sp_2010_2022.json\")"
   ]
  },
  {
   "cell_type": "markdown",
   "metadata": {
    "id": "-QoiqHuDjAiA"
   },
   "source": [
    "# **PROPORÇAO DA POPULAÇÃO JOVEM (SJC x SP) 2010 - 2022**"
   ]
  },
  {
   "cell_type": "markdown",
   "metadata": {
    "id": "ANZMNKUojeuc"
   },
   "source": [
    "ANO DE 2010 (responsáveis: João, Robert; padronização: Guilherme)"
   ]
  },
  {
   "cell_type": "code",
   "execution_count": 46,
   "metadata": {
    "colab": {
     "base_uri": "https://localhost:8080/"
    },
    "executionInfo": {
     "elapsed": 534,
     "status": "ok",
     "timestamp": 1761426584109,
     "user": {
      "displayName": "Guilherme",
      "userId": "17933761807338123732"
     },
     "user_tz": 180
    },
    "id": "asplfIVWjFAx",
    "outputId": "85ff63d1-e8a4-478e-de3c-f62849f5c2c1"
   },
   "outputs": [
    {
     "name": "stdout",
     "output_type": "stream",
     "text": [
      "Soma 15–29 (São José dos Campos): 168655\n",
      "Total São José dos Campos: 629921\n",
      "Soma 15–29 (São Paulo): 2908499\n",
      "Total São Paulo: 11253503\n",
      "População Total Estado SP: 41262199\n",
      "\n",
      "Percentual da faixa 15–29 em São José dos Campos: 26.77%\n",
      "Percentual da faixa 15–29 em São Paulo: 25.85%\n"
     ]
    }
   ],
   "source": [
    "# === 1. Carregar o arquivo Excel ===\n",
    "df_residente_2010 = pd.read_excel('/content/drive/MyDrive/populacao_jovem/populacao_residente_idade_2010.xlsx', skiprows=4)\n",
    "\n",
    "# === 2. Limpar e padronizar ===\n",
    "df_residente_2010 = df_residente_2010.rename(columns={\n",
    "    df_residente_2010.columns[0]: \"Variavel\",\n",
    "    df_residente_2010.columns[1]: \"Idade\",\n",
    "    df_residente_2010.columns[2]: \"Condicao\",\n",
    "    df_residente_2010.columns[3]: \"Total\",\n",
    "    df_residente_2010.columns[4]: \"Homens\",\n",
    "    df_residente_2010.columns[5]: \"Mulheres\"\n",
    "})\n",
    "\n",
    "df_residente_2010 = df_residente_2010[df_residente_2010[\"Idade\"].notna()]\n",
    "df_residente_2010 = df_residente_2010[df_residente_2010[\"Idade\"] != \"Idade\"]\n",
    "df_residente_2010 = df_residente_2010.reset_index(drop=True)\n",
    "\n",
    "# === 3. Extrair e somar para São José dos Campos ===\n",
    "sjc_data_2010 = df_residente_2010[df_residente_2010[\"Variavel\"].ffill() == \"São José dos Campos (SP)\"]\n",
    "sjc_total_2010 = int(sjc_data_2010[sjc_data_2010[\"Idade\"] == \"Total\"][\"Total\"].values[0])\n",
    "\n",
    "sjc_15_29_2010 = sjc_data_2010[sjc_data_2010[\"Idade\"].isin([\n",
    "    \"15 a 17 anos\", \"18 ou 19 anos\", \"20 a 24 anos\", \"25 a 29 anos\"\n",
    "])]\n",
    "sjc_sum_15_29_2010 = sjc_15_29_2010[\"Total\"].astype(int).sum()\n",
    "\n",
    "# === 4. Extrair e somar para São Paulo (capital) ===\n",
    "sp_data_2010 = df_residente_2010[df_residente_2010[\"Variavel\"].ffill() == \"São Paulo (SP)\"]\n",
    "sp_total_2010 = int(sp_data_2010[sp_data_2010[\"Idade\"] == \"Total\"][\"Total\"].values[0])\n",
    "\n",
    "sp_15_29_2010 = sp_data_2010[sp_data_2010[\"Idade\"].isin([\n",
    "    \"15 a 17 anos\", \"18 ou 19 anos\", \"20 a 24 anos\", \"25 a 29 anos\"\n",
    "])]\n",
    "sp_sum_15_29_2010 = sp_15_29_2010[\"Total\"].astype(int).sum()\n",
    "\n",
    "# === 5. Dados do estado ===\n",
    "total_estado_sp_2010 = 41262199\n",
    "\n",
    "# === 6. Calcular percentuais ===\n",
    "sjc_percent_15_29_2010 = (sjc_sum_15_29_2010 / sjc_total_2010) * 100\n",
    "sp_percent_15_29_2010 = (sp_sum_15_29_2010 / sp_total_2010) * 100\n",
    "\n",
    "# (Opcional) Exibir resultados\n",
    "print(\"Soma 15–29 (São José dos Campos):\", sjc_sum_15_29_2010)\n",
    "print(\"Total São José dos Campos:\", sjc_total_2010)\n",
    "print(\"Soma 15–29 (São Paulo):\", sp_sum_15_29_2010)\n",
    "print(\"Total São Paulo:\", sp_total_2010)\n",
    "print(\"População Total Estado SP:\", total_estado_sp_2010)\n",
    "print(f\"\\nPercentual da faixa 15–29 em São José dos Campos: {sjc_percent_15_29_2010:.2f}%\")\n",
    "print(f\"Percentual da faixa 15–29 em São Paulo: {sp_percent_15_29_2010:.2f}%\")"
   ]
  },
  {
   "cell_type": "markdown",
   "metadata": {
    "id": "TXheqM16sPHQ"
   },
   "source": [
    "ANO DE 2022 (responsáveis: João, Robert; padronização: Guilherme)"
   ]
  },
  {
   "cell_type": "code",
   "execution_count": 47,
   "metadata": {
    "colab": {
     "base_uri": "https://localhost:8080/"
    },
    "executionInfo": {
     "elapsed": 448,
     "status": "ok",
     "timestamp": 1761426584575,
     "user": {
      "displayName": "Guilherme",
      "userId": "17933761807338123732"
     },
     "user_tz": 180
    },
    "id": "08gcvaM-j6O4",
    "outputId": "0ff9c53d-f805-4cea-b547-67c97606a5e3"
   },
   "outputs": [
    {
     "name": "stdout",
     "output_type": "stream",
     "text": [
      "Soma 15–29 (São José dos Campos): 144730\n",
      "Total São José dos Campos: 697054\n",
      "Soma 15–29 (São Paulo): 2448791\n",
      "Total São Paulo: 11451999\n",
      "População Total Estado SP: 44749699\n",
      "\n",
      "Percentual da faixa 15–29 em São José dos Campos: 20.76%\n",
      "Percentual da faixa 15–29 em São Paulo: 21.38%\n"
     ]
    }
   ],
   "source": [
    "# === 1. Carregar o arquivo Excel ===\n",
    "df_residente_2022 = pd.read_excel('/content/drive/MyDrive/populacao_jovem/populacao_residente_idade_2022.xlsx', skiprows=4)\n",
    "\n",
    "# === 2. Limpar e padronizar ===\n",
    "df_residente_2022 = df_residente_2022.rename(columns={\n",
    "    df_residente_2022.columns[0]: \"Municipio\",\n",
    "    df_residente_2022.columns[1]: \"Condicao\",\n",
    "    df_residente_2022.columns[2]: \"Total\",\n",
    "    df_residente_2022.columns[3]: \"15 a 19 anos\",\n",
    "    df_residente_2022.columns[4]: \"20 a 24 anos\",\n",
    "    df_residente_2022.columns[5]: \"25 a 29 anos\"\n",
    "})\n",
    "\n",
    "# Remover linhas vazias ou que não são municípios\n",
    "df_residente_2022 = df_residente_2022[df_residente_2022[\"Municipio\"].notna()]\n",
    "df_residente_2022 = df_residente_2022[~df_residente_2022[\"Municipio\"].str.contains(\"Fonte\", na=False)]\n",
    "df_residente_2022 = df_residente_2022.reset_index(drop=True)\n",
    "\n",
    "# === 3. Extrair e somar para São José dos Campos ===\n",
    "sjc_data_2022 = df_residente_2022[df_residente_2022[\"Municipio\"].str.contains(\"São José dos Campos\", case=False, na=False)].iloc[0]\n",
    "sjc_total_2022 = int(sjc_data_2022[\"Total\"])\n",
    "sjc_sum_15_29_2022 = int(sjc_data_2022[\"15 a 19 anos\"]) + int(sjc_data_2022[\"20 a 24 anos\"]) + int(sjc_data_2022[\"25 a 29 anos\"])\n",
    "\n",
    "# === 4. Extrair e somar para São Paulo (capital) ===\n",
    "sp_data_2022 = df_residente_2022[df_residente_2022[\"Municipio\"].str.contains(\"São Paulo\", case=False, na=False)].iloc[0]\n",
    "sp_total_2022 = int(sp_data_2022[\"Total\"])\n",
    "sp_sum_15_29_2022 = int(sp_data_2022[\"15 a 19 anos\"]) + int(sp_data_2022[\"20 a 24 anos\"]) + int(sp_data_2022[\"25 a 29 anos\"])\n",
    "\n",
    "# === 5. Dados do estado ===\n",
    "total_estado_sp_2022 = 44749699  # População total estimada do estado em 2022\n",
    "\n",
    "# === 6. Calcular percentuais ===\n",
    "sjc_percent_15_29_2022 = (sjc_sum_15_29_2022 / sjc_total_2022) * 100\n",
    "sp_percent_15_29_2022 = (sp_sum_15_29_2022 / sp_total_2022) * 100\n",
    "\n",
    "# === 7. Exibir resultados ===\n",
    "print(\"Soma 15–29 (São José dos Campos):\", sjc_sum_15_29_2022)\n",
    "print(\"Total São José dos Campos:\", sjc_total_2022)\n",
    "print(\"Soma 15–29 (São Paulo):\", sp_sum_15_29_2022)\n",
    "print(\"Total São Paulo:\", sp_total_2022)\n",
    "print(\"População Total Estado SP:\", total_estado_sp_2022)\n",
    "print(f\"\\nPercentual da faixa 15–29 em São José dos Campos: {sjc_percent_15_29_2022:.2f}%\")\n",
    "print(f\"Percentual da faixa 15–29 em São Paulo: {sp_percent_15_29_2022:.2f}%\")"
   ]
  },
  {
   "cell_type": "markdown",
   "metadata": {
    "id": "35cDJOKIujHN"
   },
   "source": [
    "GRÁFICO - \"População 15–29 anos vs Total por cidade (2010 e 2022)\"\n",
    "\n",
    "(reponsáveis: João, Robert; adaptação e padronização: Guilherme)"
   ]
  },
  {
   "cell_type": "code",
   "execution_count": 48,
   "metadata": {
    "colab": {
     "base_uri": "https://localhost:8080/",
     "height": 542
    },
    "executionInfo": {
     "elapsed": 387,
     "status": "ok",
     "timestamp": 1761426584974,
     "user": {
      "displayName": "Guilherme",
      "userId": "17933761807338123732"
     },
     "user_tz": 180
    },
    "id": "G6F75cnctoKn",
    "outputId": "1ddc3c85-d17e-49d0-ce46-7ffe9bb9ca53"
   },
   "outputs": [
    {
     "data": {
      "text/html": [
       "<html>\n",
       "<head><meta charset=\"utf-8\" /></head>\n",
       "<body>\n",
       "    <div>            <script src=\"https://cdnjs.cloudflare.com/ajax/libs/mathjax/2.7.5/MathJax.js?config=TeX-AMS-MML_SVG\"></script><script type=\"text/javascript\">if (window.MathJax && window.MathJax.Hub && window.MathJax.Hub.Config) {window.MathJax.Hub.Config({SVG: {font: \"STIX-Web\"}});}</script>                <script type=\"text/javascript\">window.PlotlyConfig = {MathJaxConfig: 'local'};</script>\n",
       "        <script charset=\"utf-8\" src=\"https://cdn.plot.ly/plotly-2.35.2.min.js\"></script>                <div id=\"d53e7d75-a665-4a00-8654-caef951b0cbd\" class=\"plotly-graph-div\" style=\"height:525px; width:100%;\"></div>            <script type=\"text/javascript\">                                    window.PLOTLYENV=window.PLOTLYENV || {};                                    if (document.getElementById(\"d53e7d75-a665-4a00-8654-caef951b0cbd\")) {                    Plotly.newPlot(                        \"d53e7d75-a665-4a00-8654-caef951b0cbd\",                        [{\"alignmentgroup\":\"True\",\"hovertemplate\":\"Categoria=15-29 anos\\u003cbr\\u003eLocal=SJC\\u003cbr\\u003eAno=%{x}\\u003cbr\\u003ePopulacao=%{text}\\u003cextra\\u003e\\u003c\\u002fextra\\u003e\",\"legendgroup\":\"15-29 anos\",\"marker\":{\"color\":\"#636efa\",\"pattern\":{\"shape\":\"\"}},\"name\":\"15-29 anos\",\"offsetgroup\":\"15-29 anos\",\"orientation\":\"v\",\"showlegend\":true,\"text\":[168655.0,144730.0],\"textposition\":\"outside\",\"x\":[2010,2022],\"xaxis\":\"x\",\"y\":[168655,144730],\"yaxis\":\"y\",\"type\":\"bar\",\"texttemplate\":\"%{text}\"},{\"alignmentgroup\":\"True\",\"hovertemplate\":\"Categoria=15-29 anos\\u003cbr\\u003eLocal=SP\\u003cbr\\u003eAno=%{x}\\u003cbr\\u003ePopulacao=%{text}\\u003cextra\\u003e\\u003c\\u002fextra\\u003e\",\"legendgroup\":\"15-29 anos\",\"marker\":{\"color\":\"#636efa\",\"pattern\":{\"shape\":\"\"}},\"name\":\"15-29 anos\",\"offsetgroup\":\"15-29 anos\",\"orientation\":\"v\",\"showlegend\":false,\"text\":[2908499.0,2448791.0],\"textposition\":\"outside\",\"x\":[2010,2022],\"xaxis\":\"x2\",\"y\":[2908499,2448791],\"yaxis\":\"y2\",\"type\":\"bar\",\"texttemplate\":\"%{text}\"},{\"alignmentgroup\":\"True\",\"hovertemplate\":\"Categoria=Total\\u003cbr\\u003eLocal=SJC\\u003cbr\\u003eAno=%{x}\\u003cbr\\u003ePopulacao=%{text}\\u003cextra\\u003e\\u003c\\u002fextra\\u003e\",\"legendgroup\":\"Total\",\"marker\":{\"color\":\"#ef553b\",\"pattern\":{\"shape\":\"\"}},\"name\":\"Total\",\"offsetgroup\":\"Total\",\"orientation\":\"v\",\"showlegend\":true,\"text\":[629921.0,697054.0],\"textposition\":\"outside\",\"x\":[2010,2022],\"xaxis\":\"x\",\"y\":[629921,697054],\"yaxis\":\"y\",\"type\":\"bar\",\"texttemplate\":\"%{text}\"},{\"alignmentgroup\":\"True\",\"hovertemplate\":\"Categoria=Total\\u003cbr\\u003eLocal=SP\\u003cbr\\u003eAno=%{x}\\u003cbr\\u003ePopulacao=%{text}\\u003cextra\\u003e\\u003c\\u002fextra\\u003e\",\"legendgroup\":\"Total\",\"marker\":{\"color\":\"#ef553b\",\"pattern\":{\"shape\":\"\"}},\"name\":\"Total\",\"offsetgroup\":\"Total\",\"orientation\":\"v\",\"showlegend\":false,\"text\":[11253503.0,11451999.0],\"textposition\":\"outside\",\"x\":[2010,2022],\"xaxis\":\"x2\",\"y\":[11253503,11451999],\"yaxis\":\"y2\",\"type\":\"bar\",\"texttemplate\":\"%{text}\"}],                        {\"template\":{\"data\":{\"histogram2dcontour\":[{\"type\":\"histogram2dcontour\",\"colorbar\":{\"outlinewidth\":0,\"ticks\":\"\"},\"colorscale\":[[0.0,\"#0d0887\"],[0.1111111111111111,\"#46039f\"],[0.2222222222222222,\"#7201a8\"],[0.3333333333333333,\"#9c179e\"],[0.4444444444444444,\"#bd3786\"],[0.5555555555555556,\"#d8576b\"],[0.6666666666666666,\"#ed7953\"],[0.7777777777777778,\"#fb9f3a\"],[0.8888888888888888,\"#fdca26\"],[1.0,\"#f0f921\"]]}],\"choropleth\":[{\"type\":\"choropleth\",\"colorbar\":{\"outlinewidth\":0,\"ticks\":\"\"}}],\"histogram2d\":[{\"type\":\"histogram2d\",\"colorbar\":{\"outlinewidth\":0,\"ticks\":\"\"},\"colorscale\":[[0.0,\"#0d0887\"],[0.1111111111111111,\"#46039f\"],[0.2222222222222222,\"#7201a8\"],[0.3333333333333333,\"#9c179e\"],[0.4444444444444444,\"#bd3786\"],[0.5555555555555556,\"#d8576b\"],[0.6666666666666666,\"#ed7953\"],[0.7777777777777778,\"#fb9f3a\"],[0.8888888888888888,\"#fdca26\"],[1.0,\"#f0f921\"]]}],\"heatmap\":[{\"type\":\"heatmap\",\"colorbar\":{\"outlinewidth\":0,\"ticks\":\"\"},\"colorscale\":[[0.0,\"#0d0887\"],[0.1111111111111111,\"#46039f\"],[0.2222222222222222,\"#7201a8\"],[0.3333333333333333,\"#9c179e\"],[0.4444444444444444,\"#bd3786\"],[0.5555555555555556,\"#d8576b\"],[0.6666666666666666,\"#ed7953\"],[0.7777777777777778,\"#fb9f3a\"],[0.8888888888888888,\"#fdca26\"],[1.0,\"#f0f921\"]]}],\"heatmapgl\":[{\"type\":\"heatmapgl\",\"colorbar\":{\"outlinewidth\":0,\"ticks\":\"\"},\"colorscale\":[[0.0,\"#0d0887\"],[0.1111111111111111,\"#46039f\"],[0.2222222222222222,\"#7201a8\"],[0.3333333333333333,\"#9c179e\"],[0.4444444444444444,\"#bd3786\"],[0.5555555555555556,\"#d8576b\"],[0.6666666666666666,\"#ed7953\"],[0.7777777777777778,\"#fb9f3a\"],[0.8888888888888888,\"#fdca26\"],[1.0,\"#f0f921\"]]}],\"contourcarpet\":[{\"type\":\"contourcarpet\",\"colorbar\":{\"outlinewidth\":0,\"ticks\":\"\"}}],\"contour\":[{\"type\":\"contour\",\"colorbar\":{\"outlinewidth\":0,\"ticks\":\"\"},\"colorscale\":[[0.0,\"#0d0887\"],[0.1111111111111111,\"#46039f\"],[0.2222222222222222,\"#7201a8\"],[0.3333333333333333,\"#9c179e\"],[0.4444444444444444,\"#bd3786\"],[0.5555555555555556,\"#d8576b\"],[0.6666666666666666,\"#ed7953\"],[0.7777777777777778,\"#fb9f3a\"],[0.8888888888888888,\"#fdca26\"],[1.0,\"#f0f921\"]]}],\"surface\":[{\"type\":\"surface\",\"colorbar\":{\"outlinewidth\":0,\"ticks\":\"\"},\"colorscale\":[[0.0,\"#0d0887\"],[0.1111111111111111,\"#46039f\"],[0.2222222222222222,\"#7201a8\"],[0.3333333333333333,\"#9c179e\"],[0.4444444444444444,\"#bd3786\"],[0.5555555555555556,\"#d8576b\"],[0.6666666666666666,\"#ed7953\"],[0.7777777777777778,\"#fb9f3a\"],[0.8888888888888888,\"#fdca26\"],[1.0,\"#f0f921\"]]}],\"mesh3d\":[{\"type\":\"mesh3d\",\"colorbar\":{\"outlinewidth\":0,\"ticks\":\"\"}}],\"scatter\":[{\"fillpattern\":{\"fillmode\":\"overlay\",\"size\":10,\"solidity\":0.2},\"type\":\"scatter\"}],\"parcoords\":[{\"type\":\"parcoords\",\"line\":{\"colorbar\":{\"outlinewidth\":0,\"ticks\":\"\"}}}],\"scatterpolargl\":[{\"type\":\"scatterpolargl\",\"marker\":{\"colorbar\":{\"outlinewidth\":0,\"ticks\":\"\"}}}],\"bar\":[{\"error_x\":{\"color\":\"#2a3f5f\"},\"error_y\":{\"color\":\"#2a3f5f\"},\"marker\":{\"line\":{\"color\":\"#E5ECF6\",\"width\":0.5},\"pattern\":{\"fillmode\":\"overlay\",\"size\":10,\"solidity\":0.2}},\"type\":\"bar\"}],\"scattergeo\":[{\"type\":\"scattergeo\",\"marker\":{\"colorbar\":{\"outlinewidth\":0,\"ticks\":\"\"}}}],\"scatterpolar\":[{\"type\":\"scatterpolar\",\"marker\":{\"colorbar\":{\"outlinewidth\":0,\"ticks\":\"\"}}}],\"histogram\":[{\"marker\":{\"pattern\":{\"fillmode\":\"overlay\",\"size\":10,\"solidity\":0.2}},\"type\":\"histogram\"}],\"scattergl\":[{\"type\":\"scattergl\",\"marker\":{\"colorbar\":{\"outlinewidth\":0,\"ticks\":\"\"}}}],\"scatter3d\":[{\"type\":\"scatter3d\",\"line\":{\"colorbar\":{\"outlinewidth\":0,\"ticks\":\"\"}},\"marker\":{\"colorbar\":{\"outlinewidth\":0,\"ticks\":\"\"}}}],\"scattermapbox\":[{\"type\":\"scattermapbox\",\"marker\":{\"colorbar\":{\"outlinewidth\":0,\"ticks\":\"\"}}}],\"scatterternary\":[{\"type\":\"scatterternary\",\"marker\":{\"colorbar\":{\"outlinewidth\":0,\"ticks\":\"\"}}}],\"scattercarpet\":[{\"type\":\"scattercarpet\",\"marker\":{\"colorbar\":{\"outlinewidth\":0,\"ticks\":\"\"}}}],\"carpet\":[{\"aaxis\":{\"endlinecolor\":\"#2a3f5f\",\"gridcolor\":\"white\",\"linecolor\":\"white\",\"minorgridcolor\":\"white\",\"startlinecolor\":\"#2a3f5f\"},\"baxis\":{\"endlinecolor\":\"#2a3f5f\",\"gridcolor\":\"white\",\"linecolor\":\"white\",\"minorgridcolor\":\"white\",\"startlinecolor\":\"#2a3f5f\"},\"type\":\"carpet\"}],\"table\":[{\"cells\":{\"fill\":{\"color\":\"#EBF0F8\"},\"line\":{\"color\":\"white\"}},\"header\":{\"fill\":{\"color\":\"#C8D4E3\"},\"line\":{\"color\":\"white\"}},\"type\":\"table\"}],\"barpolar\":[{\"marker\":{\"line\":{\"color\":\"#E5ECF6\",\"width\":0.5},\"pattern\":{\"fillmode\":\"overlay\",\"size\":10,\"solidity\":0.2}},\"type\":\"barpolar\"}],\"pie\":[{\"automargin\":true,\"type\":\"pie\"}]},\"layout\":{\"autotypenumbers\":\"strict\",\"colorway\":[\"#636efa\",\"#EF553B\",\"#00cc96\",\"#ab63fa\",\"#FFA15A\",\"#19d3f3\",\"#FF6692\",\"#B6E880\",\"#FF97FF\",\"#FECB52\"],\"font\":{\"color\":\"#2a3f5f\"},\"hovermode\":\"closest\",\"hoverlabel\":{\"align\":\"left\"},\"paper_bgcolor\":\"white\",\"plot_bgcolor\":\"#E5ECF6\",\"polar\":{\"bgcolor\":\"#E5ECF6\",\"angularaxis\":{\"gridcolor\":\"white\",\"linecolor\":\"white\",\"ticks\":\"\"},\"radialaxis\":{\"gridcolor\":\"white\",\"linecolor\":\"white\",\"ticks\":\"\"}},\"ternary\":{\"bgcolor\":\"#E5ECF6\",\"aaxis\":{\"gridcolor\":\"white\",\"linecolor\":\"white\",\"ticks\":\"\"},\"baxis\":{\"gridcolor\":\"white\",\"linecolor\":\"white\",\"ticks\":\"\"},\"caxis\":{\"gridcolor\":\"white\",\"linecolor\":\"white\",\"ticks\":\"\"}},\"coloraxis\":{\"colorbar\":{\"outlinewidth\":0,\"ticks\":\"\"}},\"colorscale\":{\"sequential\":[[0.0,\"#0d0887\"],[0.1111111111111111,\"#46039f\"],[0.2222222222222222,\"#7201a8\"],[0.3333333333333333,\"#9c179e\"],[0.4444444444444444,\"#bd3786\"],[0.5555555555555556,\"#d8576b\"],[0.6666666666666666,\"#ed7953\"],[0.7777777777777778,\"#fb9f3a\"],[0.8888888888888888,\"#fdca26\"],[1.0,\"#f0f921\"]],\"sequentialminus\":[[0.0,\"#0d0887\"],[0.1111111111111111,\"#46039f\"],[0.2222222222222222,\"#7201a8\"],[0.3333333333333333,\"#9c179e\"],[0.4444444444444444,\"#bd3786\"],[0.5555555555555556,\"#d8576b\"],[0.6666666666666666,\"#ed7953\"],[0.7777777777777778,\"#fb9f3a\"],[0.8888888888888888,\"#fdca26\"],[1.0,\"#f0f921\"]],\"diverging\":[[0,\"#8e0152\"],[0.1,\"#c51b7d\"],[0.2,\"#de77ae\"],[0.3,\"#f1b6da\"],[0.4,\"#fde0ef\"],[0.5,\"#f7f7f7\"],[0.6,\"#e6f5d0\"],[0.7,\"#b8e186\"],[0.8,\"#7fbc41\"],[0.9,\"#4d9221\"],[1,\"#276419\"]]},\"xaxis\":{\"gridcolor\":\"white\",\"linecolor\":\"white\",\"ticks\":\"\",\"title\":{\"standoff\":15},\"zerolinecolor\":\"white\",\"automargin\":true,\"zerolinewidth\":2},\"yaxis\":{\"gridcolor\":\"white\",\"linecolor\":\"white\",\"ticks\":\"\",\"title\":{\"standoff\":15},\"zerolinecolor\":\"white\",\"automargin\":true,\"zerolinewidth\":2},\"scene\":{\"xaxis\":{\"backgroundcolor\":\"#E5ECF6\",\"gridcolor\":\"white\",\"linecolor\":\"white\",\"showbackground\":true,\"ticks\":\"\",\"zerolinecolor\":\"white\",\"gridwidth\":2},\"yaxis\":{\"backgroundcolor\":\"#E5ECF6\",\"gridcolor\":\"white\",\"linecolor\":\"white\",\"showbackground\":true,\"ticks\":\"\",\"zerolinecolor\":\"white\",\"gridwidth\":2},\"zaxis\":{\"backgroundcolor\":\"#E5ECF6\",\"gridcolor\":\"white\",\"linecolor\":\"white\",\"showbackground\":true,\"ticks\":\"\",\"zerolinecolor\":\"white\",\"gridwidth\":2}},\"shapedefaults\":{\"line\":{\"color\":\"#2a3f5f\"}},\"annotationdefaults\":{\"arrowcolor\":\"#2a3f5f\",\"arrowhead\":0,\"arrowwidth\":1},\"geo\":{\"bgcolor\":\"white\",\"landcolor\":\"#E5ECF6\",\"subunitcolor\":\"white\",\"showland\":true,\"showlakes\":true,\"lakecolor\":\"white\"},\"title\":{\"x\":0.05},\"mapbox\":{\"style\":\"light\"}}},\"xaxis\":{\"anchor\":\"y\",\"domain\":[0.0,0.49],\"title\":{\"text\":\"Ano\"}},\"yaxis\":{\"anchor\":\"x\",\"domain\":[0.0,1.0],\"title\":{\"text\":\"População\"}},\"xaxis2\":{\"anchor\":\"y2\",\"domain\":[0.51,1.0],\"matches\":\"x\",\"title\":{\"text\":\"Ano\"}},\"yaxis2\":{\"anchor\":\"x2\",\"domain\":[0.0,1.0],\"matches\":\"y\",\"showticklabels\":false},\"annotations\":[{\"font\":{},\"showarrow\":false,\"text\":\"Local=SJC\",\"x\":0.245,\"xanchor\":\"center\",\"xref\":\"paper\",\"y\":1.0,\"yanchor\":\"bottom\",\"yref\":\"paper\"},{\"font\":{},\"showarrow\":false,\"text\":\"Local=SP\",\"x\":0.755,\"xanchor\":\"center\",\"xref\":\"paper\",\"y\":1.0,\"yanchor\":\"bottom\",\"yref\":\"paper\"}],\"legend\":{\"title\":{\"text\":\"Categoria\"},\"tracegroupgap\":0},\"title\":{\"text\":\"População 15–29 anos vs Total por cidade (2010 e 2022)\"},\"barmode\":\"group\",\"uniformtext\":{\"minsize\":10,\"mode\":\"hide\"},\"margin\":{\"t\":80,\"b\":50}},                        {\"responsive\": true}                    ).then(function(){\n",
       "                            \n",
       "var gd = document.getElementById('d53e7d75-a665-4a00-8654-caef951b0cbd');\n",
       "var x = new MutationObserver(function (mutations, observer) {{\n",
       "        var display = window.getComputedStyle(gd).display;\n",
       "        if (!display || display === 'none') {{\n",
       "            console.log([gd, 'removed!']);\n",
       "            Plotly.purge(gd);\n",
       "            observer.disconnect();\n",
       "        }}\n",
       "}});\n",
       "\n",
       "// Listen for the removal of the full notebook cells\n",
       "var notebookContainer = gd.closest('#notebook-container');\n",
       "if (notebookContainer) {{\n",
       "    x.observe(notebookContainer, {childList: true});\n",
       "}}\n",
       "\n",
       "// Listen for the clearing of the current output cell\n",
       "var outputEl = gd.closest('.output');\n",
       "if (outputEl) {{\n",
       "    x.observe(outputEl, {childList: true});\n",
       "}}\n",
       "\n",
       "                        })                };                            </script>        </div>\n",
       "</body>\n",
       "</html>"
      ]
     },
     "metadata": {},
     "output_type": "display_data"
    }
   ],
   "source": [
    "#estruturando um dataframe para sjc e sp\n",
    "df_grafico_residente_2010_2022 = pd.DataFrame({\n",
    "    \"Ano\": [2010, 2010, 2010, 2010, 2022, 2022, 2022, 2022],\n",
    "    \"Local\": [\"SJC\", \"SJC\", \"SP\", \"SP\", \"SJC\", \"SJC\", \"SP\", \"SP\"],\n",
    "    \"Categoria\": [\"15-29 anos\", \"Total\", \"15-29 anos\", \"Total\", \"15-29 anos\", \"Total\", \"15-29 anos\", \"Total\"],\n",
    "    \"Populacao\": [\n",
    "        sjc_sum_15_29_2010, sjc_total_2010,\n",
    "        sp_sum_15_29_2010, sp_total_2010,\n",
    "        sjc_sum_15_29_2022, sjc_total_2022,\n",
    "        sp_sum_15_29_2022, sp_total_2022\n",
    "    ]\n",
    "})\n",
    "\n",
    "#gráfico\n",
    "fig = px.bar(\n",
    "    df_grafico_residente_2010_2022,\n",
    "    x=\"Ano\",\n",
    "    y=\"Populacao\",\n",
    "    color=\"Categoria\",\n",
    "    text=\"Populacao\",\n",
    "    barmode=\"group\",\n",
    "    facet_col=\"Local\",\n",
    "    title=\"População 15–29 anos vs Total por cidade (2010 e 2022)\",\n",
    "    color_discrete_map={\"15-29 anos\": \"#636efa\", \"Total\": \"#ef553b\"}\n",
    ")\n",
    "\n",
    "fig.update_traces(texttemplate=\"%{text}\", textposition=\"outside\")\n",
    "fig.update_layout(\n",
    "    uniformtext_minsize=10,\n",
    "    uniformtext_mode=\"hide\",\n",
    "    yaxis_title=\"População\",\n",
    "    legend_title=\"Categoria\",\n",
    "    margin=dict(t=80, b=50)\n",
    ")\n",
    "\n",
    "fig.show()"
   ]
  },
  {
   "cell_type": "markdown",
   "metadata": {
    "id": "nMehRxJs1Lgy"
   },
   "source": [
    "EXPORTAÇÃO DO GRÁFICO PARA ARQUIVO JSON (A EXECUÇÃO DESTA LINHA É OPCINAL)"
   ]
  },
  {
   "cell_type": "code",
   "execution_count": 49,
   "metadata": {
    "colab": {
     "base_uri": "https://localhost:8080/",
     "height": 17
    },
    "executionInfo": {
     "elapsed": 15,
     "status": "ok",
     "timestamp": 1761426585012,
     "user": {
      "displayName": "Guilherme",
      "userId": "17933761807338123732"
     },
     "user_tz": 180
    },
    "id": "TTx0lcky1Oy3",
    "outputId": "fcb01a3b-43cb-4af0-cc80-805ae5af77a7"
   },
   "outputs": [
    {
     "data": {
      "application/javascript": "\n    async function download(id, filename, size) {\n      if (!google.colab.kernel.accessAllowed) {\n        return;\n      }\n      const div = document.createElement('div');\n      const label = document.createElement('label');\n      label.textContent = `Downloading \"${filename}\": `;\n      div.appendChild(label);\n      const progress = document.createElement('progress');\n      progress.max = size;\n      div.appendChild(progress);\n      document.body.appendChild(div);\n\n      const buffers = [];\n      let downloaded = 0;\n\n      const channel = await google.colab.kernel.comms.open(id);\n      // Send a message to notify the kernel that we're ready.\n      channel.send({})\n\n      for await (const message of channel.messages) {\n        // Send a message to notify the kernel that we're ready.\n        channel.send({})\n        if (message.buffers) {\n          for (const buffer of message.buffers) {\n            buffers.push(buffer);\n            downloaded += buffer.byteLength;\n            progress.value = downloaded;\n          }\n        }\n      }\n      const blob = new Blob(buffers, {type: 'application/binary'});\n      const a = document.createElement('a');\n      a.href = window.URL.createObjectURL(blob);\n      a.download = filename;\n      div.appendChild(a);\n      a.click();\n      div.remove();\n    }\n  ",
      "text/plain": [
       "<IPython.core.display.Javascript object>"
      ]
     },
     "metadata": {},
     "output_type": "display_data"
    },
    {
     "data": {
      "application/javascript": "download(\"download_e21e9a03-7d7c-46c6-8e9d-f47f06e485cf\", \"grafico_populacao_jovem_residente_sjc_sp_2010_2022.json\", 10386)",
      "text/plain": [
       "<IPython.core.display.Javascript object>"
      ]
     },
     "metadata": {},
     "output_type": "display_data"
    }
   ],
   "source": [
    "#salva o arquivo JSON\n",
    "grafico_populacao_jovem_residente_sjc_sp_2010_2022 = json.dumps(fig, cls=PlotlyJSONEncoder)\n",
    "\n",
    "with open(\"grafico_populacao_jovem_residente_sjc_sp_2010_2022.json\", \"w\") as f:\n",
    "    f.write(grafico_populacao_jovem_residente_sjc_sp_2010_2022)\n",
    "\n",
    "#faz o download\n",
    "files.download(\"grafico_populacao_jovem_residente_sjc_sp_2010_2022.json\")"
   ]
  },
  {
   "cell_type": "markdown",
   "metadata": {
    "id": "FtJoeKM5ztfe"
   },
   "source": [
    "GRÁFICO - \"Razão da população 15–29 anos em relação ao total por cidade (2010 e 2022)\"\n",
    "\n",
    "(reponsáveis: João, Robert; adaptação e padronização: Guilherme)"
   ]
  },
  {
   "cell_type": "code",
   "execution_count": 50,
   "metadata": {
    "colab": {
     "base_uri": "https://localhost:8080/",
     "height": 542
    },
    "executionInfo": {
     "elapsed": 152,
     "status": "ok",
     "timestamp": 1761426585176,
     "user": {
      "displayName": "Guilherme",
      "userId": "17933761807338123732"
     },
     "user_tz": 180
    },
    "id": "a1yoztsEvJ8k",
    "outputId": "f9934830-c944-4768-cb80-a898a600c275"
   },
   "outputs": [
    {
     "data": {
      "text/html": [
       "<html>\n",
       "<head><meta charset=\"utf-8\" /></head>\n",
       "<body>\n",
       "    <div>            <script src=\"https://cdnjs.cloudflare.com/ajax/libs/mathjax/2.7.5/MathJax.js?config=TeX-AMS-MML_SVG\"></script><script type=\"text/javascript\">if (window.MathJax && window.MathJax.Hub && window.MathJax.Hub.Config) {window.MathJax.Hub.Config({SVG: {font: \"STIX-Web\"}});}</script>                <script type=\"text/javascript\">window.PlotlyConfig = {MathJaxConfig: 'local'};</script>\n",
       "        <script charset=\"utf-8\" src=\"https://cdn.plot.ly/plotly-2.35.2.min.js\"></script>                <div id=\"f01f4b95-c7d4-40fb-98b2-c1c333643ce0\" class=\"plotly-graph-div\" style=\"height:525px; width:100%;\"></div>            <script type=\"text/javascript\">                                    window.PLOTLYENV=window.PLOTLYENV || {};                                    if (document.getElementById(\"f01f4b95-c7d4-40fb-98b2-c1c333643ce0\")) {                    Plotly.newPlot(                        \"f01f4b95-c7d4-40fb-98b2-c1c333643ce0\",                        [{\"alignmentgroup\":\"True\",\"hovertemplate\":\"Local=SJC\\u003cbr\\u003eAno=%{x}\\u003cbr\\u003ePercentual_15_29=%{text}\\u003cextra\\u003e\\u003c\\u002fextra\\u003e\",\"legendgroup\":\"SJC\",\"marker\":{\"color\":\"#636efa\",\"pattern\":{\"shape\":\"\"}},\"name\":\"SJC\",\"offsetgroup\":\"SJC\",\"orientation\":\"v\",\"showlegend\":true,\"text\":[26.77399229427182,20.763097263626634],\"textposition\":\"outside\",\"x\":[2010,2022],\"xaxis\":\"x\",\"y\":[26.77399229427182,20.763097263626634],\"yaxis\":\"y\",\"type\":\"bar\",\"texttemplate\":\"%{text:.2f}%\"},{\"alignmentgroup\":\"True\",\"hovertemplate\":\"Local=SP\\u003cbr\\u003eAno=%{x}\\u003cbr\\u003ePercentual_15_29=%{text}\\u003cextra\\u003e\\u003c\\u002fextra\\u003e\",\"legendgroup\":\"SP\",\"marker\":{\"color\":\"#ef553b\",\"pattern\":{\"shape\":\"\"}},\"name\":\"SP\",\"offsetgroup\":\"SP\",\"orientation\":\"v\",\"showlegend\":true,\"text\":[25.845276799588536,21.38308779104853],\"textposition\":\"outside\",\"x\":[2010,2022],\"xaxis\":\"x\",\"y\":[25.845276799588536,21.38308779104853],\"yaxis\":\"y\",\"type\":\"bar\",\"texttemplate\":\"%{text:.2f}%\"}],                        {\"template\":{\"data\":{\"histogram2dcontour\":[{\"type\":\"histogram2dcontour\",\"colorbar\":{\"outlinewidth\":0,\"ticks\":\"\"},\"colorscale\":[[0.0,\"#0d0887\"],[0.1111111111111111,\"#46039f\"],[0.2222222222222222,\"#7201a8\"],[0.3333333333333333,\"#9c179e\"],[0.4444444444444444,\"#bd3786\"],[0.5555555555555556,\"#d8576b\"],[0.6666666666666666,\"#ed7953\"],[0.7777777777777778,\"#fb9f3a\"],[0.8888888888888888,\"#fdca26\"],[1.0,\"#f0f921\"]]}],\"choropleth\":[{\"type\":\"choropleth\",\"colorbar\":{\"outlinewidth\":0,\"ticks\":\"\"}}],\"histogram2d\":[{\"type\":\"histogram2d\",\"colorbar\":{\"outlinewidth\":0,\"ticks\":\"\"},\"colorscale\":[[0.0,\"#0d0887\"],[0.1111111111111111,\"#46039f\"],[0.2222222222222222,\"#7201a8\"],[0.3333333333333333,\"#9c179e\"],[0.4444444444444444,\"#bd3786\"],[0.5555555555555556,\"#d8576b\"],[0.6666666666666666,\"#ed7953\"],[0.7777777777777778,\"#fb9f3a\"],[0.8888888888888888,\"#fdca26\"],[1.0,\"#f0f921\"]]}],\"heatmap\":[{\"type\":\"heatmap\",\"colorbar\":{\"outlinewidth\":0,\"ticks\":\"\"},\"colorscale\":[[0.0,\"#0d0887\"],[0.1111111111111111,\"#46039f\"],[0.2222222222222222,\"#7201a8\"],[0.3333333333333333,\"#9c179e\"],[0.4444444444444444,\"#bd3786\"],[0.5555555555555556,\"#d8576b\"],[0.6666666666666666,\"#ed7953\"],[0.7777777777777778,\"#fb9f3a\"],[0.8888888888888888,\"#fdca26\"],[1.0,\"#f0f921\"]]}],\"heatmapgl\":[{\"type\":\"heatmapgl\",\"colorbar\":{\"outlinewidth\":0,\"ticks\":\"\"},\"colorscale\":[[0.0,\"#0d0887\"],[0.1111111111111111,\"#46039f\"],[0.2222222222222222,\"#7201a8\"],[0.3333333333333333,\"#9c179e\"],[0.4444444444444444,\"#bd3786\"],[0.5555555555555556,\"#d8576b\"],[0.6666666666666666,\"#ed7953\"],[0.7777777777777778,\"#fb9f3a\"],[0.8888888888888888,\"#fdca26\"],[1.0,\"#f0f921\"]]}],\"contourcarpet\":[{\"type\":\"contourcarpet\",\"colorbar\":{\"outlinewidth\":0,\"ticks\":\"\"}}],\"contour\":[{\"type\":\"contour\",\"colorbar\":{\"outlinewidth\":0,\"ticks\":\"\"},\"colorscale\":[[0.0,\"#0d0887\"],[0.1111111111111111,\"#46039f\"],[0.2222222222222222,\"#7201a8\"],[0.3333333333333333,\"#9c179e\"],[0.4444444444444444,\"#bd3786\"],[0.5555555555555556,\"#d8576b\"],[0.6666666666666666,\"#ed7953\"],[0.7777777777777778,\"#fb9f3a\"],[0.8888888888888888,\"#fdca26\"],[1.0,\"#f0f921\"]]}],\"surface\":[{\"type\":\"surface\",\"colorbar\":{\"outlinewidth\":0,\"ticks\":\"\"},\"colorscale\":[[0.0,\"#0d0887\"],[0.1111111111111111,\"#46039f\"],[0.2222222222222222,\"#7201a8\"],[0.3333333333333333,\"#9c179e\"],[0.4444444444444444,\"#bd3786\"],[0.5555555555555556,\"#d8576b\"],[0.6666666666666666,\"#ed7953\"],[0.7777777777777778,\"#fb9f3a\"],[0.8888888888888888,\"#fdca26\"],[1.0,\"#f0f921\"]]}],\"mesh3d\":[{\"type\":\"mesh3d\",\"colorbar\":{\"outlinewidth\":0,\"ticks\":\"\"}}],\"scatter\":[{\"fillpattern\":{\"fillmode\":\"overlay\",\"size\":10,\"solidity\":0.2},\"type\":\"scatter\"}],\"parcoords\":[{\"type\":\"parcoords\",\"line\":{\"colorbar\":{\"outlinewidth\":0,\"ticks\":\"\"}}}],\"scatterpolargl\":[{\"type\":\"scatterpolargl\",\"marker\":{\"colorbar\":{\"outlinewidth\":0,\"ticks\":\"\"}}}],\"bar\":[{\"error_x\":{\"color\":\"#2a3f5f\"},\"error_y\":{\"color\":\"#2a3f5f\"},\"marker\":{\"line\":{\"color\":\"#E5ECF6\",\"width\":0.5},\"pattern\":{\"fillmode\":\"overlay\",\"size\":10,\"solidity\":0.2}},\"type\":\"bar\"}],\"scattergeo\":[{\"type\":\"scattergeo\",\"marker\":{\"colorbar\":{\"outlinewidth\":0,\"ticks\":\"\"}}}],\"scatterpolar\":[{\"type\":\"scatterpolar\",\"marker\":{\"colorbar\":{\"outlinewidth\":0,\"ticks\":\"\"}}}],\"histogram\":[{\"marker\":{\"pattern\":{\"fillmode\":\"overlay\",\"size\":10,\"solidity\":0.2}},\"type\":\"histogram\"}],\"scattergl\":[{\"type\":\"scattergl\",\"marker\":{\"colorbar\":{\"outlinewidth\":0,\"ticks\":\"\"}}}],\"scatter3d\":[{\"type\":\"scatter3d\",\"line\":{\"colorbar\":{\"outlinewidth\":0,\"ticks\":\"\"}},\"marker\":{\"colorbar\":{\"outlinewidth\":0,\"ticks\":\"\"}}}],\"scattermapbox\":[{\"type\":\"scattermapbox\",\"marker\":{\"colorbar\":{\"outlinewidth\":0,\"ticks\":\"\"}}}],\"scatterternary\":[{\"type\":\"scatterternary\",\"marker\":{\"colorbar\":{\"outlinewidth\":0,\"ticks\":\"\"}}}],\"scattercarpet\":[{\"type\":\"scattercarpet\",\"marker\":{\"colorbar\":{\"outlinewidth\":0,\"ticks\":\"\"}}}],\"carpet\":[{\"aaxis\":{\"endlinecolor\":\"#2a3f5f\",\"gridcolor\":\"white\",\"linecolor\":\"white\",\"minorgridcolor\":\"white\",\"startlinecolor\":\"#2a3f5f\"},\"baxis\":{\"endlinecolor\":\"#2a3f5f\",\"gridcolor\":\"white\",\"linecolor\":\"white\",\"minorgridcolor\":\"white\",\"startlinecolor\":\"#2a3f5f\"},\"type\":\"carpet\"}],\"table\":[{\"cells\":{\"fill\":{\"color\":\"#EBF0F8\"},\"line\":{\"color\":\"white\"}},\"header\":{\"fill\":{\"color\":\"#C8D4E3\"},\"line\":{\"color\":\"white\"}},\"type\":\"table\"}],\"barpolar\":[{\"marker\":{\"line\":{\"color\":\"#E5ECF6\",\"width\":0.5},\"pattern\":{\"fillmode\":\"overlay\",\"size\":10,\"solidity\":0.2}},\"type\":\"barpolar\"}],\"pie\":[{\"automargin\":true,\"type\":\"pie\"}]},\"layout\":{\"autotypenumbers\":\"strict\",\"colorway\":[\"#636efa\",\"#EF553B\",\"#00cc96\",\"#ab63fa\",\"#FFA15A\",\"#19d3f3\",\"#FF6692\",\"#B6E880\",\"#FF97FF\",\"#FECB52\"],\"font\":{\"color\":\"#2a3f5f\"},\"hovermode\":\"closest\",\"hoverlabel\":{\"align\":\"left\"},\"paper_bgcolor\":\"white\",\"plot_bgcolor\":\"#E5ECF6\",\"polar\":{\"bgcolor\":\"#E5ECF6\",\"angularaxis\":{\"gridcolor\":\"white\",\"linecolor\":\"white\",\"ticks\":\"\"},\"radialaxis\":{\"gridcolor\":\"white\",\"linecolor\":\"white\",\"ticks\":\"\"}},\"ternary\":{\"bgcolor\":\"#E5ECF6\",\"aaxis\":{\"gridcolor\":\"white\",\"linecolor\":\"white\",\"ticks\":\"\"},\"baxis\":{\"gridcolor\":\"white\",\"linecolor\":\"white\",\"ticks\":\"\"},\"caxis\":{\"gridcolor\":\"white\",\"linecolor\":\"white\",\"ticks\":\"\"}},\"coloraxis\":{\"colorbar\":{\"outlinewidth\":0,\"ticks\":\"\"}},\"colorscale\":{\"sequential\":[[0.0,\"#0d0887\"],[0.1111111111111111,\"#46039f\"],[0.2222222222222222,\"#7201a8\"],[0.3333333333333333,\"#9c179e\"],[0.4444444444444444,\"#bd3786\"],[0.5555555555555556,\"#d8576b\"],[0.6666666666666666,\"#ed7953\"],[0.7777777777777778,\"#fb9f3a\"],[0.8888888888888888,\"#fdca26\"],[1.0,\"#f0f921\"]],\"sequentialminus\":[[0.0,\"#0d0887\"],[0.1111111111111111,\"#46039f\"],[0.2222222222222222,\"#7201a8\"],[0.3333333333333333,\"#9c179e\"],[0.4444444444444444,\"#bd3786\"],[0.5555555555555556,\"#d8576b\"],[0.6666666666666666,\"#ed7953\"],[0.7777777777777778,\"#fb9f3a\"],[0.8888888888888888,\"#fdca26\"],[1.0,\"#f0f921\"]],\"diverging\":[[0,\"#8e0152\"],[0.1,\"#c51b7d\"],[0.2,\"#de77ae\"],[0.3,\"#f1b6da\"],[0.4,\"#fde0ef\"],[0.5,\"#f7f7f7\"],[0.6,\"#e6f5d0\"],[0.7,\"#b8e186\"],[0.8,\"#7fbc41\"],[0.9,\"#4d9221\"],[1,\"#276419\"]]},\"xaxis\":{\"gridcolor\":\"white\",\"linecolor\":\"white\",\"ticks\":\"\",\"title\":{\"standoff\":15},\"zerolinecolor\":\"white\",\"automargin\":true,\"zerolinewidth\":2},\"yaxis\":{\"gridcolor\":\"white\",\"linecolor\":\"white\",\"ticks\":\"\",\"title\":{\"standoff\":15},\"zerolinecolor\":\"white\",\"automargin\":true,\"zerolinewidth\":2},\"scene\":{\"xaxis\":{\"backgroundcolor\":\"#E5ECF6\",\"gridcolor\":\"white\",\"linecolor\":\"white\",\"showbackground\":true,\"ticks\":\"\",\"zerolinecolor\":\"white\",\"gridwidth\":2},\"yaxis\":{\"backgroundcolor\":\"#E5ECF6\",\"gridcolor\":\"white\",\"linecolor\":\"white\",\"showbackground\":true,\"ticks\":\"\",\"zerolinecolor\":\"white\",\"gridwidth\":2},\"zaxis\":{\"backgroundcolor\":\"#E5ECF6\",\"gridcolor\":\"white\",\"linecolor\":\"white\",\"showbackground\":true,\"ticks\":\"\",\"zerolinecolor\":\"white\",\"gridwidth\":2}},\"shapedefaults\":{\"line\":{\"color\":\"#2a3f5f\"}},\"annotationdefaults\":{\"arrowcolor\":\"#2a3f5f\",\"arrowhead\":0,\"arrowwidth\":1},\"geo\":{\"bgcolor\":\"white\",\"landcolor\":\"#E5ECF6\",\"subunitcolor\":\"white\",\"showland\":true,\"showlakes\":true,\"lakecolor\":\"white\"},\"title\":{\"x\":0.05},\"mapbox\":{\"style\":\"light\"}}},\"xaxis\":{\"anchor\":\"y\",\"domain\":[0.0,1.0],\"title\":{\"text\":\"Ano\"}},\"yaxis\":{\"anchor\":\"x\",\"domain\":[0.0,1.0],\"title\":{\"text\":\"Percentual (%)\"}},\"legend\":{\"title\":{\"text\":\"Cidade\"},\"tracegroupgap\":0},\"title\":{\"text\":\"Razão da população 15–29 anos em relação ao total por cidade (2010 e 2022)\"},\"barmode\":\"group\",\"margin\":{\"t\":80,\"b\":50},\"bargap\":0.4},                        {\"responsive\": true}                    ).then(function(){\n",
       "                            \n",
       "var gd = document.getElementById('f01f4b95-c7d4-40fb-98b2-c1c333643ce0');\n",
       "var x = new MutationObserver(function (mutations, observer) {{\n",
       "        var display = window.getComputedStyle(gd).display;\n",
       "        if (!display || display === 'none') {{\n",
       "            console.log([gd, 'removed!']);\n",
       "            Plotly.purge(gd);\n",
       "            observer.disconnect();\n",
       "        }}\n",
       "}});\n",
       "\n",
       "// Listen for the removal of the full notebook cells\n",
       "var notebookContainer = gd.closest('#notebook-container');\n",
       "if (notebookContainer) {{\n",
       "    x.observe(notebookContainer, {childList: true});\n",
       "}}\n",
       "\n",
       "// Listen for the clearing of the current output cell\n",
       "var outputEl = gd.closest('.output');\n",
       "if (outputEl) {{\n",
       "    x.observe(outputEl, {childList: true});\n",
       "}}\n",
       "\n",
       "                        })                };                            </script>        </div>\n",
       "</body>\n",
       "</html>"
      ]
     },
     "metadata": {},
     "output_type": "display_data"
    }
   ],
   "source": [
    "#estruturando um dataframe para sjc e sp\n",
    "df_grafico_razao_residente_2010_2022 = pd.DataFrame({\n",
    "    \"Ano\": [2010, 2010, 2022, 2022],\n",
    "    \"Local\": [\"SJC\", \"SP\", \"SJC\", \"SP\"],\n",
    "    \"Percentual_15_29\": [\n",
    "        sjc_percent_15_29_2010, sp_percent_15_29_2010,\n",
    "        sjc_percent_15_29_2022, sp_percent_15_29_2022\n",
    "    ]\n",
    "})\n",
    "\n",
    "#gráfico\n",
    "fig = px.bar(\n",
    "    df_grafico_razao_residente_2010_2022,\n",
    "    x=\"Ano\",\n",
    "    y=\"Percentual_15_29\",\n",
    "    text=\"Percentual_15_29\",\n",
    "    color=\"Local\",\n",
    "    barmode=\"group\",\n",
    "    title=\"Razão da população 15–29 anos em relação ao total por cidade (2010 e 2022)\",\n",
    "    color_discrete_map={\"SJC\": \"#636efa\", \"SP\": \"#ef553b\"}\n",
    ")\n",
    "\n",
    "fig.update_traces(texttemplate=\"%{text:.2f}%\", textposition=\"outside\")\n",
    "fig.update_layout(\n",
    "    yaxis_title=\"Percentual (%)\",\n",
    "    legend_title=\"Cidade\",\n",
    "    margin=dict(t=80, b=50),\n",
    "    bargap=0.4\n",
    ")\n",
    "\n",
    "fig.show()"
   ]
  },
  {
   "cell_type": "markdown",
   "metadata": {
    "id": "KsbFwolv1iiT"
   },
   "source": [
    "EXPORTAÇÃO DO GRÁFICO PARA ARQUIVO JSON (A EXECUÇÃO DESTA LINHA É OPCINAL)\n"
   ]
  },
  {
   "cell_type": "code",
   "execution_count": 51,
   "metadata": {
    "colab": {
     "base_uri": "https://localhost:8080/",
     "height": 17
    },
    "executionInfo": {
     "elapsed": 31,
     "status": "ok",
     "timestamp": 1761426585209,
     "user": {
      "displayName": "Guilherme",
      "userId": "17933761807338123732"
     },
     "user_tz": 180
    },
    "id": "yCTheKkZzCM2",
    "outputId": "04891907-c0fc-4da2-d176-46d040f9f943"
   },
   "outputs": [
    {
     "data": {
      "application/javascript": "\n    async function download(id, filename, size) {\n      if (!google.colab.kernel.accessAllowed) {\n        return;\n      }\n      const div = document.createElement('div');\n      const label = document.createElement('label');\n      label.textContent = `Downloading \"${filename}\": `;\n      div.appendChild(label);\n      const progress = document.createElement('progress');\n      progress.max = size;\n      div.appendChild(progress);\n      document.body.appendChild(div);\n\n      const buffers = [];\n      let downloaded = 0;\n\n      const channel = await google.colab.kernel.comms.open(id);\n      // Send a message to notify the kernel that we're ready.\n      channel.send({})\n\n      for await (const message of channel.messages) {\n        // Send a message to notify the kernel that we're ready.\n        channel.send({})\n        if (message.buffers) {\n          for (const buffer of message.buffers) {\n            buffers.push(buffer);\n            downloaded += buffer.byteLength;\n            progress.value = downloaded;\n          }\n        }\n      }\n      const blob = new Blob(buffers, {type: 'application/binary'});\n      const a = document.createElement('a');\n      a.href = window.URL.createObjectURL(blob);\n      a.download = filename;\n      div.appendChild(a);\n      a.click();\n      div.remove();\n    }\n  ",
      "text/plain": [
       "<IPython.core.display.Javascript object>"
      ]
     },
     "metadata": {},
     "output_type": "display_data"
    },
    {
     "data": {
      "application/javascript": "download(\"download_ef2471a8-4c6a-4eb5-a86c-6c3f6c2f8bcb\", \"grafico_razao_jovens_residentes_sjc_sp_2010_2022.json\", 8957)",
      "text/plain": [
       "<IPython.core.display.Javascript object>"
      ]
     },
     "metadata": {},
     "output_type": "display_data"
    }
   ],
   "source": [
    "#salva o arquivo JSON\n",
    "grafico_razao_jovens_residentes_sjc_sp_2010_2022 = json.dumps(fig, cls=PlotlyJSONEncoder)\n",
    "\n",
    "with open(\"grafico_razao_jovens_residentes_sjc_sp_2010_2022.json\", \"w\") as f:\n",
    "    f.write(grafico_razao_jovens_residentes_sjc_sp_2010_2022)\n",
    "\n",
    "#faz o download\n",
    "files.download(\"grafico_razao_jovens_residentes_sjc_sp_2010_2022.json\")"
   ]
  },
  {
   "cell_type": "markdown",
   "metadata": {
    "id": "GJgfijYO5ehf"
   },
   "source": [
    "# **PIRÂMIDE ETÁRIA (SJC x SP) 2010 - 2022**"
   ]
  },
  {
   "cell_type": "markdown",
   "metadata": {
    "id": "fQKKvMfE657X"
   },
   "source": [
    "ANO DE 2010 (responsável: Lucas; padronização: Guilherme)"
   ]
  },
  {
   "cell_type": "code",
   "execution_count": 5,
   "metadata": {
    "executionInfo": {
     "elapsed": 2371,
     "status": "ok",
     "timestamp": 1761426717180,
     "user": {
      "displayName": "Guilherme",
      "userId": "17933761807338123732"
     },
     "user_tz": 180
    },
    "id": "BidC8LFp7D19"
   },
   "outputs": [],
   "source": [
    "#seção 01\n",
    "df_etario_2010 = pd.read_csv('/content/drive/MyDrive/populacao_jovem/populacao_residente_total_2010.csv', sep=\";\")\n",
    "df_etario_2010_sp = pd.read_excel('/content/drive/MyDrive/populacao_jovem/populacao_residente_total_SP_2010.xlsx')\n",
    "\n",
    "df_etario_homem_2010 = df_etario_2010[[\"Masculino\",\"Quantidade idade\"]]\n",
    "df_etario_mulher_2010 = df_etario_2010[[\"Feminino\",\"Quantidade idade.1\"]]\n",
    "\n",
    "#seção 02\n",
    "def formata_coluna_2010(df, cidade):\n",
    "  df.drop(\"Feminino\", axis=1, inplace=True)\n",
    "  df.rename(columns={\"Masculino\":\"Faixa etária\"}, inplace=True)\n",
    "\n",
    "  df[\"Quantidade\"] = df[\"Quantidade idade\"] + df[\"Quantidade idade.1\"]\n",
    "  df.drop([\"Quantidade idade\", \"Quantidade idade.1\"], axis=1, inplace=True)\n",
    "\n",
    "  df.insert(0, \"Município\", cidade)\n",
    "\n",
    "formata_coluna_2010(df_etario_2010, \"São José dos Campos (SP)\")\n",
    "formata_coluna_2010(df_etario_2010_sp, \"São Paulo (SP)\")\n",
    "\n",
    "df_etario_2010 = pd.concat([df_etario_2010, df_etario_2010_sp])\n",
    "\n",
    "#seção 03\n",
    "filtro_0_1 = df_etario_2010['Faixa etária'] == \"Menos de 1 ano de idade\"\n",
    "filtro_1_4 = df_etario_2010['Faixa etária'] == \"1 a 4 anos de idade\"\n",
    "\n",
    "soma_0_4 = df_etario_2010[filtro_0_1 | filtro_1_4][\"Quantidade\"].sum()\n",
    "\n",
    "nova_linha = pd.DataFrame({\"Município\": \"São José dos Campos (SP)\", \"Faixa etária\": \"0 a 4 anos\", \"Quantidade\": soma_0_4}, index=[0])\n",
    "df_etario_2010 = df_etario_2010[~filtro_0_1 & ~filtro_1_4].copy()\n",
    "\n",
    "df_etario_2010 = pd.concat([df_etario_2010, nova_linha])\n",
    "\n",
    "#seção 04\n",
    "filtro_14 = df_etario_2010[\"Faixa etária\"] == \"10 a 14 anos de idade\"\n",
    "df_etario_2010.loc[filtro_14, \"Faixa etária\"] = \"10 a 14 anos\"\n",
    "df_etario_2010.reset_index(drop=True,inplace=True)\n",
    "\n",
    "#seção 05\n",
    "faixa_etaria = [\n",
    "    '0 a 4 anos', '5 a 9 anos', '10 a 14 anos', '15 a 19 anos',\n",
    "    '20 a 24 anos', '25 a 29 anos', '30 a 34 anos', '35 a 39 anos',\n",
    "    '40 a 44 anos', '45 a 49 anos', '50 a 54 anos', '55 a 59 anos',\n",
    "    '60 a 64 anos', '65 a 69 anos', '70 a 74 anos', '75 a 79 anos',\n",
    "    '80 a 84 anos', '85 a 89 anos', '90 a 94 anos', '95 a 99 anos',\n",
    "    '100 anos ou mais'\n",
    "]\n",
    "\n",
    "df_etario_2010['Faixa etária'] = pd.Categorical(\n",
    "    df_etario_2010['Faixa etária'],\n",
    "    categories=faixa_etaria,\n",
    "    ordered=True\n",
    ")\n",
    "\n",
    "#seção 06\n",
    "df_etario_2010.sort_values(by=['Faixa etária'], inplace=True)\n",
    "df_etario_2010.reset_index(drop=True, inplace=True)"
   ]
  },
  {
   "cell_type": "markdown",
   "metadata": {
    "id": "-58mdyEc65rt"
   },
   "source": [
    "ANO DE 2022 (responsável: Lucas; padronização: Guilherme)"
   ]
  },
  {
   "cell_type": "code",
   "execution_count": 6,
   "metadata": {
    "colab": {
     "base_uri": "https://localhost:8080/"
    },
    "executionInfo": {
     "elapsed": 3897,
     "status": "ok",
     "timestamp": 1761426721081,
     "user": {
      "displayName": "Guilherme",
      "userId": "17933761807338123732"
     },
     "user_tz": 180
    },
    "id": "M3ResxDT8h21",
    "outputId": "b80d9520-6945-416f-93bc-070f60af1760"
   },
   "outputs": [
    {
     "name": "stderr",
     "output_type": "stream",
     "text": [
      "/tmp/ipython-input-1236242200.py:40: SettingWithCopyWarning: \n",
      "A value is trying to be set on a copy of a slice from a DataFrame\n",
      "\n",
      "See the caveats in the documentation: https://pandas.pydata.org/pandas-docs/stable/user_guide/indexing.html#returning-a-view-versus-a-copy\n",
      "  df_etario_geral_2022.drop(columns=[\"Forma de declaração da idade\", \"Total_Ambos\"], axis=1, inplace=True)\n",
      "/tmp/ipython-input-1236242200.py:41: SettingWithCopyWarning: \n",
      "A value is trying to be set on a copy of a slice from a DataFrame\n",
      "\n",
      "See the caveats in the documentation: https://pandas.pydata.org/pandas-docs/stable/user_guide/indexing.html#returning-a-view-versus-a-copy\n",
      "  df_etario_geral_2022.rename(columns={\"Unidade da Federação e Município\": \"Município\"}, inplace=True)\n"
     ]
    }
   ],
   "source": [
    "#seção 01\n",
    "df_etario_2022 = pd.read_excel('/content/drive/MyDrive/populacao_jovem/populacao_residente_total_2022.xlsx', sheet_name=\"População residente (Pessoas)\", skiprows=2)\n",
    "\n",
    "df_etario_2022.iloc[2, 0] = \"Unidade da Federação e Município\"\n",
    "df_etario_2022.iloc[2, 1] = \"Forma de declaração da idade\"\n",
    "df_etario_2022.iloc[2, 2] = \"Total_Ambos\"\n",
    "df_etario_2022.iloc[2, 24] = \"Total_Homens\"\n",
    "df_etario_2022.iloc[2, 46] = \"Total_Mulheres\"\n",
    "\n",
    "formated_headers = df_etario_2022.iloc[2].values.tolist()\n",
    "\n",
    "df_etario_2022 = df_etario_2022.drop(index=[0, 1, 2, 649])\n",
    "df_etario_2022.columns = formated_headers\n",
    "\n",
    "df_etario_2022 = df_etario_2022.reset_index(drop=True)\n",
    "\n",
    "#seção 02\n",
    "dic_colunas = {\n",
    "    \"geral\": [],\n",
    "    \"homens\": [],\n",
    "    \"mulheres\": [],\n",
    "}\n",
    "\n",
    "colunas_faixa_etária = []\n",
    "\n",
    "estado_atual = 'geral'\n",
    "for i, column in enumerate(df_etario_2022.columns[2:], start=2):\n",
    "    if column.endswith(\"Homens\"):\n",
    "        estado_atual = 'homens'\n",
    "\n",
    "    if column.endswith(\"Mulheres\"):\n",
    "        estado_atual = 'mulheres'\n",
    "\n",
    "    if 'anos' in column and column not in colunas_faixa_etária:\n",
    "      colunas_faixa_etária.append(column)\n",
    "\n",
    "    dic_colunas[estado_atual].append(i)\n",
    "\n",
    "df_etario_geral_2022 = df_etario_2022.iloc[:, [0,1] + dic_colunas[\"geral\"]]\n",
    "df_etario_geral_2022.drop(columns=[\"Forma de declaração da idade\", \"Total_Ambos\"], axis=1, inplace=True)\n",
    "df_etario_geral_2022.rename(columns={\"Unidade da Federação e Município\": \"Município\"}, inplace=True)\n",
    "\n",
    "#seção 03\n",
    "df_etario_geral_2022 = df_etario_geral_2022.melt(id_vars=\"Município\", var_name=\"Faixa etária\", value_name=\"Quantidade\")\n",
    "\n",
    "df_etario_geral_sjc_2022 = df_etario_geral_2022[df_etario_geral_2022[\"Município\"] == \"São José dos Campos (SP)\"]\n",
    "df_etario_geral_sjc_2022.reset_index(drop=True, inplace=True)\n",
    "df_etario_geral_sp_2022 = df_etario_geral_2022[df_etario_geral_2022[\"Município\"] == \"São Paulo (SP)\"]\n",
    "df_etario_geral_sp_2022 = df_etario_geral_sp_2022.reset_index(drop=True)\n",
    "\n",
    "df_etario_2022 = pd.DataFrame()\n",
    "df_etario_2022 = pd.concat([df_etario_geral_sjc_2022, df_etario_geral_sp_2022], ignore_index=True)"
   ]
  },
  {
   "cell_type": "markdown",
   "metadata": {
    "id": "5yXcm2ND9L5d"
   },
   "source": [
    "GRÁFICO - \"Pirâmide Etária São José dos Campos vs São Paulo - 2010 x 2022\"\n",
    "\n",
    "(reponsável: Lucas; adaptação e padronização: Guilherme)"
   ]
  },
  {
   "cell_type": "code",
   "execution_count": null,
   "metadata": {
    "colab": {
     "base_uri": "https://localhost:8080/",
     "height": 542
    },
    "executionInfo": {
     "elapsed": 98,
     "status": "ok",
     "timestamp": 1761427565436,
     "user": {
      "displayName": "Guilherme",
      "userId": "17933761807338123732"
     },
     "user_tz": 180
    },
    "id": "298Zi-HL9TTx",
    "outputId": "033d9d46-8d77-4e85-dee4-e15083406937"
   },
   "outputs": [
    {
     "data": {
      "text/html": [
       "<html>\n",
       "<head><meta charset=\"utf-8\" /></head>\n",
       "<body>\n",
       "    <div>            <script src=\"https://cdnjs.cloudflare.com/ajax/libs/mathjax/2.7.5/MathJax.js?config=TeX-AMS-MML_SVG\"></script><script type=\"text/javascript\">if (window.MathJax && window.MathJax.Hub && window.MathJax.Hub.Config) {window.MathJax.Hub.Config({SVG: {font: \"STIX-Web\"}});}</script>                <script type=\"text/javascript\">window.PlotlyConfig = {MathJaxConfig: 'local'};</script>\n",
       "        <script charset=\"utf-8\" src=\"https://cdn.plot.ly/plotly-2.35.2.min.js\"></script>                <div id=\"4afad746-87e9-41ab-93a8-a5d3db79f031\" class=\"plotly-graph-div\" style=\"height:525px; width:100%;\"></div>            <script type=\"text/javascript\">                                    window.PLOTLYENV=window.PLOTLYENV || {};                                    if (document.getElementById(\"4afad746-87e9-41ab-93a8-a5d3db79f031\")) {                    Plotly.newPlot(                        \"4afad746-87e9-41ab-93a8-a5d3db79f031\",                        [{\"customdata\":[[\"São José dos Campos (SP)\",2022,\"0 a 4 anos\",39987],[\"São José dos Campos (SP)\",2022,\"5 a 9 anos\",44960],[\"São José dos Campos (SP)\",2022,\"10 a 14 anos\",43908],[\"São José dos Campos (SP)\",2022,\"15 a 19 anos\",44369],[\"São José dos Campos (SP)\",2022,\"20 a 24 anos\",49806],[\"São José dos Campos (SP)\",2022,\"25 a 29 anos\",50555],[\"São José dos Campos (SP)\",2022,\"30 a 34 anos\",53937],[\"São José dos Campos (SP)\",2022,\"35 a 39 anos\",57604],[\"São José dos Campos (SP)\",2022,\"40 a 44 anos\",59458],[\"São José dos Campos (SP)\",2022,\"45 a 49 anos\",49163],[\"São José dos Campos (SP)\",2022,\"50 a 54 anos\",44477],[\"São José dos Campos (SP)\",2022,\"55 a 59 anos\",41337],[\"São José dos Campos (SP)\",2022,\"60 a 64 anos\",36989],[\"São José dos Campos (SP)\",2022,\"65 a 69 anos\",30242],[\"São José dos Campos (SP)\",2022,\"70 a 74 anos\",22173],[\"São José dos Campos (SP)\",2022,\"75 a 79 anos\",13818],[\"São José dos Campos (SP)\",2022,\"80 a 84 anos\",7851],[\"São José dos Campos (SP)\",2022,\"85 a 89 anos\",4044],[\"São José dos Campos (SP)\",2022,\"90 a 94 anos\",1800],[\"São José dos Campos (SP)\",2022,\"95 a 99 anos\",491],[\"São José dos Campos (SP)\",2022,\"100 anos ou mais\",85],[\"São José dos Campos (SP)\",2010,\"0 a 4 anos\",42187],[\"São José dos Campos (SP)\",2010,\"5 a 9 anos\",43702],[\"São José dos Campos (SP)\",2010,\"10 a 14 anos\",51275],[\"São José dos Campos (SP)\",2010,\"15 a 19 anos\",52022],[\"São José dos Campos (SP)\",2010,\"20 a 24 anos\",56351],[\"São José dos Campos (SP)\",2010,\"25 a 29 anos\",60282],[\"São José dos Campos (SP)\",2010,\"30 a 34 anos\",56240],[\"São José dos Campos (SP)\",2010,\"35 a 39 anos\",48632],[\"São José dos Campos (SP)\",2010,\"40 a 44 anos\",45155],[\"São José dos Campos (SP)\",2010,\"45 a 49 anos\",42772],[\"São José dos Campos (SP)\",2010,\"50 a 54 anos\",38154],[\"São José dos Campos (SP)\",2010,\"55 a 59 anos\",31163],[\"São José dos Campos (SP)\",2010,\"60 a 64 anos\",22688],[\"São José dos Campos (SP)\",2010,\"65 a 69 anos\",14741],[\"São José dos Campos (SP)\",2010,\"70 a 74 anos\",10115],[\"São José dos Campos (SP)\",2010,\"75 a 79 anos\",6752],[\"São José dos Campos (SP)\",2010,\"80 a 84 anos\",4391],[\"São José dos Campos (SP)\",2010,\"85 a 89 anos\",2241],[\"São José dos Campos (SP)\",2010,\"90 a 94 anos\",815],[\"São José dos Campos (SP)\",2010,\"95 a 99 anos\",201],[\"São José dos Campos (SP)\",2010,\"100 anos ou mais\",42]],\"hovertemplate\":\"Município: %{customdata[0]}\\u003cbr\\u003eAno: %{customdata[1]}\\u003cbr\\u003eFaixa etária: %{customdata[2]}\\u003cextra\\u003e\\u003c\\u002fextra\\u003e\",\"name\":\"São José dos Campos\",\"orientation\":\"h\",\"x\":[39987,44960,43908,44369,49806,50555,53937,57604,59458,49163,44477,41337,36989,30242,22173,13818,7851,4044,1800,491,85,-42187,-43702,-51275,-52022,-56351,-60282,-56240,-48632,-45155,-42772,-38154,-31163,-22688,-14741,-10115,-6752,-4391,-2241,-815,-201,-42],\"y\":[\"0 a 4 anos\",\"5 a 9 anos\",\"10 a 14 anos\",\"15 a 19 anos\",\"20 a 24 anos\",\"25 a 29 anos\",\"30 a 34 anos\",\"35 a 39 anos\",\"40 a 44 anos\",\"45 a 49 anos\",\"50 a 54 anos\",\"55 a 59 anos\",\"60 a 64 anos\",\"65 a 69 anos\",\"70 a 74 anos\",\"75 a 79 anos\",\"80 a 84 anos\",\"85 a 89 anos\",\"90 a 94 anos\",\"95 a 99 anos\",\"100 anos ou mais\",\"0 a 4 anos\",\"5 a 9 anos\",\"10 a 14 anos\",\"15 a 19 anos\",\"20 a 24 anos\",\"25 a 29 anos\",\"30 a 34 anos\",\"35 a 39 anos\",\"40 a 44 anos\",\"45 a 49 anos\",\"50 a 54 anos\",\"55 a 59 anos\",\"60 a 64 anos\",\"65 a 69 anos\",\"70 a 74 anos\",\"75 a 79 anos\",\"80 a 84 anos\",\"85 a 89 anos\",\"90 a 94 anos\",\"95 a 99 anos\",\"100 anos ou mais\"],\"type\":\"bar\",\"xaxis\":\"x\",\"yaxis\":\"y\",\"textposition\":\"inside\",\"texttemplate\":\"%{customdata[3]}\"},{\"customdata\":[[\"São Paulo (SP)\",2022,\"0 a 4 anos\",599931],[\"São Paulo (SP)\",2022,\"5 a 9 anos\",682444],[\"São Paulo (SP)\",2022,\"10 a 14 anos\",670931],[\"São Paulo (SP)\",2022,\"15 a 19 anos\",720787],[\"São Paulo (SP)\",2022,\"20 a 24 anos\",845139],[\"São Paulo (SP)\",2022,\"25 a 29 anos\",882865],[\"São Paulo (SP)\",2022,\"30 a 34 anos\",888568],[\"São Paulo (SP)\",2022,\"35 a 39 anos\",942674],[\"São Paulo (SP)\",2022,\"40 a 44 anos\",947455],[\"São Paulo (SP)\",2022,\"45 a 49 anos\",812857],[\"São Paulo (SP)\",2022,\"50 a 54 anos\",752842],[\"São Paulo (SP)\",2022,\"55 a 59 anos\",682446],[\"São Paulo (SP)\",2022,\"60 a 64 anos\",606419],[\"São Paulo (SP)\",2022,\"65 a 69 anos\",490960],[\"São Paulo (SP)\",2022,\"70 a 74 anos\",370447],[\"São Paulo (SP)\",2022,\"75 a 79 anos\",244904],[\"São Paulo (SP)\",2022,\"80 a 84 anos\",161775],[\"São Paulo (SP)\",2022,\"85 a 89 anos\",92602],[\"São Paulo (SP)\",2022,\"90 a 94 anos\",42666],[\"São Paulo (SP)\",2022,\"95 a 99 anos\",11526],[\"São Paulo (SP)\",2022,\"100 anos ou mais\",1761],[\"São Paulo (SP)\",2010,\"0 a 4 anos\",710927],[\"São Paulo (SP)\",2010,\"5 a 9 anos\",758279],[\"São Paulo (SP)\",2010,\"10 a 14 anos\",867430],[\"São Paulo (SP)\",2010,\"15 a 19 anos\",842257],[\"São Paulo (SP)\",2010,\"20 a 24 anos\",991659],[\"São Paulo (SP)\",2010,\"25 a 29 anos\",1074582],[\"São Paulo (SP)\",2010,\"30 a 34 anos\",1010076],[\"São Paulo (SP)\",2010,\"35 a 39 anos\",888685],[\"São Paulo (SP)\",2010,\"40 a 44 anos\",812979],[\"São Paulo (SP)\",2010,\"45 a 49 anos\",742720],[\"São Paulo (SP)\",2010,\"50 a 54 anos\",667658],[\"São Paulo (SP)\",2010,\"55 a 59 anos\",548113],[\"São Paulo (SP)\",2010,\"60 a 64 anos\",423055],[\"São Paulo (SP)\",2010,\"65 a 69 anos\",302338],[\"São Paulo (SP)\",2010,\"70 a 74 anos\",237301],[\"São Paulo (SP)\",2010,\"75 a 79 anos\",170969],[\"São Paulo (SP)\",2010,\"80 a 84 anos\",119511],[\"São Paulo (SP)\",2010,\"85 a 89 anos\",57205],[\"São Paulo (SP)\",2010,\"90 a 94 anos\",21234],[\"São Paulo (SP)\",2010,\"95 a 99 anos\",5498],[\"São Paulo (SP)\",2010,\"100 anos ou mais\",1027]],\"hovertemplate\":\"Município: %{customdata[0]}\\u003cbr\\u003eAno: %{customdata[1]}\\u003cbr\\u003eFaixa etária: %{customdata[2]}\\u003cextra\\u003e\\u003c\\u002fextra\\u003e\",\"name\":\"São Paulo\",\"orientation\":\"h\",\"x\":[599931,682444,670931,720787,845139,882865,888568,942674,947455,812857,752842,682446,606419,490960,370447,244904,161775,92602,42666,11526,1761,-710927,-758279,-867430,-842257,-991659,-1074582,-1010076,-888685,-812979,-742720,-667658,-548113,-423055,-302338,-237301,-170969,-119511,-57205,-21234,-5498,-1027],\"y\":[\"0 a 4 anos\",\"5 a 9 anos\",\"10 a 14 anos\",\"15 a 19 anos\",\"20 a 24 anos\",\"25 a 29 anos\",\"30 a 34 anos\",\"35 a 39 anos\",\"40 a 44 anos\",\"45 a 49 anos\",\"50 a 54 anos\",\"55 a 59 anos\",\"60 a 64 anos\",\"65 a 69 anos\",\"70 a 74 anos\",\"75 a 79 anos\",\"80 a 84 anos\",\"85 a 89 anos\",\"90 a 94 anos\",\"95 a 99 anos\",\"100 anos ou mais\",\"0 a 4 anos\",\"5 a 9 anos\",\"10 a 14 anos\",\"15 a 19 anos\",\"20 a 24 anos\",\"25 a 29 anos\",\"30 a 34 anos\",\"35 a 39 anos\",\"40 a 44 anos\",\"45 a 49 anos\",\"50 a 54 anos\",\"55 a 59 anos\",\"60 a 64 anos\",\"65 a 69 anos\",\"70 a 74 anos\",\"75 a 79 anos\",\"80 a 84 anos\",\"85 a 89 anos\",\"90 a 94 anos\",\"95 a 99 anos\",\"100 anos ou mais\"],\"type\":\"bar\",\"xaxis\":\"x2\",\"yaxis\":\"y2\",\"textposition\":\"inside\",\"texttemplate\":\"%{customdata[3]}\"}],                        {\"template\":{\"data\":{\"barpolar\":[{\"marker\":{\"line\":{\"color\":\"white\",\"width\":0.5},\"pattern\":{\"fillmode\":\"overlay\",\"size\":10,\"solidity\":0.2}},\"type\":\"barpolar\"}],\"bar\":[{\"error_x\":{\"color\":\"#2a3f5f\"},\"error_y\":{\"color\":\"#2a3f5f\"},\"marker\":{\"line\":{\"color\":\"white\",\"width\":0.5},\"pattern\":{\"fillmode\":\"overlay\",\"size\":10,\"solidity\":0.2}},\"type\":\"bar\"}],\"carpet\":[{\"aaxis\":{\"endlinecolor\":\"#2a3f5f\",\"gridcolor\":\"#C8D4E3\",\"linecolor\":\"#C8D4E3\",\"minorgridcolor\":\"#C8D4E3\",\"startlinecolor\":\"#2a3f5f\"},\"baxis\":{\"endlinecolor\":\"#2a3f5f\",\"gridcolor\":\"#C8D4E3\",\"linecolor\":\"#C8D4E3\",\"minorgridcolor\":\"#C8D4E3\",\"startlinecolor\":\"#2a3f5f\"},\"type\":\"carpet\"}],\"choropleth\":[{\"colorbar\":{\"outlinewidth\":0,\"ticks\":\"\"},\"type\":\"choropleth\"}],\"contourcarpet\":[{\"colorbar\":{\"outlinewidth\":0,\"ticks\":\"\"},\"type\":\"contourcarpet\"}],\"contour\":[{\"colorbar\":{\"outlinewidth\":0,\"ticks\":\"\"},\"colorscale\":[[0.0,\"#0d0887\"],[0.1111111111111111,\"#46039f\"],[0.2222222222222222,\"#7201a8\"],[0.3333333333333333,\"#9c179e\"],[0.4444444444444444,\"#bd3786\"],[0.5555555555555556,\"#d8576b\"],[0.6666666666666666,\"#ed7953\"],[0.7777777777777778,\"#fb9f3a\"],[0.8888888888888888,\"#fdca26\"],[1.0,\"#f0f921\"]],\"type\":\"contour\"}],\"heatmapgl\":[{\"colorbar\":{\"outlinewidth\":0,\"ticks\":\"\"},\"colorscale\":[[0.0,\"#0d0887\"],[0.1111111111111111,\"#46039f\"],[0.2222222222222222,\"#7201a8\"],[0.3333333333333333,\"#9c179e\"],[0.4444444444444444,\"#bd3786\"],[0.5555555555555556,\"#d8576b\"],[0.6666666666666666,\"#ed7953\"],[0.7777777777777778,\"#fb9f3a\"],[0.8888888888888888,\"#fdca26\"],[1.0,\"#f0f921\"]],\"type\":\"heatmapgl\"}],\"heatmap\":[{\"colorbar\":{\"outlinewidth\":0,\"ticks\":\"\"},\"colorscale\":[[0.0,\"#0d0887\"],[0.1111111111111111,\"#46039f\"],[0.2222222222222222,\"#7201a8\"],[0.3333333333333333,\"#9c179e\"],[0.4444444444444444,\"#bd3786\"],[0.5555555555555556,\"#d8576b\"],[0.6666666666666666,\"#ed7953\"],[0.7777777777777778,\"#fb9f3a\"],[0.8888888888888888,\"#fdca26\"],[1.0,\"#f0f921\"]],\"type\":\"heatmap\"}],\"histogram2dcontour\":[{\"colorbar\":{\"outlinewidth\":0,\"ticks\":\"\"},\"colorscale\":[[0.0,\"#0d0887\"],[0.1111111111111111,\"#46039f\"],[0.2222222222222222,\"#7201a8\"],[0.3333333333333333,\"#9c179e\"],[0.4444444444444444,\"#bd3786\"],[0.5555555555555556,\"#d8576b\"],[0.6666666666666666,\"#ed7953\"],[0.7777777777777778,\"#fb9f3a\"],[0.8888888888888888,\"#fdca26\"],[1.0,\"#f0f921\"]],\"type\":\"histogram2dcontour\"}],\"histogram2d\":[{\"colorbar\":{\"outlinewidth\":0,\"ticks\":\"\"},\"colorscale\":[[0.0,\"#0d0887\"],[0.1111111111111111,\"#46039f\"],[0.2222222222222222,\"#7201a8\"],[0.3333333333333333,\"#9c179e\"],[0.4444444444444444,\"#bd3786\"],[0.5555555555555556,\"#d8576b\"],[0.6666666666666666,\"#ed7953\"],[0.7777777777777778,\"#fb9f3a\"],[0.8888888888888888,\"#fdca26\"],[1.0,\"#f0f921\"]],\"type\":\"histogram2d\"}],\"histogram\":[{\"marker\":{\"pattern\":{\"fillmode\":\"overlay\",\"size\":10,\"solidity\":0.2}},\"type\":\"histogram\"}],\"mesh3d\":[{\"colorbar\":{\"outlinewidth\":0,\"ticks\":\"\"},\"type\":\"mesh3d\"}],\"parcoords\":[{\"line\":{\"colorbar\":{\"outlinewidth\":0,\"ticks\":\"\"}},\"type\":\"parcoords\"}],\"pie\":[{\"automargin\":true,\"type\":\"pie\"}],\"scatter3d\":[{\"line\":{\"colorbar\":{\"outlinewidth\":0,\"ticks\":\"\"}},\"marker\":{\"colorbar\":{\"outlinewidth\":0,\"ticks\":\"\"}},\"type\":\"scatter3d\"}],\"scattercarpet\":[{\"marker\":{\"colorbar\":{\"outlinewidth\":0,\"ticks\":\"\"}},\"type\":\"scattercarpet\"}],\"scattergeo\":[{\"marker\":{\"colorbar\":{\"outlinewidth\":0,\"ticks\":\"\"}},\"type\":\"scattergeo\"}],\"scattergl\":[{\"marker\":{\"colorbar\":{\"outlinewidth\":0,\"ticks\":\"\"}},\"type\":\"scattergl\"}],\"scattermapbox\":[{\"marker\":{\"colorbar\":{\"outlinewidth\":0,\"ticks\":\"\"}},\"type\":\"scattermapbox\"}],\"scatterpolargl\":[{\"marker\":{\"colorbar\":{\"outlinewidth\":0,\"ticks\":\"\"}},\"type\":\"scatterpolargl\"}],\"scatterpolar\":[{\"marker\":{\"colorbar\":{\"outlinewidth\":0,\"ticks\":\"\"}},\"type\":\"scatterpolar\"}],\"scatter\":[{\"fillpattern\":{\"fillmode\":\"overlay\",\"size\":10,\"solidity\":0.2},\"type\":\"scatter\"}],\"scatterternary\":[{\"marker\":{\"colorbar\":{\"outlinewidth\":0,\"ticks\":\"\"}},\"type\":\"scatterternary\"}],\"surface\":[{\"colorbar\":{\"outlinewidth\":0,\"ticks\":\"\"},\"colorscale\":[[0.0,\"#0d0887\"],[0.1111111111111111,\"#46039f\"],[0.2222222222222222,\"#7201a8\"],[0.3333333333333333,\"#9c179e\"],[0.4444444444444444,\"#bd3786\"],[0.5555555555555556,\"#d8576b\"],[0.6666666666666666,\"#ed7953\"],[0.7777777777777778,\"#fb9f3a\"],[0.8888888888888888,\"#fdca26\"],[1.0,\"#f0f921\"]],\"type\":\"surface\"}],\"table\":[{\"cells\":{\"fill\":{\"color\":\"#EBF0F8\"},\"line\":{\"color\":\"white\"}},\"header\":{\"fill\":{\"color\":\"#C8D4E3\"},\"line\":{\"color\":\"white\"}},\"type\":\"table\"}]},\"layout\":{\"annotationdefaults\":{\"arrowcolor\":\"#2a3f5f\",\"arrowhead\":0,\"arrowwidth\":1},\"autotypenumbers\":\"strict\",\"coloraxis\":{\"colorbar\":{\"outlinewidth\":0,\"ticks\":\"\"}},\"colorscale\":{\"diverging\":[[0,\"#8e0152\"],[0.1,\"#c51b7d\"],[0.2,\"#de77ae\"],[0.3,\"#f1b6da\"],[0.4,\"#fde0ef\"],[0.5,\"#f7f7f7\"],[0.6,\"#e6f5d0\"],[0.7,\"#b8e186\"],[0.8,\"#7fbc41\"],[0.9,\"#4d9221\"],[1,\"#276419\"]],\"sequential\":[[0.0,\"#0d0887\"],[0.1111111111111111,\"#46039f\"],[0.2222222222222222,\"#7201a8\"],[0.3333333333333333,\"#9c179e\"],[0.4444444444444444,\"#bd3786\"],[0.5555555555555556,\"#d8576b\"],[0.6666666666666666,\"#ed7953\"],[0.7777777777777778,\"#fb9f3a\"],[0.8888888888888888,\"#fdca26\"],[1.0,\"#f0f921\"]],\"sequentialminus\":[[0.0,\"#0d0887\"],[0.1111111111111111,\"#46039f\"],[0.2222222222222222,\"#7201a8\"],[0.3333333333333333,\"#9c179e\"],[0.4444444444444444,\"#bd3786\"],[0.5555555555555556,\"#d8576b\"],[0.6666666666666666,\"#ed7953\"],[0.7777777777777778,\"#fb9f3a\"],[0.8888888888888888,\"#fdca26\"],[1.0,\"#f0f921\"]]},\"colorway\":[\"#636efa\",\"#EF553B\",\"#00cc96\",\"#ab63fa\",\"#FFA15A\",\"#19d3f3\",\"#FF6692\",\"#B6E880\",\"#FF97FF\",\"#FECB52\"],\"font\":{\"color\":\"#2a3f5f\"},\"geo\":{\"bgcolor\":\"white\",\"lakecolor\":\"white\",\"landcolor\":\"white\",\"showlakes\":true,\"showland\":true,\"subunitcolor\":\"#C8D4E3\"},\"hoverlabel\":{\"align\":\"left\"},\"hovermode\":\"closest\",\"mapbox\":{\"style\":\"light\"},\"paper_bgcolor\":\"white\",\"plot_bgcolor\":\"white\",\"polar\":{\"angularaxis\":{\"gridcolor\":\"#EBF0F8\",\"linecolor\":\"#EBF0F8\",\"ticks\":\"\"},\"bgcolor\":\"white\",\"radialaxis\":{\"gridcolor\":\"#EBF0F8\",\"linecolor\":\"#EBF0F8\",\"ticks\":\"\"}},\"scene\":{\"xaxis\":{\"backgroundcolor\":\"white\",\"gridcolor\":\"#DFE8F3\",\"gridwidth\":2,\"linecolor\":\"#EBF0F8\",\"showbackground\":true,\"ticks\":\"\",\"zerolinecolor\":\"#EBF0F8\"},\"yaxis\":{\"backgroundcolor\":\"white\",\"gridcolor\":\"#DFE8F3\",\"gridwidth\":2,\"linecolor\":\"#EBF0F8\",\"showbackground\":true,\"ticks\":\"\",\"zerolinecolor\":\"#EBF0F8\"},\"zaxis\":{\"backgroundcolor\":\"white\",\"gridcolor\":\"#DFE8F3\",\"gridwidth\":2,\"linecolor\":\"#EBF0F8\",\"showbackground\":true,\"ticks\":\"\",\"zerolinecolor\":\"#EBF0F8\"}},\"shapedefaults\":{\"line\":{\"color\":\"#2a3f5f\"}},\"ternary\":{\"aaxis\":{\"gridcolor\":\"#DFE8F3\",\"linecolor\":\"#A2B1C6\",\"ticks\":\"\"},\"baxis\":{\"gridcolor\":\"#DFE8F3\",\"linecolor\":\"#A2B1C6\",\"ticks\":\"\"},\"bgcolor\":\"white\",\"caxis\":{\"gridcolor\":\"#DFE8F3\",\"linecolor\":\"#A2B1C6\",\"ticks\":\"\"}},\"title\":{\"x\":0.05},\"xaxis\":{\"automargin\":true,\"gridcolor\":\"#EBF0F8\",\"linecolor\":\"#EBF0F8\",\"ticks\":\"\",\"title\":{\"standoff\":15},\"zerolinecolor\":\"#EBF0F8\",\"zerolinewidth\":2},\"yaxis\":{\"automargin\":true,\"gridcolor\":\"#EBF0F8\",\"linecolor\":\"#EBF0F8\",\"ticks\":\"\",\"title\":{\"standoff\":15},\"zerolinecolor\":\"#EBF0F8\",\"zerolinewidth\":2}}},\"xaxis\":{\"anchor\":\"y\",\"domain\":[0.0,0.475],\"tickvals\":[-60282.0,-46886.0,-33490.0,-20094.0,-6698.0,6698.0,20094.0,33490.0,46886.0,60282.0],\"ticktext\":[\"60282\",\"46886\",\"33490\",\"20094\",\"6698\",\"6698\",\"20094\",\"33490\",\"46886\",\"60282\"]},\"yaxis\":{\"anchor\":\"x\",\"domain\":[0.0,1.0]},\"xaxis2\":{\"anchor\":\"y2\",\"domain\":[0.525,1.0],\"tickvals\":[-1074582.0,-835786.0,-596990.0,-358194.0,-119398.0,119398.0,358194.0,596990.0,835786.0,1074582.0],\"ticktext\":[\"1074582\",\"835786\",\"596990\",\"358194\",\"119398\",\"119398\",\"358194\",\"596990\",\"835786\",\"1074582\"]},\"yaxis2\":{\"anchor\":\"x2\",\"domain\":[0.0,1.0],\"matches\":\"y\",\"showticklabels\":false},\"annotations\":[{\"font\":{\"size\":16},\"showarrow\":false,\"text\":\"SJC\",\"x\":0.2375,\"xanchor\":\"center\",\"xref\":\"paper\",\"y\":1.0,\"yanchor\":\"bottom\",\"yref\":\"paper\"},{\"font\":{\"size\":16},\"showarrow\":false,\"text\":\"SP\",\"x\":0.7625,\"xanchor\":\"center\",\"xref\":\"paper\",\"y\":1.0,\"yanchor\":\"bottom\",\"yref\":\"paper\"}],\"title\":{\"text\":\"Pirâmide Etária São José dos Campos vs São Paulo - 2010 x 2022\"},\"barmode\":\"overlay\"},                        {\"responsive\": true}                    ).then(function(){\n",
       "                            \n",
       "var gd = document.getElementById('4afad746-87e9-41ab-93a8-a5d3db79f031');\n",
       "var x = new MutationObserver(function (mutations, observer) {{\n",
       "        var display = window.getComputedStyle(gd).display;\n",
       "        if (!display || display === 'none') {{\n",
       "            console.log([gd, 'removed!']);\n",
       "            Plotly.purge(gd);\n",
       "            observer.disconnect();\n",
       "        }}\n",
       "}});\n",
       "\n",
       "// Listen for the removal of the full notebook cells\n",
       "var notebookContainer = gd.closest('#notebook-container');\n",
       "if (notebookContainer) {{\n",
       "    x.observe(notebookContainer, {childList: true});\n",
       "}}\n",
       "\n",
       "// Listen for the clearing of the current output cell\n",
       "var outputEl = gd.closest('.output');\n",
       "if (outputEl) {{\n",
       "    x.observe(outputEl, {childList: true});\n",
       "}}\n",
       "\n",
       "                        })                };                            </script>        </div>\n",
       "</body>\n",
       "</html>"
      ]
     },
     "metadata": {},
     "output_type": "display_data"
    }
   ],
   "source": [
    "#seção 01\n",
    "df_etario_2022.insert(3, \"Ano\", 2022)\n",
    "df_etario_2010.insert(3, \"Ano\", 2010)\n",
    "\n",
    "df_etario = pd.concat([df_etario_2022, df_etario_2010])\n",
    "df_etario.loc[df_etario[\"Ano\"] == 2010, \"Quantidade\"] *= -1\n",
    "df_etario[\"Quantidade_abs\"] = df_etario[\"Quantidade\"].abs()\n",
    "\n",
    "#seção 02\n",
    "df_sjc = df_etario[df_etario['Município'] == 'São José dos Campos (SP)']\n",
    "df_sp  = df_etario[df_etario['Município'] == 'São Paulo (SP)']\n",
    "\n",
    "hovertemplate = (\n",
    "    \"Município: %{customdata[0]}<br>\" +\n",
    "    \"Ano: %{customdata[1]}<br>\" +\n",
    "    \"Faixa etária: %{customdata[2]}<extra></extra>\"\n",
    ")\n",
    "\n",
    "\n",
    "fig = make_subplots(\n",
    "    rows=1, cols=2,\n",
    "    shared_yaxes=True,\n",
    "    horizontal_spacing=0.05,\n",
    "    subplot_titles=(\"SJC\", \"SP\")\n",
    ")\n",
    "\n",
    "fig.add_trace(\n",
    "    go.Bar(\n",
    "        y=df_sjc[\"Faixa etária\"],\n",
    "        x=df_sjc[\"Quantidade\"],\n",
    "        orientation='h',\n",
    "        name='São José dos Campos',\n",
    "        customdata=df_sjc[[\"Município\", \"Ano\", \"Faixa etária\", \"Quantidade_abs\"]],\n",
    "        hovertemplate = hovertemplate\n",
    "    ),\n",
    "    row=1, col=1,\n",
    ")\n",
    "\n",
    "fig.add_trace(\n",
    "    go.Bar(\n",
    "        y=df_sp[\"Faixa etária\"],\n",
    "        x=df_sp[\"Quantidade\"],\n",
    "        orientation='h',\n",
    "        name='São Paulo',\n",
    "        customdata=df_sp[[\"Município\", \"Ano\", \"Faixa etária\", \"Quantidade_abs\"]],\n",
    "        hovertemplate = hovertemplate\n",
    "    ),\n",
    "    row=1, col=2\n",
    ")\n",
    "\n",
    "fig.update_traces(\n",
    "    texttemplate='%{customdata[3]}',\n",
    "    textposition='inside' )\n",
    "\n",
    "max_val_sp = int(df_sp[\"Quantidade_abs\"].max())\n",
    "max_val_sjc = int(df_sjc[\"Quantidade_abs\"].max())\n",
    "\n",
    "tickvals_sp = np.linspace(-max_val_sp, max_val_sp, 10)\n",
    "tickvals_sjc = np.linspace(-max_val_sjc, max_val_sjc, 10)\n",
    "\n",
    "ticktext_sp = [str(abs(int(x))) for x in tickvals_sp]\n",
    "ticktext_sjc = [str(abs(int(x))) for x in tickvals_sjc]\n",
    "\n",
    "fig.update_xaxes(tickvals=tickvals_sjc, ticktext=ticktext_sjc, row=1, col=1)\n",
    "fig.update_xaxes(tickvals=tickvals_sp, ticktext=ticktext_sp, row=1, col=2)\n",
    "\n",
    "fig.update_layout(\n",
    "    title=\"Pirâmide Etária São José dos Campos vs São Paulo - 2010 x 2022\",\n",
    "    barmode='overlay',\n",
    "    template='plotly_white'\n",
    ")\n",
    "\n",
    "fig.show()"
   ]
  },
  {
   "cell_type": "markdown",
   "metadata": {
    "id": "giskgiog_RVV"
   },
   "source": [
    "EXPORTAÇÃO DO GRÁFICO PARA ARQUIVO JSON (A EXECUÇÃO DESTA LINHA É OPCINAL)"
   ]
  },
  {
   "cell_type": "code",
   "execution_count": 32,
   "metadata": {
    "colab": {
     "base_uri": "https://localhost:8080/",
     "height": 17
    },
    "executionInfo": {
     "elapsed": 45,
     "status": "ok",
     "timestamp": 1761428192123,
     "user": {
      "displayName": "Guilherme",
      "userId": "17933761807338123732"
     },
     "user_tz": 180
    },
    "id": "or4DPSYi_UAd",
    "outputId": "eda4eb5c-d9e9-4d0e-b66a-2b172078e343"
   },
   "outputs": [
    {
     "data": {
      "application/javascript": "\n    async function download(id, filename, size) {\n      if (!google.colab.kernel.accessAllowed) {\n        return;\n      }\n      const div = document.createElement('div');\n      const label = document.createElement('label');\n      label.textContent = `Downloading \"${filename}\": `;\n      div.appendChild(label);\n      const progress = document.createElement('progress');\n      progress.max = size;\n      div.appendChild(progress);\n      document.body.appendChild(div);\n\n      const buffers = [];\n      let downloaded = 0;\n\n      const channel = await google.colab.kernel.comms.open(id);\n      // Send a message to notify the kernel that we're ready.\n      channel.send({})\n\n      for await (const message of channel.messages) {\n        // Send a message to notify the kernel that we're ready.\n        channel.send({})\n        if (message.buffers) {\n          for (const buffer of message.buffers) {\n            buffers.push(buffer);\n            downloaded += buffer.byteLength;\n            progress.value = downloaded;\n          }\n        }\n      }\n      const blob = new Blob(buffers, {type: 'application/binary'});\n      const a = document.createElement('a');\n      a.href = window.URL.createObjectURL(blob);\n      a.download = filename;\n      div.appendChild(a);\n      a.click();\n      div.remove();\n    }\n  ",
      "text/plain": [
       "<IPython.core.display.Javascript object>"
      ]
     },
     "metadata": {},
     "output_type": "display_data"
    },
    {
     "data": {
      "application/javascript": "download(\"download_e7066920-0f90-4905-a470-25ffa6b6a2f8\", \"grafico_piramide_etaria_sjc_sp_2010_2022.json\", 16591)",
      "text/plain": [
       "<IPython.core.display.Javascript object>"
      ]
     },
     "metadata": {},
     "output_type": "display_data"
    }
   ],
   "source": [
    "#salva o arquivo JSON\n",
    "grafico_piramide_etaria_sjc_sp_2010_2022 = json.dumps(fig, cls=PlotlyJSONEncoder)\n",
    "\n",
    "with open(\"grafico_piramide_etaria_sjc_sp_2010_2022.json\", \"w\") as f:\n",
    "    f.write(grafico_piramide_etaria_sjc_sp_2010_2022)\n",
    "\n",
    "#faz o download\n",
    "files.download(\"grafico_piramide_etaria_sjc_sp_2010_2022.json\")"
   ]
  },
  {
   "cell_type": "markdown",
   "metadata": {
    "id": "CcVd_PtI2KpP"
   },
   "source": [
    "# **ANÁLISE EDUCACIONAL pt.1: \"ENSINO MÉDIO COMPLETO x SUPERIOR COMPLETO\" (SJC x SP) 2010 - 2022**"
   ]
  },
  {
   "cell_type": "markdown",
   "metadata": {
    "id": "V43wpvWR5oWN"
   },
   "source": [
    "ANO DE 2010 (responsável: Giovana; padronização: Guilherme)"
   ]
  },
  {
   "cell_type": "code",
   "execution_count": null,
   "metadata": {
    "colab": {
     "base_uri": "https://localhost:8080/"
    },
    "collapsed": true,
    "executionInfo": {
     "elapsed": 543,
     "status": "ok",
     "timestamp": 1761401129765,
     "user": {
      "displayName": "Guilherme",
      "userId": "17933761807338123732"
     },
     "user_tz": 180
    },
    "id": "LbB0RWmm5j5o",
    "outputId": "5245686e-cd2e-42c7-fd82-1eff58ec98ec"
   },
   "outputs": [
    {
     "name": "stderr",
     "output_type": "stream",
     "text": [
      "/tmp/ipython-input-225896968.py:51: FutureWarning:\n",
      "\n",
      "Series.fillna with 'method' is deprecated and will raise in a future version. Use obj.ffill() or obj.bfill() instead.\n",
      "\n",
      "/tmp/ipython-input-225896968.py:57: FutureWarning:\n",
      "\n",
      "Downcasting behavior in `replace` is deprecated and will be removed in a future version. To retain the old behavior, explicitly call `result.infer_objects(copy=False)`. To opt-in to the future behavior, set `pd.set_option('future.no_silent_downcasting', True)`\n",
      "\n"
     ]
    }
   ],
   "source": [
    "#seção 01\n",
    "df = pd.read_excel('/content/drive/MyDrive/populacao_jovem/populacao_nivel_instrucao_2010.xlsx')\n",
    "\n",
    "#seção 02\n",
    "def clean_ibge_dataframe(df):\n",
    "    df_clean = df.copy()\n",
    "    new_columns = []\n",
    "    new_columns.append('municipio')\n",
    "    new_columns.append('cor_raca')\n",
    "    new_columns.append('grupo_idade')\n",
    "    new_columns.append('total')\n",
    "    new_columns.append('medio_completo_superior_incompleto')\n",
    "    new_columns.append('superior_completo')\n",
    "\n",
    "    df_clean.columns = new_columns\n",
    "    df_clean = df_clean.iloc[6:21].copy()\n",
    "\n",
    "    df_clean.reset_index(drop=True, inplace=True)\n",
    "\n",
    "    df_clean['municipio'] = df_clean['municipio'].ffill()\n",
    "\n",
    "    df_clean['cor_raca'] = df_clean['cor_raca'].ffill()\n",
    "\n",
    "    numeric_cols = ['total', 'medio_completo_superior_incompleto', 'superior_completo']\n",
    "    for col in numeric_cols:\n",
    "        df_clean[col] = df_clean[col].replace('-', pd.NA)\n",
    "        df_clean[col] = pd.to_numeric(df_clean[col], errors='coerce')\n",
    "\n",
    "    df_clean['grupo_idade'] = df_clean['grupo_idade'].fillna('Total')\n",
    "\n",
    "    return df_clean\n",
    "\n",
    "df_cleaned = clean_ibge_dataframe(df)\n",
    "\n",
    "#seção 03\n",
    "df_clean = df.copy()\n",
    "\n",
    "df_clean = df.iloc[5:].copy()\n",
    "\n",
    "df_clean.columns = ['municipio', 'cor_raca', 'grupo_idade', 'total', 'medio_completo_superior_incompleto', 'superior_completo']\n",
    "\n",
    "df_clean = df_clean.reset_index(drop=True)\n",
    "\n",
    "df_clean = df_clean.dropna(subset=['municipio'])\n",
    "\n",
    "#seção 04\n",
    "df_correto = df.iloc[4:].copy()\n",
    "df_correto.columns = ['municipio', 'cor_raca', 'grupo_idade', 'total', 'medio_completo_superior_incompleto', 'superior_completo']\n",
    "df_correto = df_correto.reset_index(drop=True)\n",
    "\n",
    "df_correto['municipio'] = df_correto['municipio'].fillna(method='ffill')\n",
    "df_correto = df_correto[df_correto['grupo_idade'] != 'Total']\n",
    "df_correto = df_correto[df_correto['grupo_idade'].notna()]\n",
    "df_correto = df_correto[df_correto['municipio'] != 'Fonte: IBGE - Censo Demográfico']\n",
    "\n",
    "df_correto['medio_completo_superior_incompleto'] = df_correto['medio_completo_superior_incompleto'].replace('-', 0)\n",
    "df_correto['superior_completo'] = df_correto['superior_completo'].replace('-', 0)\n",
    "df_correto['medio_completo_superior_incompleto'] = pd.to_numeric(df_correto['medio_completo_superior_incompleto'], errors='coerce')\n",
    "df_correto['superior_completo'] = pd.to_numeric(df_correto['superior_completo'], errors='coerce')\n",
    "\n",
    "faixas_desejadas = ['18 e 19 anos', '20 a 24 anos', '25 a 29 anos']\n",
    "df_final = df_correto[df_correto['grupo_idade'].isin(faixas_desejadas)]\n",
    "\n",
    "\n",
    "dados_organizados = []\n",
    "\n",
    "for _, row in df_final.iterrows():\n",
    "    dados_organizados.append({\n",
    "        'Localidade': row['municipio'],\n",
    "        'Faixa Etária': row['grupo_idade'],\n",
    "        'Nível': 'Ensino Médio Completo',\n",
    "        'Quantidade': row['medio_completo_superior_incompleto']\n",
    "    })\n",
    "\n",
    "    dados_organizados.append({\n",
    "        'Localidade': row['municipio'],\n",
    "        'Faixa Etária': row['grupo_idade'],\n",
    "        'Nível': 'Ensino Superior Completo',\n",
    "        'Quantidade': row['superior_completo']\n",
    "    })\n",
    "\n",
    "df_analise_nivel_instrucao_2010 = pd.DataFrame(dados_organizados)\n",
    "\n",
    "df_medio = df_analise_nivel_instrucao_2010[df_analise_nivel_instrucao_2010['Nível'] == 'Ensino Médio Completo']\n",
    "df_medio_pivot = df_medio.pivot_table(index='Localidade', columns='Faixa Etária', values='Quantidade')\n",
    "\n",
    "df_superior = df_analise_nivel_instrucao_2010[df_analise_nivel_instrucao_2010['Nível'] == 'Ensino Superior Completo']\n",
    "df_superior_pivot = df_superior.pivot_table(index='Localidade', columns='Faixa Etária', values='Quantidade')"
   ]
  },
  {
   "cell_type": "markdown",
   "metadata": {
    "id": "LbW0EfnIJcfB"
   },
   "source": [
    "GRÁFICO - \"Análise de Escolaridade: São José dos Campos vs São Paulo  2010\"\n",
    "\n",
    "(responsável: Giovana; adaptação e padronização:: Guilherme)"
   ]
  },
  {
   "cell_type": "code",
   "execution_count": null,
   "metadata": {
    "colab": {
     "base_uri": "https://localhost:8080/",
     "height": 542
    },
    "executionInfo": {
     "elapsed": 151,
     "status": "ok",
     "timestamp": 1761401132707,
     "user": {
      "displayName": "Guilherme",
      "userId": "17933761807338123732"
     },
     "user_tz": 180
    },
    "id": "_5AUdIRSJeja",
    "outputId": "a3d00f3c-c2f9-4405-913c-8a5874a589ad"
   },
   "outputs": [
    {
     "data": {
      "text/html": [
       "<html>\n",
       "<head><meta charset=\"utf-8\" /></head>\n",
       "<body>\n",
       "    <div>            <script src=\"https://cdnjs.cloudflare.com/ajax/libs/mathjax/2.7.5/MathJax.js?config=TeX-AMS-MML_SVG\"></script><script type=\"text/javascript\">if (window.MathJax && window.MathJax.Hub && window.MathJax.Hub.Config) {window.MathJax.Hub.Config({SVG: {font: \"STIX-Web\"}});}</script>                <script type=\"text/javascript\">window.PlotlyConfig = {MathJaxConfig: 'local'};</script>\n",
       "        <script charset=\"utf-8\" src=\"https://cdn.plot.ly/plotly-2.35.2.min.js\"></script>                <div id=\"7c521629-7972-4638-8a9b-e7cf7f871c38\" class=\"plotly-graph-div\" style=\"height:525px; width:100%;\"></div>            <script type=\"text/javascript\">                                    window.PLOTLYENV=window.PLOTLYENV || {};                                    if (document.getElementById(\"7c521629-7972-4638-8a9b-e7cf7f871c38\")) {                    Plotly.newPlot(                        \"7c521629-7972-4638-8a9b-e7cf7f871c38\",                        [{\"alignmentgroup\":\"True\",\"hovertemplate\":\"Faixa Etária=18 e 19 anos\\u003cbr\\u003eNível=Ensino Médio Completo\\u003cbr\\u003eLocalidade=%{x}\\u003cbr\\u003eQuantidade=%{text}\\u003cextra\\u003e\\u003c\\u002fextra\\u003e\",\"legendgroup\":\"18 e 19 anos\",\"marker\":{\"color\":\"#636efa\",\"pattern\":{\"shape\":\"\"}},\"name\":\"18 e 19 anos\",\"offsetgroup\":\"18 e 19 anos\",\"orientation\":\"v\",\"showlegend\":true,\"text\":[625258.0,10264.0,149553.0],\"textposition\":\"outside\",\"x\":[\"São Paulo\",\"São José dos Campos (SP)\",\"São Paulo (SP)\"],\"xaxis\":\"x\",\"y\":[625258,10264,149553],\"yaxis\":\"y\",\"type\":\"bar\",\"texttemplate\":\"%{text}\"},{\"alignmentgroup\":\"True\",\"hovertemplate\":\"Faixa Etária=18 e 19 anos\\u003cbr\\u003eNível=Ensino Superior Completo\\u003cbr\\u003eLocalidade=%{x}\\u003cbr\\u003eQuantidade=%{text}\\u003cextra\\u003e\\u003c\\u002fextra\\u003e\",\"legendgroup\":\"18 e 19 anos\",\"marker\":{\"color\":\"#636efa\",\"pattern\":{\"shape\":\"\"}},\"name\":\"18 e 19 anos\",\"offsetgroup\":\"18 e 19 anos\",\"orientation\":\"v\",\"showlegend\":false,\"text\":[19860.0,430.0,6722.0],\"textposition\":\"outside\",\"x\":[\"São Paulo\",\"São José dos Campos (SP)\",\"São Paulo (SP)\"],\"xaxis\":\"x2\",\"y\":[19860,430,6722],\"yaxis\":\"y2\",\"type\":\"bar\",\"texttemplate\":\"%{text}\"},{\"alignmentgroup\":\"True\",\"hovertemplate\":\"Faixa Etária=20 a 24 anos\\u003cbr\\u003eNível=Ensino Médio Completo\\u003cbr\\u003eLocalidade=%{x}\\u003cbr\\u003eQuantidade=%{text}\\u003cextra\\u003e\\u003c\\u002fextra\\u003e\",\"legendgroup\":\"20 a 24 anos\",\"marker\":{\"color\":\"#EF553B\",\"pattern\":{\"shape\":\"\"}},\"name\":\"20 a 24 anos\",\"offsetgroup\":\"20 a 24 anos\",\"orientation\":\"v\",\"showlegend\":true,\"text\":[1914024.0,33531.0,499571.0],\"textposition\":\"outside\",\"x\":[\"São Paulo\",\"São José dos Campos (SP)\",\"São Paulo (SP)\"],\"xaxis\":\"x\",\"y\":[1914024,33531,499571],\"yaxis\":\"y\",\"type\":\"bar\",\"texttemplate\":\"%{text}\"},{\"alignmentgroup\":\"True\",\"hovertemplate\":\"Faixa Etária=20 a 24 anos\\u003cbr\\u003eNível=Ensino Superior Completo\\u003cbr\\u003eLocalidade=%{x}\\u003cbr\\u003eQuantidade=%{text}\\u003cextra\\u003e\\u003c\\u002fextra\\u003e\",\"legendgroup\":\"20 a 24 anos\",\"marker\":{\"color\":\"#EF553B\",\"pattern\":{\"shape\":\"\"}},\"name\":\"20 a 24 anos\",\"offsetgroup\":\"20 a 24 anos\",\"orientation\":\"v\",\"showlegend\":false,\"text\":[306629.0,4513.0,103166.0],\"textposition\":\"outside\",\"x\":[\"São Paulo\",\"São José dos Campos (SP)\",\"São Paulo (SP)\"],\"xaxis\":\"x2\",\"y\":[306629,4513,103166],\"yaxis\":\"y2\",\"type\":\"bar\",\"texttemplate\":\"%{text}\"},{\"alignmentgroup\":\"True\",\"hovertemplate\":\"Faixa Etária=25 a 29 anos\\u003cbr\\u003eNível=Ensino Médio Completo\\u003cbr\\u003eLocalidade=%{x}\\u003cbr\\u003eQuantidade=%{text}\\u003cextra\\u003e\\u003c\\u002fextra\\u003e\",\"legendgroup\":\"25 a 29 anos\",\"marker\":{\"color\":\"#00cc96\",\"pattern\":{\"shape\":\"\"}},\"name\":\"25 a 29 anos\",\"offsetgroup\":\"25 a 29 anos\",\"orientation\":\"v\",\"showlegend\":true,\"text\":[1667504.0,29593.0,435294.0],\"textposition\":\"outside\",\"x\":[\"São Paulo\",\"São José dos Campos (SP)\",\"São Paulo (SP)\"],\"xaxis\":\"x\",\"y\":[1667504,29593,435294],\"yaxis\":\"y\",\"type\":\"bar\",\"texttemplate\":\"%{text}\"},{\"alignmentgroup\":\"True\",\"hovertemplate\":\"Faixa Etária=25 a 29 anos\\u003cbr\\u003eNível=Ensino Superior Completo\\u003cbr\\u003eLocalidade=%{x}\\u003cbr\\u003eQuantidade=%{text}\\u003cextra\\u003e\\u003c\\u002fextra\\u003e\",\"legendgroup\":\"25 a 29 anos\",\"marker\":{\"color\":\"#00cc96\",\"pattern\":{\"shape\":\"\"}},\"name\":\"25 a 29 anos\",\"offsetgroup\":\"25 a 29 anos\",\"orientation\":\"v\",\"showlegend\":false,\"text\":[686803.0,12345.0,255519.0],\"textposition\":\"outside\",\"x\":[\"São Paulo\",\"São José dos Campos (SP)\",\"São Paulo (SP)\"],\"xaxis\":\"x2\",\"y\":[686803,12345,255519],\"yaxis\":\"y2\",\"type\":\"bar\",\"texttemplate\":\"%{text}\"}],                        {\"template\":{\"data\":{\"histogram2dcontour\":[{\"type\":\"histogram2dcontour\",\"colorbar\":{\"outlinewidth\":0,\"ticks\":\"\"},\"colorscale\":[[0.0,\"#0d0887\"],[0.1111111111111111,\"#46039f\"],[0.2222222222222222,\"#7201a8\"],[0.3333333333333333,\"#9c179e\"],[0.4444444444444444,\"#bd3786\"],[0.5555555555555556,\"#d8576b\"],[0.6666666666666666,\"#ed7953\"],[0.7777777777777778,\"#fb9f3a\"],[0.8888888888888888,\"#fdca26\"],[1.0,\"#f0f921\"]]}],\"choropleth\":[{\"type\":\"choropleth\",\"colorbar\":{\"outlinewidth\":0,\"ticks\":\"\"}}],\"histogram2d\":[{\"type\":\"histogram2d\",\"colorbar\":{\"outlinewidth\":0,\"ticks\":\"\"},\"colorscale\":[[0.0,\"#0d0887\"],[0.1111111111111111,\"#46039f\"],[0.2222222222222222,\"#7201a8\"],[0.3333333333333333,\"#9c179e\"],[0.4444444444444444,\"#bd3786\"],[0.5555555555555556,\"#d8576b\"],[0.6666666666666666,\"#ed7953\"],[0.7777777777777778,\"#fb9f3a\"],[0.8888888888888888,\"#fdca26\"],[1.0,\"#f0f921\"]]}],\"heatmap\":[{\"type\":\"heatmap\",\"colorbar\":{\"outlinewidth\":0,\"ticks\":\"\"},\"colorscale\":[[0.0,\"#0d0887\"],[0.1111111111111111,\"#46039f\"],[0.2222222222222222,\"#7201a8\"],[0.3333333333333333,\"#9c179e\"],[0.4444444444444444,\"#bd3786\"],[0.5555555555555556,\"#d8576b\"],[0.6666666666666666,\"#ed7953\"],[0.7777777777777778,\"#fb9f3a\"],[0.8888888888888888,\"#fdca26\"],[1.0,\"#f0f921\"]]}],\"heatmapgl\":[{\"type\":\"heatmapgl\",\"colorbar\":{\"outlinewidth\":0,\"ticks\":\"\"},\"colorscale\":[[0.0,\"#0d0887\"],[0.1111111111111111,\"#46039f\"],[0.2222222222222222,\"#7201a8\"],[0.3333333333333333,\"#9c179e\"],[0.4444444444444444,\"#bd3786\"],[0.5555555555555556,\"#d8576b\"],[0.6666666666666666,\"#ed7953\"],[0.7777777777777778,\"#fb9f3a\"],[0.8888888888888888,\"#fdca26\"],[1.0,\"#f0f921\"]]}],\"contourcarpet\":[{\"type\":\"contourcarpet\",\"colorbar\":{\"outlinewidth\":0,\"ticks\":\"\"}}],\"contour\":[{\"type\":\"contour\",\"colorbar\":{\"outlinewidth\":0,\"ticks\":\"\"},\"colorscale\":[[0.0,\"#0d0887\"],[0.1111111111111111,\"#46039f\"],[0.2222222222222222,\"#7201a8\"],[0.3333333333333333,\"#9c179e\"],[0.4444444444444444,\"#bd3786\"],[0.5555555555555556,\"#d8576b\"],[0.6666666666666666,\"#ed7953\"],[0.7777777777777778,\"#fb9f3a\"],[0.8888888888888888,\"#fdca26\"],[1.0,\"#f0f921\"]]}],\"surface\":[{\"type\":\"surface\",\"colorbar\":{\"outlinewidth\":0,\"ticks\":\"\"},\"colorscale\":[[0.0,\"#0d0887\"],[0.1111111111111111,\"#46039f\"],[0.2222222222222222,\"#7201a8\"],[0.3333333333333333,\"#9c179e\"],[0.4444444444444444,\"#bd3786\"],[0.5555555555555556,\"#d8576b\"],[0.6666666666666666,\"#ed7953\"],[0.7777777777777778,\"#fb9f3a\"],[0.8888888888888888,\"#fdca26\"],[1.0,\"#f0f921\"]]}],\"mesh3d\":[{\"type\":\"mesh3d\",\"colorbar\":{\"outlinewidth\":0,\"ticks\":\"\"}}],\"scatter\":[{\"fillpattern\":{\"fillmode\":\"overlay\",\"size\":10,\"solidity\":0.2},\"type\":\"scatter\"}],\"parcoords\":[{\"type\":\"parcoords\",\"line\":{\"colorbar\":{\"outlinewidth\":0,\"ticks\":\"\"}}}],\"scatterpolargl\":[{\"type\":\"scatterpolargl\",\"marker\":{\"colorbar\":{\"outlinewidth\":0,\"ticks\":\"\"}}}],\"bar\":[{\"error_x\":{\"color\":\"#2a3f5f\"},\"error_y\":{\"color\":\"#2a3f5f\"},\"marker\":{\"line\":{\"color\":\"#E5ECF6\",\"width\":0.5},\"pattern\":{\"fillmode\":\"overlay\",\"size\":10,\"solidity\":0.2}},\"type\":\"bar\"}],\"scattergeo\":[{\"type\":\"scattergeo\",\"marker\":{\"colorbar\":{\"outlinewidth\":0,\"ticks\":\"\"}}}],\"scatterpolar\":[{\"type\":\"scatterpolar\",\"marker\":{\"colorbar\":{\"outlinewidth\":0,\"ticks\":\"\"}}}],\"histogram\":[{\"marker\":{\"pattern\":{\"fillmode\":\"overlay\",\"size\":10,\"solidity\":0.2}},\"type\":\"histogram\"}],\"scattergl\":[{\"type\":\"scattergl\",\"marker\":{\"colorbar\":{\"outlinewidth\":0,\"ticks\":\"\"}}}],\"scatter3d\":[{\"type\":\"scatter3d\",\"line\":{\"colorbar\":{\"outlinewidth\":0,\"ticks\":\"\"}},\"marker\":{\"colorbar\":{\"outlinewidth\":0,\"ticks\":\"\"}}}],\"scattermapbox\":[{\"type\":\"scattermapbox\",\"marker\":{\"colorbar\":{\"outlinewidth\":0,\"ticks\":\"\"}}}],\"scatterternary\":[{\"type\":\"scatterternary\",\"marker\":{\"colorbar\":{\"outlinewidth\":0,\"ticks\":\"\"}}}],\"scattercarpet\":[{\"type\":\"scattercarpet\",\"marker\":{\"colorbar\":{\"outlinewidth\":0,\"ticks\":\"\"}}}],\"carpet\":[{\"aaxis\":{\"endlinecolor\":\"#2a3f5f\",\"gridcolor\":\"white\",\"linecolor\":\"white\",\"minorgridcolor\":\"white\",\"startlinecolor\":\"#2a3f5f\"},\"baxis\":{\"endlinecolor\":\"#2a3f5f\",\"gridcolor\":\"white\",\"linecolor\":\"white\",\"minorgridcolor\":\"white\",\"startlinecolor\":\"#2a3f5f\"},\"type\":\"carpet\"}],\"table\":[{\"cells\":{\"fill\":{\"color\":\"#EBF0F8\"},\"line\":{\"color\":\"white\"}},\"header\":{\"fill\":{\"color\":\"#C8D4E3\"},\"line\":{\"color\":\"white\"}},\"type\":\"table\"}],\"barpolar\":[{\"marker\":{\"line\":{\"color\":\"#E5ECF6\",\"width\":0.5},\"pattern\":{\"fillmode\":\"overlay\",\"size\":10,\"solidity\":0.2}},\"type\":\"barpolar\"}],\"pie\":[{\"automargin\":true,\"type\":\"pie\"}]},\"layout\":{\"autotypenumbers\":\"strict\",\"colorway\":[\"#636efa\",\"#EF553B\",\"#00cc96\",\"#ab63fa\",\"#FFA15A\",\"#19d3f3\",\"#FF6692\",\"#B6E880\",\"#FF97FF\",\"#FECB52\"],\"font\":{\"color\":\"#2a3f5f\"},\"hovermode\":\"closest\",\"hoverlabel\":{\"align\":\"left\"},\"paper_bgcolor\":\"white\",\"plot_bgcolor\":\"#E5ECF6\",\"polar\":{\"bgcolor\":\"#E5ECF6\",\"angularaxis\":{\"gridcolor\":\"white\",\"linecolor\":\"white\",\"ticks\":\"\"},\"radialaxis\":{\"gridcolor\":\"white\",\"linecolor\":\"white\",\"ticks\":\"\"}},\"ternary\":{\"bgcolor\":\"#E5ECF6\",\"aaxis\":{\"gridcolor\":\"white\",\"linecolor\":\"white\",\"ticks\":\"\"},\"baxis\":{\"gridcolor\":\"white\",\"linecolor\":\"white\",\"ticks\":\"\"},\"caxis\":{\"gridcolor\":\"white\",\"linecolor\":\"white\",\"ticks\":\"\"}},\"coloraxis\":{\"colorbar\":{\"outlinewidth\":0,\"ticks\":\"\"}},\"colorscale\":{\"sequential\":[[0.0,\"#0d0887\"],[0.1111111111111111,\"#46039f\"],[0.2222222222222222,\"#7201a8\"],[0.3333333333333333,\"#9c179e\"],[0.4444444444444444,\"#bd3786\"],[0.5555555555555556,\"#d8576b\"],[0.6666666666666666,\"#ed7953\"],[0.7777777777777778,\"#fb9f3a\"],[0.8888888888888888,\"#fdca26\"],[1.0,\"#f0f921\"]],\"sequentialminus\":[[0.0,\"#0d0887\"],[0.1111111111111111,\"#46039f\"],[0.2222222222222222,\"#7201a8\"],[0.3333333333333333,\"#9c179e\"],[0.4444444444444444,\"#bd3786\"],[0.5555555555555556,\"#d8576b\"],[0.6666666666666666,\"#ed7953\"],[0.7777777777777778,\"#fb9f3a\"],[0.8888888888888888,\"#fdca26\"],[1.0,\"#f0f921\"]],\"diverging\":[[0,\"#8e0152\"],[0.1,\"#c51b7d\"],[0.2,\"#de77ae\"],[0.3,\"#f1b6da\"],[0.4,\"#fde0ef\"],[0.5,\"#f7f7f7\"],[0.6,\"#e6f5d0\"],[0.7,\"#b8e186\"],[0.8,\"#7fbc41\"],[0.9,\"#4d9221\"],[1,\"#276419\"]]},\"xaxis\":{\"gridcolor\":\"white\",\"linecolor\":\"white\",\"ticks\":\"\",\"title\":{\"standoff\":15},\"zerolinecolor\":\"white\",\"automargin\":true,\"zerolinewidth\":2},\"yaxis\":{\"gridcolor\":\"white\",\"linecolor\":\"white\",\"ticks\":\"\",\"title\":{\"standoff\":15},\"zerolinecolor\":\"white\",\"automargin\":true,\"zerolinewidth\":2},\"scene\":{\"xaxis\":{\"backgroundcolor\":\"#E5ECF6\",\"gridcolor\":\"white\",\"linecolor\":\"white\",\"showbackground\":true,\"ticks\":\"\",\"zerolinecolor\":\"white\",\"gridwidth\":2},\"yaxis\":{\"backgroundcolor\":\"#E5ECF6\",\"gridcolor\":\"white\",\"linecolor\":\"white\",\"showbackground\":true,\"ticks\":\"\",\"zerolinecolor\":\"white\",\"gridwidth\":2},\"zaxis\":{\"backgroundcolor\":\"#E5ECF6\",\"gridcolor\":\"white\",\"linecolor\":\"white\",\"showbackground\":true,\"ticks\":\"\",\"zerolinecolor\":\"white\",\"gridwidth\":2}},\"shapedefaults\":{\"line\":{\"color\":\"#2a3f5f\"}},\"annotationdefaults\":{\"arrowcolor\":\"#2a3f5f\",\"arrowhead\":0,\"arrowwidth\":1},\"geo\":{\"bgcolor\":\"white\",\"landcolor\":\"#E5ECF6\",\"subunitcolor\":\"white\",\"showland\":true,\"showlakes\":true,\"lakecolor\":\"white\"},\"title\":{\"x\":0.05},\"mapbox\":{\"style\":\"light\"}}},\"xaxis\":{\"anchor\":\"y\",\"domain\":[0.0,0.49],\"title\":{\"text\":\"Localidade\"},\"categoryorder\":\"array\",\"categoryarray\":[\"São José dos Campos (SP)\",\"São Paulo\",\"São Paulo (SP)\"]},\"yaxis\":{\"anchor\":\"x\",\"domain\":[0.0,1.0],\"title\":{\"text\":\"Quantidade de Pessoas\"}},\"xaxis2\":{\"anchor\":\"y2\",\"domain\":[0.51,1.0],\"matches\":\"x\",\"title\":{\"text\":\"Localidade\"},\"categoryorder\":\"array\",\"categoryarray\":[\"São José dos Campos (SP)\",\"São Paulo\",\"São Paulo (SP)\"]},\"yaxis2\":{\"anchor\":\"x2\",\"domain\":[0.0,1.0],\"matches\":\"y\",\"showticklabels\":false},\"annotations\":[{\"font\":{},\"showarrow\":false,\"text\":\"Nível=Ensino Médio Completo\",\"x\":0.245,\"xanchor\":\"center\",\"xref\":\"paper\",\"y\":1.0,\"yanchor\":\"bottom\",\"yref\":\"paper\"},{\"font\":{},\"showarrow\":false,\"text\":\"Nível=Ensino Superior Completo\",\"x\":0.755,\"xanchor\":\"center\",\"xref\":\"paper\",\"y\":1.0,\"yanchor\":\"bottom\",\"yref\":\"paper\"}],\"legend\":{\"title\":{\"text\":\"Faixas Etárias\"},\"tracegroupgap\":0},\"title\":{\"text\":\"Análise de Escolaridade: São José dos Campos vs São Paulo  2010\"},\"barmode\":\"group\",\"uniformtext\":{\"minsize\":8,\"mode\":\"hide\"}},                        {\"responsive\": true}                    ).then(function(){\n",
       "                            \n",
       "var gd = document.getElementById('7c521629-7972-4638-8a9b-e7cf7f871c38');\n",
       "var x = new MutationObserver(function (mutations, observer) {{\n",
       "        var display = window.getComputedStyle(gd).display;\n",
       "        if (!display || display === 'none') {{\n",
       "            console.log([gd, 'removed!']);\n",
       "            Plotly.purge(gd);\n",
       "            observer.disconnect();\n",
       "        }}\n",
       "}});\n",
       "\n",
       "// Listen for the removal of the full notebook cells\n",
       "var notebookContainer = gd.closest('#notebook-container');\n",
       "if (notebookContainer) {{\n",
       "    x.observe(notebookContainer, {childList: true});\n",
       "}}\n",
       "\n",
       "// Listen for the clearing of the current output cell\n",
       "var outputEl = gd.closest('.output');\n",
       "if (outputEl) {{\n",
       "    x.observe(outputEl, {childList: true});\n",
       "}}\n",
       "\n",
       "                        })                };                            </script>        </div>\n",
       "</body>\n",
       "</html>"
      ]
     },
     "metadata": {},
     "output_type": "display_data"
    }
   ],
   "source": [
    "#filtrando os dados por nível\n",
    "df_medio = df_analise_nivel_instrucao_2010[df_analise_nivel_instrucao_2010['Nível'] == 'Ensino Médio Completo']\n",
    "df_superior = df_analise_nivel_instrucao_2010[df_analise_nivel_instrucao_2010['Nível'] == 'Ensino Superior Completo']\n",
    "\n",
    "#gráficos\n",
    "fig = px.bar(\n",
    "    df_analise_nivel_instrucao_2010,\n",
    "    x='Localidade',\n",
    "    y='Quantidade',\n",
    "    color='Faixa Etária',\n",
    "    barmode='group',\n",
    "    facet_col='Nível',\n",
    "    category_orders={\n",
    "        'Faixa Etária': ['18 e 19 anos', '20 a 24 anos', '25 a 29 anos'],\n",
    "        'Localidade': ['São José dos Campos (SP)', 'São Paulo', 'São Paulo (SP)']\n",
    "    },\n",
    "    text='Quantidade',\n",
    "    title='Análise de Escolaridade: São José dos Campos vs São Paulo  2010'\n",
    ")\n",
    "\n",
    "fig.update_traces(texttemplate=\"%{text}\", textposition=\"outside\")\n",
    "fig.update_layout(\n",
    "    yaxis_title='Quantidade de Pessoas',\n",
    "    xaxis_title='Localidade',\n",
    "    legend_title='Faixas Etárias',\n",
    "    uniformtext_minsize=8,\n",
    "    uniformtext_mode='hide'\n",
    ")\n",
    "\n",
    "fig.show()"
   ]
  },
  {
   "cell_type": "markdown",
   "metadata": {
    "id": "XPxtf1OcN35d"
   },
   "source": [
    "EXPORTAÇÃO DO GRÁFICO PARA ARQUIVO JSON (A EXECUÇÃO DESTA LINHA É OPCINAL)"
   ]
  },
  {
   "cell_type": "code",
   "execution_count": null,
   "metadata": {
    "colab": {
     "base_uri": "https://localhost:8080/",
     "height": 17
    },
    "executionInfo": {
     "elapsed": 20,
     "status": "ok",
     "timestamp": 1761401135180,
     "user": {
      "displayName": "Guilherme",
      "userId": "17933761807338123732"
     },
     "user_tz": 180
    },
    "id": "klEdXvxFN79c",
    "outputId": "6ec26e2c-0b72-4876-ff00-97769866db39"
   },
   "outputs": [
    {
     "data": {
      "application/javascript": "\n    async function download(id, filename, size) {\n      if (!google.colab.kernel.accessAllowed) {\n        return;\n      }\n      const div = document.createElement('div');\n      const label = document.createElement('label');\n      label.textContent = `Downloading \"${filename}\": `;\n      div.appendChild(label);\n      const progress = document.createElement('progress');\n      progress.max = size;\n      div.appendChild(progress);\n      document.body.appendChild(div);\n\n      const buffers = [];\n      let downloaded = 0;\n\n      const channel = await google.colab.kernel.comms.open(id);\n      // Send a message to notify the kernel that we're ready.\n      channel.send({})\n\n      for await (const message of channel.messages) {\n        // Send a message to notify the kernel that we're ready.\n        channel.send({})\n        if (message.buffers) {\n          for (const buffer of message.buffers) {\n            buffers.push(buffer);\n            downloaded += buffer.byteLength;\n            progress.value = downloaded;\n          }\n        }\n      }\n      const blob = new Blob(buffers, {type: 'application/binary'});\n      const a = document.createElement('a');\n      a.href = window.URL.createObjectURL(blob);\n      a.download = filename;\n      div.appendChild(a);\n      a.click();\n      div.remove();\n    }\n  ",
      "text/plain": [
       "<IPython.core.display.Javascript object>"
      ]
     },
     "metadata": {},
     "output_type": "display_data"
    },
    {
     "data": {
      "application/javascript": "download(\"download_fa0bcffc-7f2e-4d7d-ad3a-1a9775caf615\", \"grafico_escolaridade_sjc_sp_2010.json\", 12481)",
      "text/plain": [
       "<IPython.core.display.Javascript object>"
      ]
     },
     "metadata": {},
     "output_type": "display_data"
    }
   ],
   "source": [
    "#salva o arquivo JSON\n",
    "grafico_escolaridade_sjc_sp_2010 = json.dumps(fig, cls=PlotlyJSONEncoder)\n",
    "\n",
    "with open(\"grafico_escolaridade_sjc_sp_2010.json\", \"w\") as f:\n",
    "    f.write(grafico_escolaridade_sjc_sp_2010)\n",
    "\n",
    "#faz o download\n",
    "files.download(\"grafico_escolaridade_sjc_sp_2010.json\")"
   ]
  },
  {
   "cell_type": "markdown",
   "metadata": {
    "id": "Ohw8ljw6DJFu"
   },
   "source": [
    "ANO DE 2022 (responsáveis: Mariana, Rayssa; padronização: Guilherme)"
   ]
  },
  {
   "cell_type": "code",
   "execution_count": null,
   "metadata": {
    "id": "xoOkh2MQAWMx"
   },
   "outputs": [],
   "source": [
    "#seção 01\n",
    "df = pd.read_excel('/content/drive/MyDrive/populacao_jovem/populacao_nivel_instrucao_2022.xlsx')\n",
    "\n",
    "#seção 02\n",
    "ensino_medio = pd.DataFrame({\n",
    "    'Faixa Etária': ['18 a 19', '20 a 24', '25 a 29'],\n",
    "    'Estado de SP': [729866, 2088031, 1650113],\n",
    "    'São Paulo (SP)': [177468, 517313, 389612],\n",
    "    'São José dos Campos (SP)': [7176, 22181, 26144]\n",
    "})\n",
    "\n",
    "ensino_superior = pd.DataFrame({\n",
    "    'Faixa Etária': ['18 a 19', '20 a 24', '25 a 29'],\n",
    "    'Estado de SP': [20157, 388404, 871161],\n",
    "    'São Paulo (SP)': [6492, 129993, 294491],\n",
    "    'São José dos Campos (SP)': [211, 5968, 15680]\n",
    "})\n",
    "\n",
    "#seção 03\n",
    "ensino_medio = {\n",
    "    '18 a 19': [729866, 177468, 7176],\n",
    "    '20 a 24': [2088031, 517313, 22181],\n",
    "    '25 a 29': [1650113, 389612, 26144]\n",
    "}\n",
    "\n",
    "ensino_superior = {\n",
    "    '18 a 19': [20157, 6492, 211],\n",
    "    '20 a 24': [388404, 129993, 5968],\n",
    "    '25 a 29': [871161, 294491, 15680]\n",
    "}\n",
    "\n",
    "regioes = ['Estado de SP', 'São Paulo (SP)', 'São José dos Campos (SP)']\n",
    "faixas = ['18 a 19', '20 a 24', '25 a 29']\n",
    "\n",
    "dados_organizados = []\n",
    "\n",
    "for i, regiao in enumerate(regioes):\n",
    "    for faixa in faixas:\n",
    "        dados_organizados.append({\n",
    "            'Localidade': regiao,\n",
    "            'Faixa Etária': faixa,\n",
    "            'Nível': 'Ensino Médio Completo',\n",
    "            'Quantidade': ensino_medio[faixa][i]\n",
    "        })\n",
    "        dados_organizados.append({\n",
    "            'Localidade': regiao,\n",
    "            'Faixa Etária': faixa,\n",
    "            'Nível': 'Ensino Superior Completo',\n",
    "            'Quantidade': ensino_superior[faixa][i]\n",
    "        })\n",
    "\n",
    "df_analise_nivel_instrucao_2022 = pd.DataFrame(dados_organizados)\n",
    "\n",
    "df_medio = df_analise_nivel_instrucao_2022[df_analise_nivel_instrucao_2022['Nível'] == 'Ensino Médio Completo']\n",
    "df_superior = df_analise_nivel_instrucao_2022[df_analise_nivel_instrucao_2022['Nível'] == 'Ensino Superior Completo']\n",
    "\n",
    "df_medio_pivot = df_medio.pivot_table(index='Localidade', columns='Faixa Etária', values='Quantidade')\n",
    "df_superior_pivot = df_superior.pivot_table(index='Localidade', columns='Faixa Etária', values='Quantidade')"
   ]
  },
  {
   "cell_type": "markdown",
   "metadata": {
    "id": "txyhdTqHJzXR"
   },
   "source": [
    "GRÁFICO - \"Análise de Escolaridade: São José dos Campos vs São Paulo 2022\"\n",
    "\n",
    "(responsáveis: Mariana, Rayssa; adaptação e padronização: Guilherme)"
   ]
  },
  {
   "cell_type": "code",
   "execution_count": null,
   "metadata": {
    "colab": {
     "base_uri": "https://localhost:8080/",
     "height": 542
    },
    "executionInfo": {
     "elapsed": 94,
     "status": "ok",
     "timestamp": 1761401142294,
     "user": {
      "displayName": "Guilherme",
      "userId": "17933761807338123732"
     },
     "user_tz": 180
    },
    "id": "WiWYRQOsImp2",
    "outputId": "d1062f46-077b-43de-cd9e-6a44a41ec06b"
   },
   "outputs": [
    {
     "data": {
      "text/html": [
       "<html>\n",
       "<head><meta charset=\"utf-8\" /></head>\n",
       "<body>\n",
       "    <div>            <script src=\"https://cdnjs.cloudflare.com/ajax/libs/mathjax/2.7.5/MathJax.js?config=TeX-AMS-MML_SVG\"></script><script type=\"text/javascript\">if (window.MathJax && window.MathJax.Hub && window.MathJax.Hub.Config) {window.MathJax.Hub.Config({SVG: {font: \"STIX-Web\"}});}</script>                <script type=\"text/javascript\">window.PlotlyConfig = {MathJaxConfig: 'local'};</script>\n",
       "        <script charset=\"utf-8\" src=\"https://cdn.plot.ly/plotly-2.35.2.min.js\"></script>                <div id=\"7a19c758-add2-46cd-bc0f-cb5aa84b8646\" class=\"plotly-graph-div\" style=\"height:525px; width:100%;\"></div>            <script type=\"text/javascript\">                                    window.PLOTLYENV=window.PLOTLYENV || {};                                    if (document.getElementById(\"7a19c758-add2-46cd-bc0f-cb5aa84b8646\")) {                    Plotly.newPlot(                        \"7a19c758-add2-46cd-bc0f-cb5aa84b8646\",                        [{\"alignmentgroup\":\"True\",\"hovertemplate\":\"Faixa Etária=18 a 19\\u003cbr\\u003eNível=Ensino Médio Completo\\u003cbr\\u003eLocalidade=%{x}\\u003cbr\\u003eQuantidade=%{text}\\u003cextra\\u003e\\u003c\\u002fextra\\u003e\",\"legendgroup\":\"18 a 19\",\"marker\":{\"color\":\"#636efa\",\"pattern\":{\"shape\":\"\"}},\"name\":\"18 a 19\",\"offsetgroup\":\"18 a 19\",\"orientation\":\"v\",\"showlegend\":true,\"text\":[729866.0,177468.0,7176.0],\"textposition\":\"outside\",\"x\":[\"Estado de SP\",\"São Paulo (SP)\",\"São José dos Campos (SP)\"],\"xaxis\":\"x\",\"y\":[729866,177468,7176],\"yaxis\":\"y\",\"type\":\"bar\",\"texttemplate\":\"%{text}\"},{\"alignmentgroup\":\"True\",\"hovertemplate\":\"Faixa Etária=18 a 19\\u003cbr\\u003eNível=Ensino Superior Completo\\u003cbr\\u003eLocalidade=%{x}\\u003cbr\\u003eQuantidade=%{text}\\u003cextra\\u003e\\u003c\\u002fextra\\u003e\",\"legendgroup\":\"18 a 19\",\"marker\":{\"color\":\"#636efa\",\"pattern\":{\"shape\":\"\"}},\"name\":\"18 a 19\",\"offsetgroup\":\"18 a 19\",\"orientation\":\"v\",\"showlegend\":false,\"text\":[20157.0,6492.0,211.0],\"textposition\":\"outside\",\"x\":[\"Estado de SP\",\"São Paulo (SP)\",\"São José dos Campos (SP)\"],\"xaxis\":\"x2\",\"y\":[20157,6492,211],\"yaxis\":\"y2\",\"type\":\"bar\",\"texttemplate\":\"%{text}\"},{\"alignmentgroup\":\"True\",\"hovertemplate\":\"Faixa Etária=20 a 24\\u003cbr\\u003eNível=Ensino Médio Completo\\u003cbr\\u003eLocalidade=%{x}\\u003cbr\\u003eQuantidade=%{text}\\u003cextra\\u003e\\u003c\\u002fextra\\u003e\",\"legendgroup\":\"20 a 24\",\"marker\":{\"color\":\"#EF553B\",\"pattern\":{\"shape\":\"\"}},\"name\":\"20 a 24\",\"offsetgroup\":\"20 a 24\",\"orientation\":\"v\",\"showlegend\":true,\"text\":[2088031.0,517313.0,22181.0],\"textposition\":\"outside\",\"x\":[\"Estado de SP\",\"São Paulo (SP)\",\"São José dos Campos (SP)\"],\"xaxis\":\"x\",\"y\":[2088031,517313,22181],\"yaxis\":\"y\",\"type\":\"bar\",\"texttemplate\":\"%{text}\"},{\"alignmentgroup\":\"True\",\"hovertemplate\":\"Faixa Etária=20 a 24\\u003cbr\\u003eNível=Ensino Superior Completo\\u003cbr\\u003eLocalidade=%{x}\\u003cbr\\u003eQuantidade=%{text}\\u003cextra\\u003e\\u003c\\u002fextra\\u003e\",\"legendgroup\":\"20 a 24\",\"marker\":{\"color\":\"#EF553B\",\"pattern\":{\"shape\":\"\"}},\"name\":\"20 a 24\",\"offsetgroup\":\"20 a 24\",\"orientation\":\"v\",\"showlegend\":false,\"text\":[388404.0,129993.0,5968.0],\"textposition\":\"outside\",\"x\":[\"Estado de SP\",\"São Paulo (SP)\",\"São José dos Campos (SP)\"],\"xaxis\":\"x2\",\"y\":[388404,129993,5968],\"yaxis\":\"y2\",\"type\":\"bar\",\"texttemplate\":\"%{text}\"},{\"alignmentgroup\":\"True\",\"hovertemplate\":\"Faixa Etária=25 a 29\\u003cbr\\u003eNível=Ensino Médio Completo\\u003cbr\\u003eLocalidade=%{x}\\u003cbr\\u003eQuantidade=%{text}\\u003cextra\\u003e\\u003c\\u002fextra\\u003e\",\"legendgroup\":\"25 a 29\",\"marker\":{\"color\":\"#00cc96\",\"pattern\":{\"shape\":\"\"}},\"name\":\"25 a 29\",\"offsetgroup\":\"25 a 29\",\"orientation\":\"v\",\"showlegend\":true,\"text\":[1650113.0,389612.0,26144.0],\"textposition\":\"outside\",\"x\":[\"Estado de SP\",\"São Paulo (SP)\",\"São José dos Campos (SP)\"],\"xaxis\":\"x\",\"y\":[1650113,389612,26144],\"yaxis\":\"y\",\"type\":\"bar\",\"texttemplate\":\"%{text}\"},{\"alignmentgroup\":\"True\",\"hovertemplate\":\"Faixa Etária=25 a 29\\u003cbr\\u003eNível=Ensino Superior Completo\\u003cbr\\u003eLocalidade=%{x}\\u003cbr\\u003eQuantidade=%{text}\\u003cextra\\u003e\\u003c\\u002fextra\\u003e\",\"legendgroup\":\"25 a 29\",\"marker\":{\"color\":\"#00cc96\",\"pattern\":{\"shape\":\"\"}},\"name\":\"25 a 29\",\"offsetgroup\":\"25 a 29\",\"orientation\":\"v\",\"showlegend\":false,\"text\":[871161.0,294491.0,15680.0],\"textposition\":\"outside\",\"x\":[\"Estado de SP\",\"São Paulo (SP)\",\"São José dos Campos (SP)\"],\"xaxis\":\"x2\",\"y\":[871161,294491,15680],\"yaxis\":\"y2\",\"type\":\"bar\",\"texttemplate\":\"%{text}\"}],                        {\"template\":{\"data\":{\"histogram2dcontour\":[{\"type\":\"histogram2dcontour\",\"colorbar\":{\"outlinewidth\":0,\"ticks\":\"\"},\"colorscale\":[[0.0,\"#0d0887\"],[0.1111111111111111,\"#46039f\"],[0.2222222222222222,\"#7201a8\"],[0.3333333333333333,\"#9c179e\"],[0.4444444444444444,\"#bd3786\"],[0.5555555555555556,\"#d8576b\"],[0.6666666666666666,\"#ed7953\"],[0.7777777777777778,\"#fb9f3a\"],[0.8888888888888888,\"#fdca26\"],[1.0,\"#f0f921\"]]}],\"choropleth\":[{\"type\":\"choropleth\",\"colorbar\":{\"outlinewidth\":0,\"ticks\":\"\"}}],\"histogram2d\":[{\"type\":\"histogram2d\",\"colorbar\":{\"outlinewidth\":0,\"ticks\":\"\"},\"colorscale\":[[0.0,\"#0d0887\"],[0.1111111111111111,\"#46039f\"],[0.2222222222222222,\"#7201a8\"],[0.3333333333333333,\"#9c179e\"],[0.4444444444444444,\"#bd3786\"],[0.5555555555555556,\"#d8576b\"],[0.6666666666666666,\"#ed7953\"],[0.7777777777777778,\"#fb9f3a\"],[0.8888888888888888,\"#fdca26\"],[1.0,\"#f0f921\"]]}],\"heatmap\":[{\"type\":\"heatmap\",\"colorbar\":{\"outlinewidth\":0,\"ticks\":\"\"},\"colorscale\":[[0.0,\"#0d0887\"],[0.1111111111111111,\"#46039f\"],[0.2222222222222222,\"#7201a8\"],[0.3333333333333333,\"#9c179e\"],[0.4444444444444444,\"#bd3786\"],[0.5555555555555556,\"#d8576b\"],[0.6666666666666666,\"#ed7953\"],[0.7777777777777778,\"#fb9f3a\"],[0.8888888888888888,\"#fdca26\"],[1.0,\"#f0f921\"]]}],\"heatmapgl\":[{\"type\":\"heatmapgl\",\"colorbar\":{\"outlinewidth\":0,\"ticks\":\"\"},\"colorscale\":[[0.0,\"#0d0887\"],[0.1111111111111111,\"#46039f\"],[0.2222222222222222,\"#7201a8\"],[0.3333333333333333,\"#9c179e\"],[0.4444444444444444,\"#bd3786\"],[0.5555555555555556,\"#d8576b\"],[0.6666666666666666,\"#ed7953\"],[0.7777777777777778,\"#fb9f3a\"],[0.8888888888888888,\"#fdca26\"],[1.0,\"#f0f921\"]]}],\"contourcarpet\":[{\"type\":\"contourcarpet\",\"colorbar\":{\"outlinewidth\":0,\"ticks\":\"\"}}],\"contour\":[{\"type\":\"contour\",\"colorbar\":{\"outlinewidth\":0,\"ticks\":\"\"},\"colorscale\":[[0.0,\"#0d0887\"],[0.1111111111111111,\"#46039f\"],[0.2222222222222222,\"#7201a8\"],[0.3333333333333333,\"#9c179e\"],[0.4444444444444444,\"#bd3786\"],[0.5555555555555556,\"#d8576b\"],[0.6666666666666666,\"#ed7953\"],[0.7777777777777778,\"#fb9f3a\"],[0.8888888888888888,\"#fdca26\"],[1.0,\"#f0f921\"]]}],\"surface\":[{\"type\":\"surface\",\"colorbar\":{\"outlinewidth\":0,\"ticks\":\"\"},\"colorscale\":[[0.0,\"#0d0887\"],[0.1111111111111111,\"#46039f\"],[0.2222222222222222,\"#7201a8\"],[0.3333333333333333,\"#9c179e\"],[0.4444444444444444,\"#bd3786\"],[0.5555555555555556,\"#d8576b\"],[0.6666666666666666,\"#ed7953\"],[0.7777777777777778,\"#fb9f3a\"],[0.8888888888888888,\"#fdca26\"],[1.0,\"#f0f921\"]]}],\"mesh3d\":[{\"type\":\"mesh3d\",\"colorbar\":{\"outlinewidth\":0,\"ticks\":\"\"}}],\"scatter\":[{\"fillpattern\":{\"fillmode\":\"overlay\",\"size\":10,\"solidity\":0.2},\"type\":\"scatter\"}],\"parcoords\":[{\"type\":\"parcoords\",\"line\":{\"colorbar\":{\"outlinewidth\":0,\"ticks\":\"\"}}}],\"scatterpolargl\":[{\"type\":\"scatterpolargl\",\"marker\":{\"colorbar\":{\"outlinewidth\":0,\"ticks\":\"\"}}}],\"bar\":[{\"error_x\":{\"color\":\"#2a3f5f\"},\"error_y\":{\"color\":\"#2a3f5f\"},\"marker\":{\"line\":{\"color\":\"#E5ECF6\",\"width\":0.5},\"pattern\":{\"fillmode\":\"overlay\",\"size\":10,\"solidity\":0.2}},\"type\":\"bar\"}],\"scattergeo\":[{\"type\":\"scattergeo\",\"marker\":{\"colorbar\":{\"outlinewidth\":0,\"ticks\":\"\"}}}],\"scatterpolar\":[{\"type\":\"scatterpolar\",\"marker\":{\"colorbar\":{\"outlinewidth\":0,\"ticks\":\"\"}}}],\"histogram\":[{\"marker\":{\"pattern\":{\"fillmode\":\"overlay\",\"size\":10,\"solidity\":0.2}},\"type\":\"histogram\"}],\"scattergl\":[{\"type\":\"scattergl\",\"marker\":{\"colorbar\":{\"outlinewidth\":0,\"ticks\":\"\"}}}],\"scatter3d\":[{\"type\":\"scatter3d\",\"line\":{\"colorbar\":{\"outlinewidth\":0,\"ticks\":\"\"}},\"marker\":{\"colorbar\":{\"outlinewidth\":0,\"ticks\":\"\"}}}],\"scattermapbox\":[{\"type\":\"scattermapbox\",\"marker\":{\"colorbar\":{\"outlinewidth\":0,\"ticks\":\"\"}}}],\"scatterternary\":[{\"type\":\"scatterternary\",\"marker\":{\"colorbar\":{\"outlinewidth\":0,\"ticks\":\"\"}}}],\"scattercarpet\":[{\"type\":\"scattercarpet\",\"marker\":{\"colorbar\":{\"outlinewidth\":0,\"ticks\":\"\"}}}],\"carpet\":[{\"aaxis\":{\"endlinecolor\":\"#2a3f5f\",\"gridcolor\":\"white\",\"linecolor\":\"white\",\"minorgridcolor\":\"white\",\"startlinecolor\":\"#2a3f5f\"},\"baxis\":{\"endlinecolor\":\"#2a3f5f\",\"gridcolor\":\"white\",\"linecolor\":\"white\",\"minorgridcolor\":\"white\",\"startlinecolor\":\"#2a3f5f\"},\"type\":\"carpet\"}],\"table\":[{\"cells\":{\"fill\":{\"color\":\"#EBF0F8\"},\"line\":{\"color\":\"white\"}},\"header\":{\"fill\":{\"color\":\"#C8D4E3\"},\"line\":{\"color\":\"white\"}},\"type\":\"table\"}],\"barpolar\":[{\"marker\":{\"line\":{\"color\":\"#E5ECF6\",\"width\":0.5},\"pattern\":{\"fillmode\":\"overlay\",\"size\":10,\"solidity\":0.2}},\"type\":\"barpolar\"}],\"pie\":[{\"automargin\":true,\"type\":\"pie\"}]},\"layout\":{\"autotypenumbers\":\"strict\",\"colorway\":[\"#636efa\",\"#EF553B\",\"#00cc96\",\"#ab63fa\",\"#FFA15A\",\"#19d3f3\",\"#FF6692\",\"#B6E880\",\"#FF97FF\",\"#FECB52\"],\"font\":{\"color\":\"#2a3f5f\"},\"hovermode\":\"closest\",\"hoverlabel\":{\"align\":\"left\"},\"paper_bgcolor\":\"white\",\"plot_bgcolor\":\"#E5ECF6\",\"polar\":{\"bgcolor\":\"#E5ECF6\",\"angularaxis\":{\"gridcolor\":\"white\",\"linecolor\":\"white\",\"ticks\":\"\"},\"radialaxis\":{\"gridcolor\":\"white\",\"linecolor\":\"white\",\"ticks\":\"\"}},\"ternary\":{\"bgcolor\":\"#E5ECF6\",\"aaxis\":{\"gridcolor\":\"white\",\"linecolor\":\"white\",\"ticks\":\"\"},\"baxis\":{\"gridcolor\":\"white\",\"linecolor\":\"white\",\"ticks\":\"\"},\"caxis\":{\"gridcolor\":\"white\",\"linecolor\":\"white\",\"ticks\":\"\"}},\"coloraxis\":{\"colorbar\":{\"outlinewidth\":0,\"ticks\":\"\"}},\"colorscale\":{\"sequential\":[[0.0,\"#0d0887\"],[0.1111111111111111,\"#46039f\"],[0.2222222222222222,\"#7201a8\"],[0.3333333333333333,\"#9c179e\"],[0.4444444444444444,\"#bd3786\"],[0.5555555555555556,\"#d8576b\"],[0.6666666666666666,\"#ed7953\"],[0.7777777777777778,\"#fb9f3a\"],[0.8888888888888888,\"#fdca26\"],[1.0,\"#f0f921\"]],\"sequentialminus\":[[0.0,\"#0d0887\"],[0.1111111111111111,\"#46039f\"],[0.2222222222222222,\"#7201a8\"],[0.3333333333333333,\"#9c179e\"],[0.4444444444444444,\"#bd3786\"],[0.5555555555555556,\"#d8576b\"],[0.6666666666666666,\"#ed7953\"],[0.7777777777777778,\"#fb9f3a\"],[0.8888888888888888,\"#fdca26\"],[1.0,\"#f0f921\"]],\"diverging\":[[0,\"#8e0152\"],[0.1,\"#c51b7d\"],[0.2,\"#de77ae\"],[0.3,\"#f1b6da\"],[0.4,\"#fde0ef\"],[0.5,\"#f7f7f7\"],[0.6,\"#e6f5d0\"],[0.7,\"#b8e186\"],[0.8,\"#7fbc41\"],[0.9,\"#4d9221\"],[1,\"#276419\"]]},\"xaxis\":{\"gridcolor\":\"white\",\"linecolor\":\"white\",\"ticks\":\"\",\"title\":{\"standoff\":15},\"zerolinecolor\":\"white\",\"automargin\":true,\"zerolinewidth\":2},\"yaxis\":{\"gridcolor\":\"white\",\"linecolor\":\"white\",\"ticks\":\"\",\"title\":{\"standoff\":15},\"zerolinecolor\":\"white\",\"automargin\":true,\"zerolinewidth\":2},\"scene\":{\"xaxis\":{\"backgroundcolor\":\"#E5ECF6\",\"gridcolor\":\"white\",\"linecolor\":\"white\",\"showbackground\":true,\"ticks\":\"\",\"zerolinecolor\":\"white\",\"gridwidth\":2},\"yaxis\":{\"backgroundcolor\":\"#E5ECF6\",\"gridcolor\":\"white\",\"linecolor\":\"white\",\"showbackground\":true,\"ticks\":\"\",\"zerolinecolor\":\"white\",\"gridwidth\":2},\"zaxis\":{\"backgroundcolor\":\"#E5ECF6\",\"gridcolor\":\"white\",\"linecolor\":\"white\",\"showbackground\":true,\"ticks\":\"\",\"zerolinecolor\":\"white\",\"gridwidth\":2}},\"shapedefaults\":{\"line\":{\"color\":\"#2a3f5f\"}},\"annotationdefaults\":{\"arrowcolor\":\"#2a3f5f\",\"arrowhead\":0,\"arrowwidth\":1},\"geo\":{\"bgcolor\":\"white\",\"landcolor\":\"#E5ECF6\",\"subunitcolor\":\"white\",\"showland\":true,\"showlakes\":true,\"lakecolor\":\"white\"},\"title\":{\"x\":0.05},\"mapbox\":{\"style\":\"light\"}}},\"xaxis\":{\"anchor\":\"y\",\"domain\":[0.0,0.49],\"title\":{\"text\":\"Localidade\"},\"categoryorder\":\"array\",\"categoryarray\":[\"São José dos Campos (SP)\",\"Estado de SP\",\"São Paulo (SP)\"]},\"yaxis\":{\"anchor\":\"x\",\"domain\":[0.0,1.0],\"title\":{\"text\":\"Quantidade de Pessoas\"}},\"xaxis2\":{\"anchor\":\"y2\",\"domain\":[0.51,1.0],\"matches\":\"x\",\"title\":{\"text\":\"Localidade\"},\"categoryorder\":\"array\",\"categoryarray\":[\"São José dos Campos (SP)\",\"Estado de SP\",\"São Paulo (SP)\"]},\"yaxis2\":{\"anchor\":\"x2\",\"domain\":[0.0,1.0],\"matches\":\"y\",\"showticklabels\":false},\"annotations\":[{\"font\":{},\"showarrow\":false,\"text\":\"Nível=Ensino Médio Completo\",\"x\":0.245,\"xanchor\":\"center\",\"xref\":\"paper\",\"y\":1.0,\"yanchor\":\"bottom\",\"yref\":\"paper\"},{\"font\":{},\"showarrow\":false,\"text\":\"Nível=Ensino Superior Completo\",\"x\":0.755,\"xanchor\":\"center\",\"xref\":\"paper\",\"y\":1.0,\"yanchor\":\"bottom\",\"yref\":\"paper\"}],\"legend\":{\"title\":{\"text\":\"Faixas Etárias\"},\"tracegroupgap\":0},\"title\":{\"text\":\"Análise de Escolaridade: São José dos Campos vs São Paulo 2022\"},\"barmode\":\"group\",\"uniformtext\":{\"minsize\":8,\"mode\":\"hide\"}},                        {\"responsive\": true}                    ).then(function(){\n",
       "                            \n",
       "var gd = document.getElementById('7a19c758-add2-46cd-bc0f-cb5aa84b8646');\n",
       "var x = new MutationObserver(function (mutations, observer) {{\n",
       "        var display = window.getComputedStyle(gd).display;\n",
       "        if (!display || display === 'none') {{\n",
       "            console.log([gd, 'removed!']);\n",
       "            Plotly.purge(gd);\n",
       "            observer.disconnect();\n",
       "        }}\n",
       "}});\n",
       "\n",
       "// Listen for the removal of the full notebook cells\n",
       "var notebookContainer = gd.closest('#notebook-container');\n",
       "if (notebookContainer) {{\n",
       "    x.observe(notebookContainer, {childList: true});\n",
       "}}\n",
       "\n",
       "// Listen for the clearing of the current output cell\n",
       "var outputEl = gd.closest('.output');\n",
       "if (outputEl) {{\n",
       "    x.observe(outputEl, {childList: true});\n",
       "}}\n",
       "\n",
       "                        })                };                            </script>        </div>\n",
       "</body>\n",
       "</html>"
      ]
     },
     "metadata": {},
     "output_type": "display_data"
    }
   ],
   "source": [
    "#organizando as categorias\n",
    "df_analise_nivel_instrucao_2022['Localidade'] = pd.Categorical(\n",
    "    df_analise_nivel_instrucao_2022['Localidade'],\n",
    "    categories=['São José dos Campos (SP)', 'São Paulo (SP)', 'Estado de SP'],\n",
    "    ordered=True\n",
    ")\n",
    "\n",
    "df_analise_nivel_instrucao_2022['Faixa Etária'] = pd.Categorical(\n",
    "    df_analise_nivel_instrucao_2022['Faixa Etária'],\n",
    "    categories=['18 a 19', '20 a 24', '25 a 29'],\n",
    "    ordered=True\n",
    ")\n",
    "\n",
    "df_analise_nivel_instrucao_2022['Nível'] = pd.Categorical(\n",
    "    df_analise_nivel_instrucao_2022['Nível'],\n",
    "    categories=['Ensino Médio Completo', 'Ensino Superior Completo'],\n",
    "    ordered=True\n",
    ")\n",
    "\n",
    "#gráficos\n",
    "fig = px.bar(\n",
    "    df_analise_nivel_instrucao_2022,\n",
    "    x='Localidade',\n",
    "    y='Quantidade',\n",
    "    color='Faixa Etária',\n",
    "    barmode='group',\n",
    "    facet_col='Nível',\n",
    "    category_orders={\n",
    "        'Faixa Etária': ['18 a 19', '20 a 24', '25 a 29'],\n",
    "        'Localidade': ['São José dos Campos (SP)', 'Estado de SP', 'São Paulo (SP)']\n",
    "    },\n",
    "    text='Quantidade',\n",
    "    title='Análise de Escolaridade: São José dos Campos vs São Paulo 2022'\n",
    ")\n",
    "\n",
    "fig.update_traces(texttemplate=\"%{text}\", textposition=\"outside\")\n",
    "fig.update_layout(\n",
    "    yaxis_title='Quantidade de Pessoas',\n",
    "    xaxis_title='Localidade',\n",
    "    legend_title='Faixas Etárias',\n",
    "    uniformtext_minsize=8,\n",
    "    uniformtext_mode='hide'\n",
    ")\n",
    "\n",
    "fig.show()"
   ]
  },
  {
   "cell_type": "markdown",
   "metadata": {
    "id": "6p_Hgg4DNrCS"
   },
   "source": [
    "EXPORTAÇÃO DO GRÁFICO PARA ARQUIVO JSON (A EXECUÇÃO DESTA LINHA É OPCINAL)"
   ]
  },
  {
   "cell_type": "code",
   "execution_count": null,
   "metadata": {
    "colab": {
     "base_uri": "https://localhost:8080/",
     "height": 17
    },
    "executionInfo": {
     "elapsed": 33,
     "status": "ok",
     "timestamp": 1761401144286,
     "user": {
      "displayName": "Guilherme",
      "userId": "17933761807338123732"
     },
     "user_tz": 180
    },
    "id": "DlUcYRPqJ9dK",
    "outputId": "f372fa07-0bee-446c-948c-5f23d9209841"
   },
   "outputs": [
    {
     "data": {
      "application/javascript": "\n    async function download(id, filename, size) {\n      if (!google.colab.kernel.accessAllowed) {\n        return;\n      }\n      const div = document.createElement('div');\n      const label = document.createElement('label');\n      label.textContent = `Downloading \"${filename}\": `;\n      div.appendChild(label);\n      const progress = document.createElement('progress');\n      progress.max = size;\n      div.appendChild(progress);\n      document.body.appendChild(div);\n\n      const buffers = [];\n      let downloaded = 0;\n\n      const channel = await google.colab.kernel.comms.open(id);\n      // Send a message to notify the kernel that we're ready.\n      channel.send({})\n\n      for await (const message of channel.messages) {\n        // Send a message to notify the kernel that we're ready.\n        channel.send({})\n        if (message.buffers) {\n          for (const buffer of message.buffers) {\n            buffers.push(buffer);\n            downloaded += buffer.byteLength;\n            progress.value = downloaded;\n          }\n        }\n      }\n      const blob = new Blob(buffers, {type: 'application/binary'});\n      const a = document.createElement('a');\n      a.href = window.URL.createObjectURL(blob);\n      a.download = filename;\n      div.appendChild(a);\n      a.click();\n      div.remove();\n    }\n  ",
      "text/plain": [
       "<IPython.core.display.Javascript object>"
      ]
     },
     "metadata": {},
     "output_type": "display_data"
    },
    {
     "data": {
      "application/javascript": "download(\"download_8a97225f-5f3c-448b-9dea-4050a6fe68b6\", \"grafico_escolaridade_sjc_sp_2022.json\", 12342)",
      "text/plain": [
       "<IPython.core.display.Javascript object>"
      ]
     },
     "metadata": {},
     "output_type": "display_data"
    }
   ],
   "source": [
    "#salva o arquivo JSON\n",
    "grafico_escolaridade_sjc_sp_2022 = json.dumps(fig, cls=PlotlyJSONEncoder)\n",
    "\n",
    "with open(\"grafico_escolaridade_sjc_sp_2022.json\", \"w\") as f:\n",
    "    f.write(grafico_escolaridade_sjc_sp_2022)\n",
    "\n",
    "#faz o download\n",
    "files.download(\"grafico_escolaridade_sjc_sp_2022.json\")\n"
   ]
  },
  {
   "cell_type": "markdown",
   "metadata": {
    "id": "qwrLuzYKPgQe"
   },
   "source": [
    "# **ANÁLISE EDUCACIONAL pt.2: \"ENSINO SUPERIOR COMPLETO x GRADUAÇÃO EM TI\" (SJC x SP) 2010 - 2022**"
   ]
  },
  {
   "cell_type": "markdown",
   "metadata": {
    "id": "S36Wo4GnP0Es"
   },
   "source": [
    "ANO DE 2010 (responsável: Giovana; padronização: Guilherme)"
   ]
  },
  {
   "cell_type": "code",
   "execution_count": null,
   "metadata": {
    "id": "m-PnzG4pQFWN"
   },
   "outputs": [],
   "source": [
    "df_2010 = pd.read_excel('/content/drive/MyDrive/populacao_jovem/populacao_superior_completo_2010.xlsx')\n",
    "\n",
    "dados_2010 = [\n",
    "    ['Estado de São Paulo', 3924436, 329590],\n",
    "    ['São Paulo (cidade)', 1570884, 118902],\n",
    "    ['São José dos Campos', 67827, 4252],\n",
    "]\n",
    "\n",
    "df_2010 = pd.DataFrame(dados_2010, columns=[\"Localidade\", \"Superior Total\", \"Formação TI\"])\n",
    "\n",
    "df_2010['% TI'] = (df_2010['Formação TI'] / df_2010['Superior Total'] * 100).round(2)\n",
    "df_2010['% Não-TI'] = 100 - df_2010['% TI']\n",
    "df_2010['Não-TI'] = df_2010['Superior Total'] - df_2010['Formação TI']"
   ]
  },
  {
   "cell_type": "markdown",
   "metadata": {
    "id": "Bgm7BhtUP8CB"
   },
   "source": [
    "ANO DE 2022 (responsáveis: Mariana, Rayssa; padronização: Guilherme)"
   ]
  },
  {
   "cell_type": "code",
   "execution_count": null,
   "metadata": {
    "id": "FR498FFZQc6S"
   },
   "outputs": [],
   "source": [
    "df_2022 = pd.read_excel('/content/drive/MyDrive/populacao_jovem/populacao_superior_completo_2022.xlsx')\n",
    "\n",
    "dados_2022 = [\n",
    "    ['Estado de São Paulo', 7478587, 331924],\n",
    "    ['São Paulo (cidade)', 2512570, 125296],\n",
    "    ['São José dos Campos', 142053, 6041],\n",
    "]\n",
    "\n",
    "df_2022 = pd.DataFrame(dados_2022, columns=[\"Localidade\", \"Total Formandos\", \"Formandos TI\"])\n",
    "\n",
    "# Calculando percentuais e outras métricas\n",
    "df_2022['% TI'] = (df_2022['Formandos TI'] / df_2022['Total Formandos'] * 100).round(2)\n",
    "df_2022['% Não-TI'] = 100 - df_2022['% TI']\n",
    "df_2022['Formandos Outras Áreas'] = df_2022['Total Formandos'] - df_2022['Formandos TI']\n",
    "df_2022['% do Estado (TI)'] = (df_2022['Formandos TI'] / df_2022.loc[0, 'Formandos TI'] * 100).round(2)\n",
    "df_2022['% do Estado (Total)'] = (df_2022['Total Formandos'] / df_2022.loc[0, 'Total Formandos'] * 100).round(2)"
   ]
  },
  {
   "cell_type": "markdown",
   "metadata": {
    "id": "iTQXvyMyQYag"
   },
   "source": [
    "GRÁFICO - \"Formação TI x Total: São José dos Campos vs São Paulo (2010 e 2022)\"\n",
    "\n",
    "(responsáveis: Giovana, Mariana, Rayssa; adaptação e padronização:: Guilherme)"
   ]
  },
  {
   "cell_type": "code",
   "execution_count": null,
   "metadata": {
    "colab": {
     "base_uri": "https://localhost:8080/",
     "height": 542
    },
    "executionInfo": {
     "elapsed": 107,
     "status": "ok",
     "timestamp": 1761401154792,
     "user": {
      "displayName": "Guilherme",
      "userId": "17933761807338123732"
     },
     "user_tz": 180
    },
    "id": "anBdu_TjPs0Y",
    "outputId": "cc119d0c-0909-40b9-da9f-a238c6f3a597"
   },
   "outputs": [
    {
     "data": {
      "text/html": [
       "<html>\n",
       "<head><meta charset=\"utf-8\" /></head>\n",
       "<body>\n",
       "    <div>            <script src=\"https://cdnjs.cloudflare.com/ajax/libs/mathjax/2.7.5/MathJax.js?config=TeX-AMS-MML_SVG\"></script><script type=\"text/javascript\">if (window.MathJax && window.MathJax.Hub && window.MathJax.Hub.Config) {window.MathJax.Hub.Config({SVG: {font: \"STIX-Web\"}});}</script>                <script type=\"text/javascript\">window.PlotlyConfig = {MathJaxConfig: 'local'};</script>\n",
       "        <script charset=\"utf-8\" src=\"https://cdn.plot.ly/plotly-2.35.2.min.js\"></script>                <div id=\"1a3f2e5b-91d8-4b72-b4cf-13c1e64f58c2\" class=\"plotly-graph-div\" style=\"height:525px; width:100%;\"></div>            <script type=\"text/javascript\">                                    window.PLOTLYENV=window.PLOTLYENV || {};                                    if (document.getElementById(\"1a3f2e5b-91d8-4b72-b4cf-13c1e64f58c2\")) {                    Plotly.newPlot(                        \"1a3f2e5b-91d8-4b72-b4cf-13c1e64f58c2\",                        [{\"alignmentgroup\":\"True\",\"hovertemplate\":\"Categoria=Total Formandos\\u003cbr\\u003eLocalidade=São José dos Campos (SP)\\u003cbr\\u003eAno=%{x}\\u003cbr\\u003eQuantidade=%{text}\\u003cextra\\u003e\\u003c\\u002fextra\\u003e\",\"legendgroup\":\"Total Formandos\",\"marker\":{\"color\":\"#ef553b\",\"pattern\":{\"shape\":\"\"}},\"name\":\"Total Formandos\",\"offsetgroup\":\"Total Formandos\",\"orientation\":\"v\",\"showlegend\":true,\"text\":[67827.0,142053.0],\"textposition\":\"outside\",\"x\":[2010,2022],\"xaxis\":\"x\",\"y\":[67827,142053],\"yaxis\":\"y\",\"type\":\"bar\",\"texttemplate\":\"%{text:,}\"},{\"alignmentgroup\":\"True\",\"hovertemplate\":\"Categoria=Total Formandos\\u003cbr\\u003eLocalidade=São Paulo\\u003cbr\\u003eAno=%{x}\\u003cbr\\u003eQuantidade=%{text}\\u003cextra\\u003e\\u003c\\u002fextra\\u003e\",\"legendgroup\":\"Total Formandos\",\"marker\":{\"color\":\"#ef553b\",\"pattern\":{\"shape\":\"\"}},\"name\":\"Total Formandos\",\"offsetgroup\":\"Total Formandos\",\"orientation\":\"v\",\"showlegend\":false,\"text\":[3924436.0,7478587.0],\"textposition\":\"outside\",\"x\":[2010,2022],\"xaxis\":\"x2\",\"y\":[3924436,7478587],\"yaxis\":\"y2\",\"type\":\"bar\",\"texttemplate\":\"%{text:,}\"},{\"alignmentgroup\":\"True\",\"hovertemplate\":\"Categoria=Total Formandos\\u003cbr\\u003eLocalidade=São Paulo (SP)\\u003cbr\\u003eAno=%{x}\\u003cbr\\u003eQuantidade=%{text}\\u003cextra\\u003e\\u003c\\u002fextra\\u003e\",\"legendgroup\":\"Total Formandos\",\"marker\":{\"color\":\"#ef553b\",\"pattern\":{\"shape\":\"\"}},\"name\":\"Total Formandos\",\"offsetgroup\":\"Total Formandos\",\"orientation\":\"v\",\"showlegend\":false,\"text\":[1570884.0,2512570.0],\"textposition\":\"outside\",\"x\":[2010,2022],\"xaxis\":\"x3\",\"y\":[1570884,2512570],\"yaxis\":\"y3\",\"type\":\"bar\",\"texttemplate\":\"%{text:,}\"},{\"alignmentgroup\":\"True\",\"hovertemplate\":\"Categoria=Formandos TI\\u003cbr\\u003eLocalidade=São José dos Campos (SP)\\u003cbr\\u003eAno=%{x}\\u003cbr\\u003eQuantidade=%{text}\\u003cextra\\u003e\\u003c\\u002fextra\\u003e\",\"legendgroup\":\"Formandos TI\",\"marker\":{\"color\":\"#636efa\",\"pattern\":{\"shape\":\"\"}},\"name\":\"Formandos TI\",\"offsetgroup\":\"Formandos TI\",\"orientation\":\"v\",\"showlegend\":true,\"text\":[4252.0,6041.0],\"textposition\":\"outside\",\"x\":[2010,2022],\"xaxis\":\"x\",\"y\":[4252,6041],\"yaxis\":\"y\",\"type\":\"bar\",\"texttemplate\":\"%{text:,}\"},{\"alignmentgroup\":\"True\",\"hovertemplate\":\"Categoria=Formandos TI\\u003cbr\\u003eLocalidade=São Paulo\\u003cbr\\u003eAno=%{x}\\u003cbr\\u003eQuantidade=%{text}\\u003cextra\\u003e\\u003c\\u002fextra\\u003e\",\"legendgroup\":\"Formandos TI\",\"marker\":{\"color\":\"#636efa\",\"pattern\":{\"shape\":\"\"}},\"name\":\"Formandos TI\",\"offsetgroup\":\"Formandos TI\",\"orientation\":\"v\",\"showlegend\":false,\"text\":[329590.0,331924.0],\"textposition\":\"outside\",\"x\":[2010,2022],\"xaxis\":\"x2\",\"y\":[329590,331924],\"yaxis\":\"y2\",\"type\":\"bar\",\"texttemplate\":\"%{text:,}\"},{\"alignmentgroup\":\"True\",\"hovertemplate\":\"Categoria=Formandos TI\\u003cbr\\u003eLocalidade=São Paulo (SP)\\u003cbr\\u003eAno=%{x}\\u003cbr\\u003eQuantidade=%{text}\\u003cextra\\u003e\\u003c\\u002fextra\\u003e\",\"legendgroup\":\"Formandos TI\",\"marker\":{\"color\":\"#636efa\",\"pattern\":{\"shape\":\"\"}},\"name\":\"Formandos TI\",\"offsetgroup\":\"Formandos TI\",\"orientation\":\"v\",\"showlegend\":false,\"text\":[118902.0,125296.0],\"textposition\":\"outside\",\"x\":[2010,2022],\"xaxis\":\"x3\",\"y\":[118902,125296],\"yaxis\":\"y3\",\"type\":\"bar\",\"texttemplate\":\"%{text:,}\"}],                        {\"template\":{\"data\":{\"histogram2dcontour\":[{\"type\":\"histogram2dcontour\",\"colorbar\":{\"outlinewidth\":0,\"ticks\":\"\"},\"colorscale\":[[0.0,\"#0d0887\"],[0.1111111111111111,\"#46039f\"],[0.2222222222222222,\"#7201a8\"],[0.3333333333333333,\"#9c179e\"],[0.4444444444444444,\"#bd3786\"],[0.5555555555555556,\"#d8576b\"],[0.6666666666666666,\"#ed7953\"],[0.7777777777777778,\"#fb9f3a\"],[0.8888888888888888,\"#fdca26\"],[1.0,\"#f0f921\"]]}],\"choropleth\":[{\"type\":\"choropleth\",\"colorbar\":{\"outlinewidth\":0,\"ticks\":\"\"}}],\"histogram2d\":[{\"type\":\"histogram2d\",\"colorbar\":{\"outlinewidth\":0,\"ticks\":\"\"},\"colorscale\":[[0.0,\"#0d0887\"],[0.1111111111111111,\"#46039f\"],[0.2222222222222222,\"#7201a8\"],[0.3333333333333333,\"#9c179e\"],[0.4444444444444444,\"#bd3786\"],[0.5555555555555556,\"#d8576b\"],[0.6666666666666666,\"#ed7953\"],[0.7777777777777778,\"#fb9f3a\"],[0.8888888888888888,\"#fdca26\"],[1.0,\"#f0f921\"]]}],\"heatmap\":[{\"type\":\"heatmap\",\"colorbar\":{\"outlinewidth\":0,\"ticks\":\"\"},\"colorscale\":[[0.0,\"#0d0887\"],[0.1111111111111111,\"#46039f\"],[0.2222222222222222,\"#7201a8\"],[0.3333333333333333,\"#9c179e\"],[0.4444444444444444,\"#bd3786\"],[0.5555555555555556,\"#d8576b\"],[0.6666666666666666,\"#ed7953\"],[0.7777777777777778,\"#fb9f3a\"],[0.8888888888888888,\"#fdca26\"],[1.0,\"#f0f921\"]]}],\"heatmapgl\":[{\"type\":\"heatmapgl\",\"colorbar\":{\"outlinewidth\":0,\"ticks\":\"\"},\"colorscale\":[[0.0,\"#0d0887\"],[0.1111111111111111,\"#46039f\"],[0.2222222222222222,\"#7201a8\"],[0.3333333333333333,\"#9c179e\"],[0.4444444444444444,\"#bd3786\"],[0.5555555555555556,\"#d8576b\"],[0.6666666666666666,\"#ed7953\"],[0.7777777777777778,\"#fb9f3a\"],[0.8888888888888888,\"#fdca26\"],[1.0,\"#f0f921\"]]}],\"contourcarpet\":[{\"type\":\"contourcarpet\",\"colorbar\":{\"outlinewidth\":0,\"ticks\":\"\"}}],\"contour\":[{\"type\":\"contour\",\"colorbar\":{\"outlinewidth\":0,\"ticks\":\"\"},\"colorscale\":[[0.0,\"#0d0887\"],[0.1111111111111111,\"#46039f\"],[0.2222222222222222,\"#7201a8\"],[0.3333333333333333,\"#9c179e\"],[0.4444444444444444,\"#bd3786\"],[0.5555555555555556,\"#d8576b\"],[0.6666666666666666,\"#ed7953\"],[0.7777777777777778,\"#fb9f3a\"],[0.8888888888888888,\"#fdca26\"],[1.0,\"#f0f921\"]]}],\"surface\":[{\"type\":\"surface\",\"colorbar\":{\"outlinewidth\":0,\"ticks\":\"\"},\"colorscale\":[[0.0,\"#0d0887\"],[0.1111111111111111,\"#46039f\"],[0.2222222222222222,\"#7201a8\"],[0.3333333333333333,\"#9c179e\"],[0.4444444444444444,\"#bd3786\"],[0.5555555555555556,\"#d8576b\"],[0.6666666666666666,\"#ed7953\"],[0.7777777777777778,\"#fb9f3a\"],[0.8888888888888888,\"#fdca26\"],[1.0,\"#f0f921\"]]}],\"mesh3d\":[{\"type\":\"mesh3d\",\"colorbar\":{\"outlinewidth\":0,\"ticks\":\"\"}}],\"scatter\":[{\"fillpattern\":{\"fillmode\":\"overlay\",\"size\":10,\"solidity\":0.2},\"type\":\"scatter\"}],\"parcoords\":[{\"type\":\"parcoords\",\"line\":{\"colorbar\":{\"outlinewidth\":0,\"ticks\":\"\"}}}],\"scatterpolargl\":[{\"type\":\"scatterpolargl\",\"marker\":{\"colorbar\":{\"outlinewidth\":0,\"ticks\":\"\"}}}],\"bar\":[{\"error_x\":{\"color\":\"#2a3f5f\"},\"error_y\":{\"color\":\"#2a3f5f\"},\"marker\":{\"line\":{\"color\":\"#E5ECF6\",\"width\":0.5},\"pattern\":{\"fillmode\":\"overlay\",\"size\":10,\"solidity\":0.2}},\"type\":\"bar\"}],\"scattergeo\":[{\"type\":\"scattergeo\",\"marker\":{\"colorbar\":{\"outlinewidth\":0,\"ticks\":\"\"}}}],\"scatterpolar\":[{\"type\":\"scatterpolar\",\"marker\":{\"colorbar\":{\"outlinewidth\":0,\"ticks\":\"\"}}}],\"histogram\":[{\"marker\":{\"pattern\":{\"fillmode\":\"overlay\",\"size\":10,\"solidity\":0.2}},\"type\":\"histogram\"}],\"scattergl\":[{\"type\":\"scattergl\",\"marker\":{\"colorbar\":{\"outlinewidth\":0,\"ticks\":\"\"}}}],\"scatter3d\":[{\"type\":\"scatter3d\",\"line\":{\"colorbar\":{\"outlinewidth\":0,\"ticks\":\"\"}},\"marker\":{\"colorbar\":{\"outlinewidth\":0,\"ticks\":\"\"}}}],\"scattermapbox\":[{\"type\":\"scattermapbox\",\"marker\":{\"colorbar\":{\"outlinewidth\":0,\"ticks\":\"\"}}}],\"scatterternary\":[{\"type\":\"scatterternary\",\"marker\":{\"colorbar\":{\"outlinewidth\":0,\"ticks\":\"\"}}}],\"scattercarpet\":[{\"type\":\"scattercarpet\",\"marker\":{\"colorbar\":{\"outlinewidth\":0,\"ticks\":\"\"}}}],\"carpet\":[{\"aaxis\":{\"endlinecolor\":\"#2a3f5f\",\"gridcolor\":\"white\",\"linecolor\":\"white\",\"minorgridcolor\":\"white\",\"startlinecolor\":\"#2a3f5f\"},\"baxis\":{\"endlinecolor\":\"#2a3f5f\",\"gridcolor\":\"white\",\"linecolor\":\"white\",\"minorgridcolor\":\"white\",\"startlinecolor\":\"#2a3f5f\"},\"type\":\"carpet\"}],\"table\":[{\"cells\":{\"fill\":{\"color\":\"#EBF0F8\"},\"line\":{\"color\":\"white\"}},\"header\":{\"fill\":{\"color\":\"#C8D4E3\"},\"line\":{\"color\":\"white\"}},\"type\":\"table\"}],\"barpolar\":[{\"marker\":{\"line\":{\"color\":\"#E5ECF6\",\"width\":0.5},\"pattern\":{\"fillmode\":\"overlay\",\"size\":10,\"solidity\":0.2}},\"type\":\"barpolar\"}],\"pie\":[{\"automargin\":true,\"type\":\"pie\"}]},\"layout\":{\"autotypenumbers\":\"strict\",\"colorway\":[\"#636efa\",\"#EF553B\",\"#00cc96\",\"#ab63fa\",\"#FFA15A\",\"#19d3f3\",\"#FF6692\",\"#B6E880\",\"#FF97FF\",\"#FECB52\"],\"font\":{\"color\":\"#2a3f5f\"},\"hovermode\":\"closest\",\"hoverlabel\":{\"align\":\"left\"},\"paper_bgcolor\":\"white\",\"plot_bgcolor\":\"#E5ECF6\",\"polar\":{\"bgcolor\":\"#E5ECF6\",\"angularaxis\":{\"gridcolor\":\"white\",\"linecolor\":\"white\",\"ticks\":\"\"},\"radialaxis\":{\"gridcolor\":\"white\",\"linecolor\":\"white\",\"ticks\":\"\"}},\"ternary\":{\"bgcolor\":\"#E5ECF6\",\"aaxis\":{\"gridcolor\":\"white\",\"linecolor\":\"white\",\"ticks\":\"\"},\"baxis\":{\"gridcolor\":\"white\",\"linecolor\":\"white\",\"ticks\":\"\"},\"caxis\":{\"gridcolor\":\"white\",\"linecolor\":\"white\",\"ticks\":\"\"}},\"coloraxis\":{\"colorbar\":{\"outlinewidth\":0,\"ticks\":\"\"}},\"colorscale\":{\"sequential\":[[0.0,\"#0d0887\"],[0.1111111111111111,\"#46039f\"],[0.2222222222222222,\"#7201a8\"],[0.3333333333333333,\"#9c179e\"],[0.4444444444444444,\"#bd3786\"],[0.5555555555555556,\"#d8576b\"],[0.6666666666666666,\"#ed7953\"],[0.7777777777777778,\"#fb9f3a\"],[0.8888888888888888,\"#fdca26\"],[1.0,\"#f0f921\"]],\"sequentialminus\":[[0.0,\"#0d0887\"],[0.1111111111111111,\"#46039f\"],[0.2222222222222222,\"#7201a8\"],[0.3333333333333333,\"#9c179e\"],[0.4444444444444444,\"#bd3786\"],[0.5555555555555556,\"#d8576b\"],[0.6666666666666666,\"#ed7953\"],[0.7777777777777778,\"#fb9f3a\"],[0.8888888888888888,\"#fdca26\"],[1.0,\"#f0f921\"]],\"diverging\":[[0,\"#8e0152\"],[0.1,\"#c51b7d\"],[0.2,\"#de77ae\"],[0.3,\"#f1b6da\"],[0.4,\"#fde0ef\"],[0.5,\"#f7f7f7\"],[0.6,\"#e6f5d0\"],[0.7,\"#b8e186\"],[0.8,\"#7fbc41\"],[0.9,\"#4d9221\"],[1,\"#276419\"]]},\"xaxis\":{\"gridcolor\":\"white\",\"linecolor\":\"white\",\"ticks\":\"\",\"title\":{\"standoff\":15},\"zerolinecolor\":\"white\",\"automargin\":true,\"zerolinewidth\":2},\"yaxis\":{\"gridcolor\":\"white\",\"linecolor\":\"white\",\"ticks\":\"\",\"title\":{\"standoff\":15},\"zerolinecolor\":\"white\",\"automargin\":true,\"zerolinewidth\":2},\"scene\":{\"xaxis\":{\"backgroundcolor\":\"#E5ECF6\",\"gridcolor\":\"white\",\"linecolor\":\"white\",\"showbackground\":true,\"ticks\":\"\",\"zerolinecolor\":\"white\",\"gridwidth\":2},\"yaxis\":{\"backgroundcolor\":\"#E5ECF6\",\"gridcolor\":\"white\",\"linecolor\":\"white\",\"showbackground\":true,\"ticks\":\"\",\"zerolinecolor\":\"white\",\"gridwidth\":2},\"zaxis\":{\"backgroundcolor\":\"#E5ECF6\",\"gridcolor\":\"white\",\"linecolor\":\"white\",\"showbackground\":true,\"ticks\":\"\",\"zerolinecolor\":\"white\",\"gridwidth\":2}},\"shapedefaults\":{\"line\":{\"color\":\"#2a3f5f\"}},\"annotationdefaults\":{\"arrowcolor\":\"#2a3f5f\",\"arrowhead\":0,\"arrowwidth\":1},\"geo\":{\"bgcolor\":\"white\",\"landcolor\":\"#E5ECF6\",\"subunitcolor\":\"white\",\"showland\":true,\"showlakes\":true,\"lakecolor\":\"white\"},\"title\":{\"x\":0.05},\"mapbox\":{\"style\":\"light\"}}},\"xaxis\":{\"anchor\":\"y\",\"domain\":[0.0,0.31999999999999995],\"title\":{\"text\":\"Ano\"}},\"yaxis\":{\"anchor\":\"x\",\"domain\":[0.0,1.0],\"title\":{\"text\":\"Quantidade de Formandos\"}},\"xaxis2\":{\"anchor\":\"y2\",\"domain\":[0.33999999999999997,0.6599999999999999],\"matches\":\"x\",\"title\":{\"text\":\"Ano\"}},\"yaxis2\":{\"anchor\":\"x2\",\"domain\":[0.0,1.0],\"matches\":\"y\",\"showticklabels\":false},\"xaxis3\":{\"anchor\":\"y3\",\"domain\":[0.6799999999999999,0.9999999999999999],\"matches\":\"x\",\"title\":{\"text\":\"Ano\"}},\"yaxis3\":{\"anchor\":\"x3\",\"domain\":[0.0,1.0],\"matches\":\"y\",\"showticklabels\":false},\"annotations\":[{\"font\":{},\"showarrow\":false,\"text\":\"São José dos Campos (SP)\",\"x\":0.15999999999999998,\"xanchor\":\"center\",\"xref\":\"paper\",\"y\":1.0,\"yanchor\":\"bottom\",\"yref\":\"paper\"},{\"font\":{},\"showarrow\":false,\"text\":\"São Paulo\",\"x\":0.49999999999999994,\"xanchor\":\"center\",\"xref\":\"paper\",\"y\":1.0,\"yanchor\":\"bottom\",\"yref\":\"paper\"},{\"font\":{},\"showarrow\":false,\"text\":\"São Paulo (SP)\",\"x\":0.8399999999999999,\"xanchor\":\"center\",\"xref\":\"paper\",\"y\":1.0,\"yanchor\":\"bottom\",\"yref\":\"paper\"}],\"legend\":{\"title\":{\"text\":\"Categoria\"},\"tracegroupgap\":0},\"title\":{\"text\":\"Formação TI x Total: São José dos Campos vs São Paulo (2010 e 2022)\"},\"barmode\":\"group\",\"uniformtext\":{\"minsize\":10,\"mode\":\"hide\"},\"margin\":{\"t\":80,\"b\":50},\"font\":{\"size\":12}},                        {\"responsive\": true}                    ).then(function(){\n",
       "                            \n",
       "var gd = document.getElementById('1a3f2e5b-91d8-4b72-b4cf-13c1e64f58c2');\n",
       "var x = new MutationObserver(function (mutations, observer) {{\n",
       "        var display = window.getComputedStyle(gd).display;\n",
       "        if (!display || display === 'none') {{\n",
       "            console.log([gd, 'removed!']);\n",
       "            Plotly.purge(gd);\n",
       "            observer.disconnect();\n",
       "        }}\n",
       "}});\n",
       "\n",
       "// Listen for the removal of the full notebook cells\n",
       "var notebookContainer = gd.closest('#notebook-container');\n",
       "if (notebookContainer) {{\n",
       "    x.observe(notebookContainer, {childList: true});\n",
       "}}\n",
       "\n",
       "// Listen for the clearing of the current output cell\n",
       "var outputEl = gd.closest('.output');\n",
       "if (outputEl) {{\n",
       "    x.observe(outputEl, {childList: true});\n",
       "}}\n",
       "\n",
       "                        })                };                            </script>        </div>\n",
       "</body>\n",
       "</html>"
      ]
     },
     "metadata": {},
     "output_type": "display_data"
    }
   ],
   "source": [
    "#atribuindo os dados de 2010\n",
    "dados_2010 = [\n",
    "    ['São José dos Campos (SP)', 67827, 4252],\n",
    "    ['São Paulo', 3924436, 329590],\n",
    "    ['São Paulo (SP)', 1570884, 118902]\n",
    "]\n",
    "\n",
    "df_2010 = pd.DataFrame(dados_2010, columns=[\"Localidade\", \"Total Formandos\", \"Formandos TI\"])\n",
    "df_2010[\"Ano\"] = 2010\n",
    "\n",
    "#atribuindo os dados de 2022\n",
    "dados_2022 = [\n",
    "    ['São José dos Campos (SP)', 142053, 6041],\n",
    "    ['São Paulo', 7478587, 331924],\n",
    "    ['São Paulo (SP)', 2512570, 125296]\n",
    "]\n",
    "\n",
    "df_2022 = pd.DataFrame(dados_2022, columns=[\"Localidade\", \"Total Formandos\", \"Formandos TI\"])\n",
    "df_2022[\"Ano\"] = 2022\n",
    "\n",
    "#combinando os dataframes\n",
    "df_comb = pd.concat([df_2010, df_2022])\n",
    "\n",
    "#convertendo o dataframe pro formato longo\n",
    "df_long = df_comb.melt(\n",
    "    id_vars=[\"Localidade\", \"Ano\"],\n",
    "    value_vars=[\"Total Formandos\", \"Formandos TI\"],\n",
    "    var_name=\"Categoria\",\n",
    "    value_name=\"Quantidade\"\n",
    ")\n",
    "\n",
    "#gráficos\n",
    "fig = px.bar(\n",
    "    df_long,\n",
    "    x=\"Ano\",\n",
    "    y=\"Quantidade\",\n",
    "    color=\"Categoria\",\n",
    "    text=\"Quantidade\",\n",
    "    barmode=\"group\",\n",
    "    facet_col=\"Localidade\",\n",
    "    title=\"Formação TI x Total: São José dos Campos vs São Paulo (2010 e 2022)\",\n",
    "    color_discrete_map={\"Formandos TI\": \"#636efa\", \"Total Formandos\": \"#ef553b\"}\n",
    ")\n",
    "\n",
    "fig.update_traces(texttemplate=\"%{text:,}\", textposition=\"outside\")\n",
    "fig.update_layout(\n",
    "    uniformtext_minsize=10,\n",
    "    uniformtext_mode=\"hide\",\n",
    "    yaxis_title=\"Quantidade de Formandos\",\n",
    "    legend_title=\"Categoria\",\n",
    "    margin=dict(t=80, b=50),\n",
    "    font=dict(size=12)\n",
    ")\n",
    "\n",
    "#removendo \"Localidade=” do título dos gráficos\n",
    "fig.for_each_annotation(lambda a: a.update(text=a.text.split(\"=\")[-1]))\n",
    "\n",
    "fig.show()"
   ]
  },
  {
   "cell_type": "markdown",
   "metadata": {
    "id": "-8JkTYq0YJBb"
   },
   "source": [
    "EXPORTAÇÃO DO GRÁFICO PARA ARQUIVO JSON (A EXECUÇÃO DESTA LINHA É OPCINAL)"
   ]
  },
  {
   "cell_type": "code",
   "execution_count": null,
   "metadata": {
    "colab": {
     "base_uri": "https://localhost:8080/",
     "height": 17
    },
    "executionInfo": {
     "elapsed": 46,
     "status": "ok",
     "timestamp": 1761401157115,
     "user": {
      "displayName": "Guilherme",
      "userId": "17933761807338123732"
     },
     "user_tz": 180
    },
    "id": "SQsd2awUYMf-",
    "outputId": "0947a94a-a3ca-4a4c-c5d3-155e3236fb49"
   },
   "outputs": [
    {
     "data": {
      "application/javascript": "\n    async function download(id, filename, size) {\n      if (!google.colab.kernel.accessAllowed) {\n        return;\n      }\n      const div = document.createElement('div');\n      const label = document.createElement('label');\n      label.textContent = `Downloading \"${filename}\": `;\n      div.appendChild(label);\n      const progress = document.createElement('progress');\n      progress.max = size;\n      div.appendChild(progress);\n      document.body.appendChild(div);\n\n      const buffers = [];\n      let downloaded = 0;\n\n      const channel = await google.colab.kernel.comms.open(id);\n      // Send a message to notify the kernel that we're ready.\n      channel.send({})\n\n      for await (const message of channel.messages) {\n        // Send a message to notify the kernel that we're ready.\n        channel.send({})\n        if (message.buffers) {\n          for (const buffer of message.buffers) {\n            buffers.push(buffer);\n            downloaded += buffer.byteLength;\n            progress.value = downloaded;\n          }\n        }\n      }\n      const blob = new Blob(buffers, {type: 'application/binary'});\n      const a = document.createElement('a');\n      a.href = window.URL.createObjectURL(blob);\n      a.download = filename;\n      div.appendChild(a);\n      a.click();\n      div.remove();\n    }\n  ",
      "text/plain": [
       "<IPython.core.display.Javascript object>"
      ]
     },
     "metadata": {},
     "output_type": "display_data"
    },
    {
     "data": {
      "application/javascript": "download(\"download_429e3a09-6b75-45d7-8d78-7fb212b86559\", \"grafico_superior_ti_2010_2022.json\", 12164)",
      "text/plain": [
       "<IPython.core.display.Javascript object>"
      ]
     },
     "metadata": {},
     "output_type": "display_data"
    }
   ],
   "source": [
    "#salva o arquivo JSON\n",
    "grafico_superior_ti_2010_2022 = json.dumps(fig, cls=PlotlyJSONEncoder)\n",
    "\n",
    "with open(\"grafico_superior_ti_2010_2022.json\", \"w\") as f:\n",
    "    f.write(grafico_superior_ti_2010_2022)\n",
    "\n",
    "#faz o download\n",
    "files.download(\"grafico_superior_ti_2010_2022.json\")"
   ]
  },
  {
   "cell_type": "markdown",
   "metadata": {
    "id": "BYAuGRpzYdZQ"
   },
   "source": [
    "GRÁFICO - \"Proporção de Formandos em TI: São José dos Campos vs São Paulo (2010 e 2022)\"\n",
    "\n",
    "(responsáveis: Giovana, Mariana, Rayssa; adaptação e padronização:: Guilherme)"
   ]
  },
  {
   "cell_type": "code",
   "execution_count": null,
   "metadata": {
    "colab": {
     "base_uri": "https://localhost:8080/",
     "height": 542
    },
    "executionInfo": {
     "elapsed": 164,
     "status": "ok",
     "timestamp": 1761402837873,
     "user": {
      "displayName": "Guilherme",
      "userId": "17933761807338123732"
     },
     "user_tz": 180
    },
    "id": "dSt1BRtZSwU4",
    "outputId": "63647ce6-d1c9-406d-8eb3-365d9ed525a2"
   },
   "outputs": [
    {
     "data": {
      "text/html": [
       "<html>\n",
       "<head><meta charset=\"utf-8\" /></head>\n",
       "<body>\n",
       "    <div>            <script src=\"https://cdnjs.cloudflare.com/ajax/libs/mathjax/2.7.5/MathJax.js?config=TeX-AMS-MML_SVG\"></script><script type=\"text/javascript\">if (window.MathJax && window.MathJax.Hub && window.MathJax.Hub.Config) {window.MathJax.Hub.Config({SVG: {font: \"STIX-Web\"}});}</script>                <script type=\"text/javascript\">window.PlotlyConfig = {MathJaxConfig: 'local'};</script>\n",
       "        <script charset=\"utf-8\" src=\"https://cdn.plot.ly/plotly-2.35.2.min.js\"></script>                <div id=\"4473b762-a3ed-4ebe-aec1-4c1b469506e6\" class=\"plotly-graph-div\" style=\"height:525px; width:100%;\"></div>            <script type=\"text/javascript\">                                    window.PLOTLYENV=window.PLOTLYENV || {};                                    if (document.getElementById(\"4473b762-a3ed-4ebe-aec1-4c1b469506e6\")) {                    Plotly.newPlot(                        \"4473b762-a3ed-4ebe-aec1-4c1b469506e6\",                        [{\"alignmentgroup\":\"True\",\"hovertemplate\":\"Categoria=% TI\\u003cbr\\u003eLocalidade=São José dos Campos (SP)\\u003cbr\\u003eAno=%{x}\\u003cbr\\u003e% TI=%{text}\\u003cextra\\u003e\\u003c\\u002fextra\\u003e\",\"legendgroup\":\"% TI\",\"marker\":{\"color\":\"#636efa\",\"pattern\":{\"shape\":\"\"}},\"name\":\"% TI\",\"offsetgroup\":\"% TI\",\"orientation\":\"v\",\"showlegend\":true,\"text\":[6.27,4.25],\"textposition\":\"outside\",\"x\":[\"2010\",\"2022\"],\"xaxis\":\"x\",\"y\":[6.27,4.25],\"yaxis\":\"y\",\"type\":\"bar\",\"texttemplate\":\"%{text}%\"},{\"alignmentgroup\":\"True\",\"hovertemplate\":\"Categoria=% TI\\u003cbr\\u003eLocalidade=São Paulo\\u003cbr\\u003eAno=%{x}\\u003cbr\\u003e% TI=%{text}\\u003cextra\\u003e\\u003c\\u002fextra\\u003e\",\"legendgroup\":\"% TI\",\"marker\":{\"color\":\"#636efa\",\"pattern\":{\"shape\":\"\"}},\"name\":\"% TI\",\"offsetgroup\":\"% TI\",\"orientation\":\"v\",\"showlegend\":false,\"text\":[8.4,4.44],\"textposition\":\"outside\",\"x\":[\"2010\",\"2022\"],\"xaxis\":\"x2\",\"y\":[8.4,4.44],\"yaxis\":\"y2\",\"type\":\"bar\",\"texttemplate\":\"%{text}%\"},{\"alignmentgroup\":\"True\",\"hovertemplate\":\"Categoria=% TI\\u003cbr\\u003eLocalidade=São Paulo (SP)\\u003cbr\\u003eAno=%{x}\\u003cbr\\u003e% TI=%{text}\\u003cextra\\u003e\\u003c\\u002fextra\\u003e\",\"legendgroup\":\"% TI\",\"marker\":{\"color\":\"#636efa\",\"pattern\":{\"shape\":\"\"}},\"name\":\"% TI\",\"offsetgroup\":\"% TI\",\"orientation\":\"v\",\"showlegend\":false,\"text\":[7.57,4.99],\"textposition\":\"outside\",\"x\":[\"2010\",\"2022\"],\"xaxis\":\"x3\",\"y\":[7.57,4.99],\"yaxis\":\"y3\",\"type\":\"bar\",\"texttemplate\":\"%{text}%\"}],                        {\"template\":{\"data\":{\"histogram2dcontour\":[{\"type\":\"histogram2dcontour\",\"colorbar\":{\"outlinewidth\":0,\"ticks\":\"\"},\"colorscale\":[[0.0,\"#0d0887\"],[0.1111111111111111,\"#46039f\"],[0.2222222222222222,\"#7201a8\"],[0.3333333333333333,\"#9c179e\"],[0.4444444444444444,\"#bd3786\"],[0.5555555555555556,\"#d8576b\"],[0.6666666666666666,\"#ed7953\"],[0.7777777777777778,\"#fb9f3a\"],[0.8888888888888888,\"#fdca26\"],[1.0,\"#f0f921\"]]}],\"choropleth\":[{\"type\":\"choropleth\",\"colorbar\":{\"outlinewidth\":0,\"ticks\":\"\"}}],\"histogram2d\":[{\"type\":\"histogram2d\",\"colorbar\":{\"outlinewidth\":0,\"ticks\":\"\"},\"colorscale\":[[0.0,\"#0d0887\"],[0.1111111111111111,\"#46039f\"],[0.2222222222222222,\"#7201a8\"],[0.3333333333333333,\"#9c179e\"],[0.4444444444444444,\"#bd3786\"],[0.5555555555555556,\"#d8576b\"],[0.6666666666666666,\"#ed7953\"],[0.7777777777777778,\"#fb9f3a\"],[0.8888888888888888,\"#fdca26\"],[1.0,\"#f0f921\"]]}],\"heatmap\":[{\"type\":\"heatmap\",\"colorbar\":{\"outlinewidth\":0,\"ticks\":\"\"},\"colorscale\":[[0.0,\"#0d0887\"],[0.1111111111111111,\"#46039f\"],[0.2222222222222222,\"#7201a8\"],[0.3333333333333333,\"#9c179e\"],[0.4444444444444444,\"#bd3786\"],[0.5555555555555556,\"#d8576b\"],[0.6666666666666666,\"#ed7953\"],[0.7777777777777778,\"#fb9f3a\"],[0.8888888888888888,\"#fdca26\"],[1.0,\"#f0f921\"]]}],\"heatmapgl\":[{\"type\":\"heatmapgl\",\"colorbar\":{\"outlinewidth\":0,\"ticks\":\"\"},\"colorscale\":[[0.0,\"#0d0887\"],[0.1111111111111111,\"#46039f\"],[0.2222222222222222,\"#7201a8\"],[0.3333333333333333,\"#9c179e\"],[0.4444444444444444,\"#bd3786\"],[0.5555555555555556,\"#d8576b\"],[0.6666666666666666,\"#ed7953\"],[0.7777777777777778,\"#fb9f3a\"],[0.8888888888888888,\"#fdca26\"],[1.0,\"#f0f921\"]]}],\"contourcarpet\":[{\"type\":\"contourcarpet\",\"colorbar\":{\"outlinewidth\":0,\"ticks\":\"\"}}],\"contour\":[{\"type\":\"contour\",\"colorbar\":{\"outlinewidth\":0,\"ticks\":\"\"},\"colorscale\":[[0.0,\"#0d0887\"],[0.1111111111111111,\"#46039f\"],[0.2222222222222222,\"#7201a8\"],[0.3333333333333333,\"#9c179e\"],[0.4444444444444444,\"#bd3786\"],[0.5555555555555556,\"#d8576b\"],[0.6666666666666666,\"#ed7953\"],[0.7777777777777778,\"#fb9f3a\"],[0.8888888888888888,\"#fdca26\"],[1.0,\"#f0f921\"]]}],\"surface\":[{\"type\":\"surface\",\"colorbar\":{\"outlinewidth\":0,\"ticks\":\"\"},\"colorscale\":[[0.0,\"#0d0887\"],[0.1111111111111111,\"#46039f\"],[0.2222222222222222,\"#7201a8\"],[0.3333333333333333,\"#9c179e\"],[0.4444444444444444,\"#bd3786\"],[0.5555555555555556,\"#d8576b\"],[0.6666666666666666,\"#ed7953\"],[0.7777777777777778,\"#fb9f3a\"],[0.8888888888888888,\"#fdca26\"],[1.0,\"#f0f921\"]]}],\"mesh3d\":[{\"type\":\"mesh3d\",\"colorbar\":{\"outlinewidth\":0,\"ticks\":\"\"}}],\"scatter\":[{\"fillpattern\":{\"fillmode\":\"overlay\",\"size\":10,\"solidity\":0.2},\"type\":\"scatter\"}],\"parcoords\":[{\"type\":\"parcoords\",\"line\":{\"colorbar\":{\"outlinewidth\":0,\"ticks\":\"\"}}}],\"scatterpolargl\":[{\"type\":\"scatterpolargl\",\"marker\":{\"colorbar\":{\"outlinewidth\":0,\"ticks\":\"\"}}}],\"bar\":[{\"error_x\":{\"color\":\"#2a3f5f\"},\"error_y\":{\"color\":\"#2a3f5f\"},\"marker\":{\"line\":{\"color\":\"#E5ECF6\",\"width\":0.5},\"pattern\":{\"fillmode\":\"overlay\",\"size\":10,\"solidity\":0.2}},\"type\":\"bar\"}],\"scattergeo\":[{\"type\":\"scattergeo\",\"marker\":{\"colorbar\":{\"outlinewidth\":0,\"ticks\":\"\"}}}],\"scatterpolar\":[{\"type\":\"scatterpolar\",\"marker\":{\"colorbar\":{\"outlinewidth\":0,\"ticks\":\"\"}}}],\"histogram\":[{\"marker\":{\"pattern\":{\"fillmode\":\"overlay\",\"size\":10,\"solidity\":0.2}},\"type\":\"histogram\"}],\"scattergl\":[{\"type\":\"scattergl\",\"marker\":{\"colorbar\":{\"outlinewidth\":0,\"ticks\":\"\"}}}],\"scatter3d\":[{\"type\":\"scatter3d\",\"line\":{\"colorbar\":{\"outlinewidth\":0,\"ticks\":\"\"}},\"marker\":{\"colorbar\":{\"outlinewidth\":0,\"ticks\":\"\"}}}],\"scattermapbox\":[{\"type\":\"scattermapbox\",\"marker\":{\"colorbar\":{\"outlinewidth\":0,\"ticks\":\"\"}}}],\"scatterternary\":[{\"type\":\"scatterternary\",\"marker\":{\"colorbar\":{\"outlinewidth\":0,\"ticks\":\"\"}}}],\"scattercarpet\":[{\"type\":\"scattercarpet\",\"marker\":{\"colorbar\":{\"outlinewidth\":0,\"ticks\":\"\"}}}],\"carpet\":[{\"aaxis\":{\"endlinecolor\":\"#2a3f5f\",\"gridcolor\":\"white\",\"linecolor\":\"white\",\"minorgridcolor\":\"white\",\"startlinecolor\":\"#2a3f5f\"},\"baxis\":{\"endlinecolor\":\"#2a3f5f\",\"gridcolor\":\"white\",\"linecolor\":\"white\",\"minorgridcolor\":\"white\",\"startlinecolor\":\"#2a3f5f\"},\"type\":\"carpet\"}],\"table\":[{\"cells\":{\"fill\":{\"color\":\"#EBF0F8\"},\"line\":{\"color\":\"white\"}},\"header\":{\"fill\":{\"color\":\"#C8D4E3\"},\"line\":{\"color\":\"white\"}},\"type\":\"table\"}],\"barpolar\":[{\"marker\":{\"line\":{\"color\":\"#E5ECF6\",\"width\":0.5},\"pattern\":{\"fillmode\":\"overlay\",\"size\":10,\"solidity\":0.2}},\"type\":\"barpolar\"}],\"pie\":[{\"automargin\":true,\"type\":\"pie\"}]},\"layout\":{\"autotypenumbers\":\"strict\",\"colorway\":[\"#636efa\",\"#EF553B\",\"#00cc96\",\"#ab63fa\",\"#FFA15A\",\"#19d3f3\",\"#FF6692\",\"#B6E880\",\"#FF97FF\",\"#FECB52\"],\"font\":{\"color\":\"#2a3f5f\"},\"hovermode\":\"closest\",\"hoverlabel\":{\"align\":\"left\"},\"paper_bgcolor\":\"white\",\"plot_bgcolor\":\"#E5ECF6\",\"polar\":{\"bgcolor\":\"#E5ECF6\",\"angularaxis\":{\"gridcolor\":\"white\",\"linecolor\":\"white\",\"ticks\":\"\"},\"radialaxis\":{\"gridcolor\":\"white\",\"linecolor\":\"white\",\"ticks\":\"\"}},\"ternary\":{\"bgcolor\":\"#E5ECF6\",\"aaxis\":{\"gridcolor\":\"white\",\"linecolor\":\"white\",\"ticks\":\"\"},\"baxis\":{\"gridcolor\":\"white\",\"linecolor\":\"white\",\"ticks\":\"\"},\"caxis\":{\"gridcolor\":\"white\",\"linecolor\":\"white\",\"ticks\":\"\"}},\"coloraxis\":{\"colorbar\":{\"outlinewidth\":0,\"ticks\":\"\"}},\"colorscale\":{\"sequential\":[[0.0,\"#0d0887\"],[0.1111111111111111,\"#46039f\"],[0.2222222222222222,\"#7201a8\"],[0.3333333333333333,\"#9c179e\"],[0.4444444444444444,\"#bd3786\"],[0.5555555555555556,\"#d8576b\"],[0.6666666666666666,\"#ed7953\"],[0.7777777777777778,\"#fb9f3a\"],[0.8888888888888888,\"#fdca26\"],[1.0,\"#f0f921\"]],\"sequentialminus\":[[0.0,\"#0d0887\"],[0.1111111111111111,\"#46039f\"],[0.2222222222222222,\"#7201a8\"],[0.3333333333333333,\"#9c179e\"],[0.4444444444444444,\"#bd3786\"],[0.5555555555555556,\"#d8576b\"],[0.6666666666666666,\"#ed7953\"],[0.7777777777777778,\"#fb9f3a\"],[0.8888888888888888,\"#fdca26\"],[1.0,\"#f0f921\"]],\"diverging\":[[0,\"#8e0152\"],[0.1,\"#c51b7d\"],[0.2,\"#de77ae\"],[0.3,\"#f1b6da\"],[0.4,\"#fde0ef\"],[0.5,\"#f7f7f7\"],[0.6,\"#e6f5d0\"],[0.7,\"#b8e186\"],[0.8,\"#7fbc41\"],[0.9,\"#4d9221\"],[1,\"#276419\"]]},\"xaxis\":{\"gridcolor\":\"white\",\"linecolor\":\"white\",\"ticks\":\"\",\"title\":{\"standoff\":15},\"zerolinecolor\":\"white\",\"automargin\":true,\"zerolinewidth\":2},\"yaxis\":{\"gridcolor\":\"white\",\"linecolor\":\"white\",\"ticks\":\"\",\"title\":{\"standoff\":15},\"zerolinecolor\":\"white\",\"automargin\":true,\"zerolinewidth\":2},\"scene\":{\"xaxis\":{\"backgroundcolor\":\"#E5ECF6\",\"gridcolor\":\"white\",\"linecolor\":\"white\",\"showbackground\":true,\"ticks\":\"\",\"zerolinecolor\":\"white\",\"gridwidth\":2},\"yaxis\":{\"backgroundcolor\":\"#E5ECF6\",\"gridcolor\":\"white\",\"linecolor\":\"white\",\"showbackground\":true,\"ticks\":\"\",\"zerolinecolor\":\"white\",\"gridwidth\":2},\"zaxis\":{\"backgroundcolor\":\"#E5ECF6\",\"gridcolor\":\"white\",\"linecolor\":\"white\",\"showbackground\":true,\"ticks\":\"\",\"zerolinecolor\":\"white\",\"gridwidth\":2}},\"shapedefaults\":{\"line\":{\"color\":\"#2a3f5f\"}},\"annotationdefaults\":{\"arrowcolor\":\"#2a3f5f\",\"arrowhead\":0,\"arrowwidth\":1},\"geo\":{\"bgcolor\":\"white\",\"landcolor\":\"#E5ECF6\",\"subunitcolor\":\"white\",\"showland\":true,\"showlakes\":true,\"lakecolor\":\"white\"},\"title\":{\"x\":0.05},\"mapbox\":{\"style\":\"light\"}}},\"xaxis\":{\"anchor\":\"y\",\"domain\":[0.0,0.31999999999999995],\"title\":{\"text\":\"Ano\"}},\"yaxis\":{\"anchor\":\"x\",\"domain\":[0.0,1.0],\"title\":{\"text\":\"% de Formandos em TI\"}},\"xaxis2\":{\"anchor\":\"y2\",\"domain\":[0.33999999999999997,0.6599999999999999],\"matches\":\"x\",\"title\":{\"text\":\"Ano\"}},\"yaxis2\":{\"anchor\":\"x2\",\"domain\":[0.0,1.0],\"matches\":\"y\",\"showticklabels\":false},\"xaxis3\":{\"anchor\":\"y3\",\"domain\":[0.6799999999999999,0.9999999999999999],\"matches\":\"x\",\"title\":{\"text\":\"Ano\"}},\"yaxis3\":{\"anchor\":\"x3\",\"domain\":[0.0,1.0],\"matches\":\"y\",\"showticklabels\":false},\"annotations\":[{\"font\":{},\"showarrow\":false,\"text\":\"São José dos Campos (SP)\",\"x\":0.15999999999999998,\"xanchor\":\"center\",\"xref\":\"paper\",\"y\":1.0,\"yanchor\":\"bottom\",\"yref\":\"paper\"},{\"font\":{},\"showarrow\":false,\"text\":\"São Paulo\",\"x\":0.49999999999999994,\"xanchor\":\"center\",\"xref\":\"paper\",\"y\":1.0,\"yanchor\":\"bottom\",\"yref\":\"paper\"},{\"font\":{},\"showarrow\":false,\"text\":\"São Paulo (SP)\",\"x\":0.8399999999999999,\"xanchor\":\"center\",\"xref\":\"paper\",\"y\":1.0,\"yanchor\":\"bottom\",\"yref\":\"paper\"}],\"legend\":{\"title\":{\"text\":\"Indicador\"},\"tracegroupgap\":0},\"title\":{\"text\":\"Proporção de Formandos em TI: São José dos Campos vs São Paulo (2010 e 2022)\"},\"barmode\":\"group\",\"uniformtext\":{\"minsize\":10,\"mode\":\"hide\"},\"margin\":{\"t\":80,\"b\":50},\"font\":{\"size\":12}},                        {\"responsive\": true}                    ).then(function(){\n",
       "                            \n",
       "var gd = document.getElementById('4473b762-a3ed-4ebe-aec1-4c1b469506e6');\n",
       "var x = new MutationObserver(function (mutations, observer) {{\n",
       "        var display = window.getComputedStyle(gd).display;\n",
       "        if (!display || display === 'none') {{\n",
       "            console.log([gd, 'removed!']);\n",
       "            Plotly.purge(gd);\n",
       "            observer.disconnect();\n",
       "        }}\n",
       "}});\n",
       "\n",
       "// Listen for the removal of the full notebook cells\n",
       "var notebookContainer = gd.closest('#notebook-container');\n",
       "if (notebookContainer) {{\n",
       "    x.observe(notebookContainer, {childList: true});\n",
       "}}\n",
       "\n",
       "// Listen for the clearing of the current output cell\n",
       "var outputEl = gd.closest('.output');\n",
       "if (outputEl) {{\n",
       "    x.observe(outputEl, {childList: true});\n",
       "}}\n",
       "\n",
       "                        })                };                            </script>        </div>\n",
       "</body>\n",
       "</html>"
      ]
     },
     "metadata": {},
     "output_type": "display_data"
    }
   ],
   "source": [
    "#atribuindo os dados de 2010\n",
    "dados_2010 = [\n",
    "    ['São José dos Campos (SP)', 67827, 4252],\n",
    "    ['São Paulo', 3924436, 329590],\n",
    "    ['São Paulo (SP)', 1570884, 118902]\n",
    "]\n",
    "\n",
    "df_2010 = pd.DataFrame(dados_2010, columns=[\"Localidade\", \"Total Formandos\", \"Formandos TI\"])\n",
    "df_2010[\"Ano\"] = 2010\n",
    "df_2010[\"% TI\"] = (df_2010[\"Formandos TI\"] / df_2010[\"Total Formandos\"] * 100).round(2)\n",
    "\n",
    "#atribuindo os dados de 2022\n",
    "dados_2022 = [\n",
    "    ['São José dos Campos (SP)', 142053, 6041],\n",
    "    ['São Paulo', 7478587, 331924],\n",
    "    ['São Paulo (SP)', 2512570, 125296]\n",
    "]\n",
    "\n",
    "df_2022 = pd.DataFrame(dados_2022, columns=[\"Localidade\", \"Total Formandos\", \"Formandos TI\"])\n",
    "df_2022[\"Ano\"] = 2022\n",
    "df_2022[\"% TI\"] = (df_2022[\"Formandos TI\"] / df_2022[\"Total Formandos\"] * 100).round(2)\n",
    "\n",
    "#combinando os dataframes\n",
    "df_comb = pd.concat([df_2010, df_2022])\n",
    "\n",
    "#formatando um dataframe para os gráficos\n",
    "df_percentual = df_comb[[\"Localidade\", \"Ano\", \"% TI\"]].copy()\n",
    "df_percentual[\"Categoria\"] = \"% TI\"\n",
    "\n",
    "#arrumando o ano das tabelas\n",
    "df_percentual[\"Ano\"] = df_percentual[\"Ano\"].astype(str)\n",
    "\n",
    "#gráficos\n",
    "fig = px.bar(\n",
    "    df_percentual,\n",
    "    x=\"Ano\",\n",
    "    y=\"% TI\",\n",
    "    color=\"Categoria\",\n",
    "    text=\"% TI\",\n",
    "    barmode=\"group\",\n",
    "    facet_col=\"Localidade\",\n",
    "    title=\"Proporção de Formandos em TI: São José dos Campos vs São Paulo (2010 e 2022)\",\n",
    "    color_discrete_map={\"% TI\": \"#636efa\"}\n",
    ")\n",
    "\n",
    "fig.update_traces(texttemplate=\"%{text}%\", textposition=\"outside\")\n",
    "fig.update_layout(\n",
    "    uniformtext_minsize=10,\n",
    "    uniformtext_mode=\"hide\",\n",
    "    yaxis_title=\"% de Formandos em TI\",\n",
    "    legend_title=\"Indicador\",\n",
    "    margin=dict(t=80, b=50),\n",
    "    font=dict(size=12),\n",
    "    xaxis_title=\"Ano\"\n",
    ")\n",
    "\n",
    "#removendo “Localidade=” dos títulos dos gráficos\n",
    "fig.for_each_annotation(lambda a: a.update(text=a.text.split(\"=\")[-1]))\n",
    "\n",
    "fig.show()"
   ]
  },
  {
   "cell_type": "markdown",
   "metadata": {
    "id": "NKJrtEprZlkK"
   },
   "source": [
    "EXPORTAÇÃO DO GRÁFICO PARA ARQUIVO JSON (A EXECUÇÃO DESTA LINHA É OPCINAL)"
   ]
  },
  {
   "cell_type": "code",
   "execution_count": null,
   "metadata": {
    "colab": {
     "base_uri": "https://localhost:8080/",
     "height": 17
    },
    "executionInfo": {
     "elapsed": 52,
     "status": "ok",
     "timestamp": 1761402856592,
     "user": {
      "displayName": "Guilherme",
      "userId": "17933761807338123732"
     },
     "user_tz": 180
    },
    "id": "7ajRaEu_Te_6",
    "outputId": "c4fc7d66-353e-43d0-ef06-1505d68b5528"
   },
   "outputs": [
    {
     "data": {
      "application/javascript": "\n    async function download(id, filename, size) {\n      if (!google.colab.kernel.accessAllowed) {\n        return;\n      }\n      const div = document.createElement('div');\n      const label = document.createElement('label');\n      label.textContent = `Downloading \"${filename}\": `;\n      div.appendChild(label);\n      const progress = document.createElement('progress');\n      progress.max = size;\n      div.appendChild(progress);\n      document.body.appendChild(div);\n\n      const buffers = [];\n      let downloaded = 0;\n\n      const channel = await google.colab.kernel.comms.open(id);\n      // Send a message to notify the kernel that we're ready.\n      channel.send({})\n\n      for await (const message of channel.messages) {\n        // Send a message to notify the kernel that we're ready.\n        channel.send({})\n        if (message.buffers) {\n          for (const buffer of message.buffers) {\n            buffers.push(buffer);\n            downloaded += buffer.byteLength;\n            progress.value = downloaded;\n          }\n        }\n      }\n      const blob = new Blob(buffers, {type: 'application/binary'});\n      const a = document.createElement('a');\n      a.href = window.URL.createObjectURL(blob);\n      a.download = filename;\n      div.appendChild(a);\n      a.click();\n      div.remove();\n    }\n  ",
      "text/plain": [
       "<IPython.core.display.Javascript object>"
      ]
     },
     "metadata": {},
     "output_type": "display_data"
    },
    {
     "data": {
      "application/javascript": "download(\"download_111b2940-a1df-427e-94ec-117256d5c53a\", \"grafico_proporcao_formacao_ti_2010_2022.json\", 10450)",
      "text/plain": [
       "<IPython.core.display.Javascript object>"
      ]
     },
     "metadata": {},
     "output_type": "display_data"
    }
   ],
   "source": [
    "#salva o arquivo JSON\n",
    "grafico_proporcao_formacao_ti_2010_2022 = json.dumps(fig, cls=PlotlyJSONEncoder)\n",
    "\n",
    "with open(\"grafico_proporcao_formacao_ti_2010_2022.json\", \"w\") as f:\n",
    "    f.write(grafico_proporcao_formacao_ti_2010_2022)\n",
    "\n",
    "#faz o download\n",
    "files.download(\"grafico_proporcao_formacao_ti_2010_2022.json\")"
   ]
  },
  {
   "cell_type": "code",
   "execution_count": null,
   "metadata": {
    "id": "V-cwsARWsM3U"
   },
   "outputs": [],
   "source": []
  }
 ],
 "metadata": {
  "colab": {
   "collapsed_sections": [
    "FwGZLBtz80Ab",
    "itY6XIxgKMch",
    "-QoiqHuDjAiA",
    "CcVd_PtI2KpP",
    "qwrLuzYKPgQe"
   ],
   "provenance": []
  },
  "kernelspec": {
   "display_name": "Python 3",
   "name": "python3"
  },
  "language_info": {
   "name": "python"
  }
 },
 "nbformat": 4,
 "nbformat_minor": 0
}
